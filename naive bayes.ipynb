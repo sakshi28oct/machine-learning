{
 "cells": [
  {
   "cell_type": "code",
   "execution_count": 3,
   "id": "9c5cedbb",
   "metadata": {},
   "outputs": [],
   "source": [
    "import pandas as pd"
   ]
  },
  {
   "cell_type": "code",
   "execution_count": 7,
   "id": "8dc89b76",
   "metadata": {},
   "outputs": [],
   "source": [
    "mp= pd.read_csv(r\"D:\\Data Science\\python\\trainRF.csv\")"
   ]
  },
  {
   "cell_type": "code",
   "execution_count": 9,
   "id": "2ce6cf4c",
   "metadata": {},
   "outputs": [],
   "source": [
    "from sklearn.model_selection import  train_test_split\n"
   ]
  },
  {
   "cell_type": "code",
   "execution_count": 11,
   "id": "3b294276",
   "metadata": {},
   "outputs": [],
   "source": [
    "mp_train,mp_test= train_test_split(mp, test_size=.2)"
   ]
  },
  {
   "cell_type": "code",
   "execution_count": 12,
   "id": "893b123d",
   "metadata": {},
   "outputs": [],
   "source": [
    "train_x= mp_train.iloc[:,0:-1]\n",
    "train_y=mp_train.iloc[:,-1]\n",
    "\n",
    "\n",
    "test_x= mp_test.iloc[:,0:-1]\n",
    "test_y=mp_test.iloc[:,-1]\n"
   ]
  },
  {
   "cell_type": "code",
   "execution_count": null,
   "id": "c8a29f06",
   "metadata": {},
   "outputs": [],
   "source": [
    "from sklearn.tree import DecisionTreeClassifier\n",
    "dt = DecisionTreeClassifier()\n",
    "\n",
    "\n",
    "dt.fit(train_x,train_y)\n",
    "pred_dt_test= dt.predict(test_x)\n",
    "\n",
    "from sklearn.metrics import confusion_matrix\n",
    "tab_dt "
   ]
  },
  {
   "cell_type": "code",
   "execution_count": null,
   "id": "2acfd5b9",
   "metadata": {},
   "outputs": [],
   "source": []
  },
  {
   "cell_type": "code",
   "execution_count": 13,
   "id": "54721534",
   "metadata": {},
   "outputs": [],
   "source": [
    "from sklearn.naive_bayes import MultinomialNB\n",
    "nb= MultinomialNB()"
   ]
  },
  {
   "cell_type": "code",
   "execution_count": 14,
   "id": "e23e9880",
   "metadata": {},
   "outputs": [
    {
     "data": {
      "text/plain": [
       "array([[70, 28, 10,  1],\n",
       "       [23, 44, 27, 18],\n",
       "       [ 4, 17, 27, 43],\n",
       "       [ 0, 13, 25, 50]], dtype=int64)"
      ]
     },
     "execution_count": 14,
     "metadata": {},
     "output_type": "execute_result"
    }
   ],
   "source": [
    "nb.fit(train_x,train_y)\n",
    "pred_nb_test = nb.predict(test_x)\n",
    "\n",
    "from sklearn.metrics import confusion_matrix\n",
    "tab_nb = confusion_matrix(test_y,pred_nb_test)\n",
    "tab_nb"
   ]
  },
  {
   "cell_type": "code",
   "execution_count": 15,
   "id": "67969535",
   "metadata": {},
   "outputs": [
    {
     "data": {
      "text/plain": [
       "47.75"
      ]
     },
     "execution_count": 15,
     "metadata": {},
     "output_type": "execute_result"
    }
   ],
   "source": [
    "tab_nb.diagonal().sum()*100/tab_nb.sum()"
   ]
  }
 ],
 "metadata": {
  "kernelspec": {
   "display_name": "Python 3 (ipykernel)",
   "language": "python",
   "name": "python3"
  },
  "language_info": {
   "codemirror_mode": {
    "name": "ipython",
    "version": 3
   },
   "file_extension": ".py",
   "mimetype": "text/x-python",
   "name": "python",
   "nbconvert_exporter": "python",
   "pygments_lexer": "ipython3",
   "version": "3.10.9"
  }
 },
 "nbformat": 4,
 "nbformat_minor": 5
}
