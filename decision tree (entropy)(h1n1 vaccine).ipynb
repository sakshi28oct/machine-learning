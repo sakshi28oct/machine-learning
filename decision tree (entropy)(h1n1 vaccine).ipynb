{
 "cells": [
  {
   "cell_type": "code",
   "execution_count": 1,
   "id": "4b616eac",
   "metadata": {},
   "outputs": [],
   "source": [
    "import pandas as pd"
   ]
  },
  {
   "cell_type": "code",
   "execution_count": 2,
   "id": "d1bf21a5",
   "metadata": {},
   "outputs": [],
   "source": [
    "vac=pd.read_csv(\"D:\\Data Science\\python\\h1n1_vaccine_prediction.csv\")"
   ]
  },
  {
   "cell_type": "code",
   "execution_count": 3,
   "id": "d9198326",
   "metadata": {},
   "outputs": [
    {
     "data": {
      "text/html": [
       "<div>\n",
       "<style scoped>\n",
       "    .dataframe tbody tr th:only-of-type {\n",
       "        vertical-align: middle;\n",
       "    }\n",
       "\n",
       "    .dataframe tbody tr th {\n",
       "        vertical-align: top;\n",
       "    }\n",
       "\n",
       "    .dataframe thead th {\n",
       "        text-align: right;\n",
       "    }\n",
       "</style>\n",
       "<table border=\"1\" class=\"dataframe\">\n",
       "  <thead>\n",
       "    <tr style=\"text-align: right;\">\n",
       "      <th></th>\n",
       "      <th>unique_id</th>\n",
       "      <th>h1n1_worry</th>\n",
       "      <th>h1n1_awareness</th>\n",
       "      <th>antiviral_medication</th>\n",
       "      <th>contact_avoidance</th>\n",
       "      <th>bought_face_mask</th>\n",
       "      <th>wash_hands_frequently</th>\n",
       "      <th>avoid_large_gatherings</th>\n",
       "      <th>reduced_outside_home_cont</th>\n",
       "      <th>avoid_touch_face</th>\n",
       "      <th>...</th>\n",
       "      <th>race</th>\n",
       "      <th>sex</th>\n",
       "      <th>income_level</th>\n",
       "      <th>marital_status</th>\n",
       "      <th>housing_status</th>\n",
       "      <th>employment</th>\n",
       "      <th>census_msa</th>\n",
       "      <th>no_of_adults</th>\n",
       "      <th>no_of_children</th>\n",
       "      <th>h1n1_vaccine</th>\n",
       "    </tr>\n",
       "  </thead>\n",
       "  <tbody>\n",
       "    <tr>\n",
       "      <th>0</th>\n",
       "      <td>0</td>\n",
       "      <td>1.0</td>\n",
       "      <td>0.0</td>\n",
       "      <td>0.0</td>\n",
       "      <td>0.0</td>\n",
       "      <td>0.0</td>\n",
       "      <td>0.0</td>\n",
       "      <td>0.0</td>\n",
       "      <td>1.0</td>\n",
       "      <td>1.0</td>\n",
       "      <td>...</td>\n",
       "      <td>White</td>\n",
       "      <td>Female</td>\n",
       "      <td>Below Poverty</td>\n",
       "      <td>Not Married</td>\n",
       "      <td>Own</td>\n",
       "      <td>Not in Labor Force</td>\n",
       "      <td>Non-MSA</td>\n",
       "      <td>0.0</td>\n",
       "      <td>0.0</td>\n",
       "      <td>0</td>\n",
       "    </tr>\n",
       "    <tr>\n",
       "      <th>1</th>\n",
       "      <td>1</td>\n",
       "      <td>3.0</td>\n",
       "      <td>2.0</td>\n",
       "      <td>0.0</td>\n",
       "      <td>1.0</td>\n",
       "      <td>0.0</td>\n",
       "      <td>1.0</td>\n",
       "      <td>0.0</td>\n",
       "      <td>1.0</td>\n",
       "      <td>1.0</td>\n",
       "      <td>...</td>\n",
       "      <td>White</td>\n",
       "      <td>Male</td>\n",
       "      <td>Below Poverty</td>\n",
       "      <td>Not Married</td>\n",
       "      <td>Rent</td>\n",
       "      <td>Employed</td>\n",
       "      <td>MSA, Not Principle  City</td>\n",
       "      <td>0.0</td>\n",
       "      <td>0.0</td>\n",
       "      <td>0</td>\n",
       "    </tr>\n",
       "    <tr>\n",
       "      <th>2</th>\n",
       "      <td>2</td>\n",
       "      <td>1.0</td>\n",
       "      <td>1.0</td>\n",
       "      <td>0.0</td>\n",
       "      <td>1.0</td>\n",
       "      <td>0.0</td>\n",
       "      <td>0.0</td>\n",
       "      <td>0.0</td>\n",
       "      <td>0.0</td>\n",
       "      <td>0.0</td>\n",
       "      <td>...</td>\n",
       "      <td>White</td>\n",
       "      <td>Male</td>\n",
       "      <td>&lt;= $75,000, Above Poverty</td>\n",
       "      <td>Not Married</td>\n",
       "      <td>Own</td>\n",
       "      <td>Employed</td>\n",
       "      <td>MSA, Not Principle  City</td>\n",
       "      <td>2.0</td>\n",
       "      <td>0.0</td>\n",
       "      <td>0</td>\n",
       "    </tr>\n",
       "    <tr>\n",
       "      <th>3</th>\n",
       "      <td>3</td>\n",
       "      <td>1.0</td>\n",
       "      <td>1.0</td>\n",
       "      <td>0.0</td>\n",
       "      <td>1.0</td>\n",
       "      <td>0.0</td>\n",
       "      <td>1.0</td>\n",
       "      <td>1.0</td>\n",
       "      <td>0.0</td>\n",
       "      <td>0.0</td>\n",
       "      <td>...</td>\n",
       "      <td>White</td>\n",
       "      <td>Female</td>\n",
       "      <td>Below Poverty</td>\n",
       "      <td>Not Married</td>\n",
       "      <td>Rent</td>\n",
       "      <td>Not in Labor Force</td>\n",
       "      <td>MSA, Principle City</td>\n",
       "      <td>0.0</td>\n",
       "      <td>0.0</td>\n",
       "      <td>0</td>\n",
       "    </tr>\n",
       "    <tr>\n",
       "      <th>4</th>\n",
       "      <td>4</td>\n",
       "      <td>2.0</td>\n",
       "      <td>1.0</td>\n",
       "      <td>0.0</td>\n",
       "      <td>1.0</td>\n",
       "      <td>0.0</td>\n",
       "      <td>1.0</td>\n",
       "      <td>1.0</td>\n",
       "      <td>0.0</td>\n",
       "      <td>1.0</td>\n",
       "      <td>...</td>\n",
       "      <td>White</td>\n",
       "      <td>Female</td>\n",
       "      <td>&lt;= $75,000, Above Poverty</td>\n",
       "      <td>Married</td>\n",
       "      <td>Own</td>\n",
       "      <td>Employed</td>\n",
       "      <td>MSA, Not Principle  City</td>\n",
       "      <td>1.0</td>\n",
       "      <td>0.0</td>\n",
       "      <td>0</td>\n",
       "    </tr>\n",
       "  </tbody>\n",
       "</table>\n",
       "<p>5 rows × 34 columns</p>\n",
       "</div>"
      ],
      "text/plain": [
       "   unique_id  h1n1_worry  h1n1_awareness  antiviral_medication  \\\n",
       "0          0         1.0             0.0                   0.0   \n",
       "1          1         3.0             2.0                   0.0   \n",
       "2          2         1.0             1.0                   0.0   \n",
       "3          3         1.0             1.0                   0.0   \n",
       "4          4         2.0             1.0                   0.0   \n",
       "\n",
       "   contact_avoidance  bought_face_mask  wash_hands_frequently  \\\n",
       "0                0.0               0.0                    0.0   \n",
       "1                1.0               0.0                    1.0   \n",
       "2                1.0               0.0                    0.0   \n",
       "3                1.0               0.0                    1.0   \n",
       "4                1.0               0.0                    1.0   \n",
       "\n",
       "   avoid_large_gatherings  reduced_outside_home_cont  avoid_touch_face  ...  \\\n",
       "0                     0.0                        1.0               1.0  ...   \n",
       "1                     0.0                        1.0               1.0  ...   \n",
       "2                     0.0                        0.0               0.0  ...   \n",
       "3                     1.0                        0.0               0.0  ...   \n",
       "4                     1.0                        0.0               1.0  ...   \n",
       "\n",
       "    race     sex               income_level  marital_status  housing_status  \\\n",
       "0  White  Female              Below Poverty     Not Married             Own   \n",
       "1  White    Male              Below Poverty     Not Married            Rent   \n",
       "2  White    Male  <= $75,000, Above Poverty     Not Married             Own   \n",
       "3  White  Female              Below Poverty     Not Married            Rent   \n",
       "4  White  Female  <= $75,000, Above Poverty         Married             Own   \n",
       "\n",
       "           employment                census_msa  no_of_adults  no_of_children  \\\n",
       "0  Not in Labor Force                   Non-MSA           0.0             0.0   \n",
       "1            Employed  MSA, Not Principle  City           0.0             0.0   \n",
       "2            Employed  MSA, Not Principle  City           2.0             0.0   \n",
       "3  Not in Labor Force       MSA, Principle City           0.0             0.0   \n",
       "4            Employed  MSA, Not Principle  City           1.0             0.0   \n",
       "\n",
       "   h1n1_vaccine  \n",
       "0             0  \n",
       "1             0  \n",
       "2             0  \n",
       "3             0  \n",
       "4             0  \n",
       "\n",
       "[5 rows x 34 columns]"
      ]
     },
     "execution_count": 3,
     "metadata": {},
     "output_type": "execute_result"
    }
   ],
   "source": [
    "vac.head()"
   ]
  },
  {
   "cell_type": "code",
   "execution_count": 4,
   "id": "87966dee",
   "metadata": {},
   "outputs": [],
   "source": [
    "# data cleaning"
   ]
  },
  {
   "cell_type": "code",
   "execution_count": 5,
   "id": "16942e6f",
   "metadata": {},
   "outputs": [
    {
     "data": {
      "text/plain": [
       "h1n1_worry                      92\n",
       "h1n1_awareness                 116\n",
       "antiviral_medication            71\n",
       "contact_avoidance              208\n",
       "bought_face_mask                19\n",
       "wash_hands_frequently           42\n",
       "avoid_large_gatherings          87\n",
       "reduced_outside_home_cont       82\n",
       "avoid_touch_face               128\n",
       "dr_recc_h1n1_vacc             2160\n",
       "dr_recc_seasonal_vacc         2160\n",
       "chronic_medic_condition        971\n",
       "cont_child_undr_6_mnths        820\n",
       "is_health_worker               804\n",
       "has_health_insur             12274\n",
       "is_h1n1_vacc_effective         391\n",
       "is_h1n1_risky                  388\n",
       "sick_from_h1n1_vacc            395\n",
       "is_seas_vacc_effective         462\n",
       "is_seas_risky                  514\n",
       "sick_from_seas_vacc            537\n",
       "qualification                 1407\n",
       "income_level                  4423\n",
       "marital_status                1408\n",
       "housing_status                2042\n",
       "employment                    1463\n",
       "no_of_adults                   249\n",
       "no_of_children                 249\n",
       "dtype: int64"
      ]
     },
     "execution_count": 5,
     "metadata": {},
     "output_type": "execute_result"
    }
   ],
   "source": [
    "vac.isnull().sum()[vac.isnull().sum()>0]"
   ]
  },
  {
   "cell_type": "code",
   "execution_count": 6,
   "id": "5463c291",
   "metadata": {},
   "outputs": [],
   "source": [
    "vac.h1n1_worry.fillna(2, inplace = True)\n",
    "vac.h1n1_awareness.fillna(1, inplace = True)\n",
    "vac.antiviral_medication.fillna(0, inplace = True)\n",
    "vac.contact_avoidance.fillna(1, inplace = True)\n",
    "vac.bought_face_mask.fillna(0, inplace = True)\n",
    "vac.wash_hands_frequently.fillna(1, inplace = True)\n",
    "vac.avoid_large_gatherings.fillna(0, inplace = True)\n",
    "vac.reduced_outside_home_cont.fillna(0, inplace = True)\n",
    "vac.avoid_touch_face.fillna(1, inplace = True)\n",
    "vac.dr_recc_h1n1_vacc.fillna(0, inplace = True)\n",
    "vac.dr_recc_seasonal_vacc.fillna(0, inplace = True)\n",
    "vac.chronic_medic_condition.fillna(0, inplace = True)\n",
    "vac.cont_child_undr_6_mnths.fillna(0, inplace = True)\n",
    "vac.is_health_worker.fillna(0, inplace = True)\n",
    "vac.has_health_insur.fillna(1, inplace = True)\n",
    "vac.is_h1n1_vacc_effective.fillna(4, inplace = True)\n",
    "vac.is_h1n1_risky.fillna(2, inplace = True)\n",
    "vac.sick_from_h1n1_vacc.fillna(2, inplace = True)\n",
    "vac.is_seas_vacc_effective.fillna(4, inplace = True)\n",
    "vac.is_seas_risky.fillna(2, inplace = True)\n",
    "vac.sick_from_seas_vacc.fillna(1, inplace = True)\n",
    "vac.qualification.fillna('College Graduate', inplace = True)\n",
    "vac.income_level.fillna('<= $75,000, Above Poverty', inplace = True)\n",
    "vac.marital_status.fillna('Married', inplace = True)\n",
    "vac.housing_status.fillna('Own', inplace = True)\n",
    "vac.employment.fillna('Employed', inplace = True)\n",
    "vac.no_of_adults.fillna(1, inplace = True)\n",
    "vac.no_of_children.fillna(0, inplace = True)"
   ]
  },
  {
   "cell_type": "code",
   "execution_count": 7,
   "id": "cf185f61",
   "metadata": {},
   "outputs": [],
   "source": [
    "from sklearn.preprocessing import LabelEncoder\n",
    "le = LabelEncoder()"
   ]
  },
  {
   "cell_type": "code",
   "execution_count": 8,
   "id": "229d1ea4",
   "metadata": {},
   "outputs": [],
   "source": [
    "#vac[vac.select_dtypes(include = 'object').columns] = vac[vac.select_dtypes(include = 'object').columns].apply(le.fit_transform)\n",
    "vac[vac.select_dtypes(include='object').columns]=vac[vac.select_dtypes(include='object').columns].apply(le.fit_transform)"
   ]
  },
  {
   "cell_type": "code",
   "execution_count": 9,
   "id": "09dc5143",
   "metadata": {},
   "outputs": [],
   "source": [
    "vac1=vac"
   ]
  },
  {
   "cell_type": "code",
   "execution_count": 10,
   "id": "cb342a66",
   "metadata": {},
   "outputs": [],
   "source": [
    "vac= vac.drop([\"unique_id\"],axis=1)"
   ]
  },
  {
   "cell_type": "code",
   "execution_count": 11,
   "id": "3212974d",
   "metadata": {},
   "outputs": [],
   "source": [
    "#sampling"
   ]
  },
  {
   "cell_type": "code",
   "execution_count": 12,
   "id": "6bfd3827",
   "metadata": {},
   "outputs": [],
   "source": [
    "from sklearn.model_selection import train_test_split\n",
    "train_vac,test_vac=train_test_split(vac,test_size=.2)"
   ]
  },
  {
   "cell_type": "code",
   "execution_count": 13,
   "id": "93a30e55",
   "metadata": {},
   "outputs": [],
   "source": [
    "#over sampling\n",
    "# df= train_vac[train_vac.h1n1_vaccine==1]\n",
    "# train_vac =pd.concat([train_vac,df])"
   ]
  },
  {
   "cell_type": "code",
   "execution_count": 14,
   "id": "2771e796",
   "metadata": {},
   "outputs": [],
   "source": [
    "train_y=train_vac.h1n1_vaccine\n",
    "test_y=test_vac.h1n1_vaccine\n",
    "\n",
    "train_x=train_vac.iloc[::,:-1]\n",
    "test_x= test_vac.iloc[:,:-1]"
   ]
  },
  {
   "cell_type": "code",
   "execution_count": 15,
   "id": "ba2470b6",
   "metadata": {},
   "outputs": [
    {
     "name": "stderr",
     "output_type": "stream",
     "text": [
      "C:\\ProgramData\\anaconda3\\lib\\site-packages\\sklearn\\linear_model\\_logistic.py:458: ConvergenceWarning: lbfgs failed to converge (status=1):\n",
      "STOP: TOTAL NO. of ITERATIONS REACHED LIMIT.\n",
      "\n",
      "Increase the number of iterations (max_iter) or scale the data as shown in:\n",
      "    https://scikit-learn.org/stable/modules/preprocessing.html\n",
      "Please also refer to the documentation for alternative solver options:\n",
      "    https://scikit-learn.org/stable/modules/linear_model.html#logistic-regression\n",
      "  n_iter_i = _check_optimize_result(\n"
     ]
    }
   ],
   "source": [
    "from sklearn.linear_model import LogisticRegression\n",
    "logreg=LogisticRegression()\n",
    "logreg.fit(train_x,train_y)\n",
    "pred= logreg.predict(test_x)"
   ]
  },
  {
   "cell_type": "code",
   "execution_count": 32,
   "id": "b40a6208",
   "metadata": {},
   "outputs": [],
   "source": [
    "from sklearn.metrics import *\n",
    "from sklearn.tree import DecisionTreeClassifier\n",
    "dt=DecisionTreeClassifier(criterion=\"entropy\",class_weight=\"balanced\") # default is ginni\n",
    "# try both gini n entropy ;compare the result for better model"
   ]
  },
  {
   "cell_type": "code",
   "execution_count": 33,
   "id": "8c59d6f3",
   "metadata": {},
   "outputs": [
    {
     "data": {
      "text/html": [
       "<style>#sk-container-id-3 {color: black;background-color: white;}#sk-container-id-3 pre{padding: 0;}#sk-container-id-3 div.sk-toggleable {background-color: white;}#sk-container-id-3 label.sk-toggleable__label {cursor: pointer;display: block;width: 100%;margin-bottom: 0;padding: 0.3em;box-sizing: border-box;text-align: center;}#sk-container-id-3 label.sk-toggleable__label-arrow:before {content: \"▸\";float: left;margin-right: 0.25em;color: #696969;}#sk-container-id-3 label.sk-toggleable__label-arrow:hover:before {color: black;}#sk-container-id-3 div.sk-estimator:hover label.sk-toggleable__label-arrow:before {color: black;}#sk-container-id-3 div.sk-toggleable__content {max-height: 0;max-width: 0;overflow: hidden;text-align: left;background-color: #f0f8ff;}#sk-container-id-3 div.sk-toggleable__content pre {margin: 0.2em;color: black;border-radius: 0.25em;background-color: #f0f8ff;}#sk-container-id-3 input.sk-toggleable__control:checked~div.sk-toggleable__content {max-height: 200px;max-width: 100%;overflow: auto;}#sk-container-id-3 input.sk-toggleable__control:checked~label.sk-toggleable__label-arrow:before {content: \"▾\";}#sk-container-id-3 div.sk-estimator input.sk-toggleable__control:checked~label.sk-toggleable__label {background-color: #d4ebff;}#sk-container-id-3 div.sk-label input.sk-toggleable__control:checked~label.sk-toggleable__label {background-color: #d4ebff;}#sk-container-id-3 input.sk-hidden--visually {border: 0;clip: rect(1px 1px 1px 1px);clip: rect(1px, 1px, 1px, 1px);height: 1px;margin: -1px;overflow: hidden;padding: 0;position: absolute;width: 1px;}#sk-container-id-3 div.sk-estimator {font-family: monospace;background-color: #f0f8ff;border: 1px dotted black;border-radius: 0.25em;box-sizing: border-box;margin-bottom: 0.5em;}#sk-container-id-3 div.sk-estimator:hover {background-color: #d4ebff;}#sk-container-id-3 div.sk-parallel-item::after {content: \"\";width: 100%;border-bottom: 1px solid gray;flex-grow: 1;}#sk-container-id-3 div.sk-label:hover label.sk-toggleable__label {background-color: #d4ebff;}#sk-container-id-3 div.sk-serial::before {content: \"\";position: absolute;border-left: 1px solid gray;box-sizing: border-box;top: 0;bottom: 0;left: 50%;z-index: 0;}#sk-container-id-3 div.sk-serial {display: flex;flex-direction: column;align-items: center;background-color: white;padding-right: 0.2em;padding-left: 0.2em;position: relative;}#sk-container-id-3 div.sk-item {position: relative;z-index: 1;}#sk-container-id-3 div.sk-parallel {display: flex;align-items: stretch;justify-content: center;background-color: white;position: relative;}#sk-container-id-3 div.sk-item::before, #sk-container-id-3 div.sk-parallel-item::before {content: \"\";position: absolute;border-left: 1px solid gray;box-sizing: border-box;top: 0;bottom: 0;left: 50%;z-index: -1;}#sk-container-id-3 div.sk-parallel-item {display: flex;flex-direction: column;z-index: 1;position: relative;background-color: white;}#sk-container-id-3 div.sk-parallel-item:first-child::after {align-self: flex-end;width: 50%;}#sk-container-id-3 div.sk-parallel-item:last-child::after {align-self: flex-start;width: 50%;}#sk-container-id-3 div.sk-parallel-item:only-child::after {width: 0;}#sk-container-id-3 div.sk-dashed-wrapped {border: 1px dashed gray;margin: 0 0.4em 0.5em 0.4em;box-sizing: border-box;padding-bottom: 0.4em;background-color: white;}#sk-container-id-3 div.sk-label label {font-family: monospace;font-weight: bold;display: inline-block;line-height: 1.2em;}#sk-container-id-3 div.sk-label-container {text-align: center;}#sk-container-id-3 div.sk-container {/* jupyter's `normalize.less` sets `[hidden] { display: none; }` but bootstrap.min.css set `[hidden] { display: none !important; }` so we also need the `!important` here to be able to override the default hidden behavior on the sphinx rendered scikit-learn.org. See: https://github.com/scikit-learn/scikit-learn/issues/21755 */display: inline-block !important;position: relative;}#sk-container-id-3 div.sk-text-repr-fallback {display: none;}</style><div id=\"sk-container-id-3\" class=\"sk-top-container\"><div class=\"sk-text-repr-fallback\"><pre>DecisionTreeClassifier(class_weight=&#x27;balanced&#x27;, criterion=&#x27;entropy&#x27;)</pre><b>In a Jupyter environment, please rerun this cell to show the HTML representation or trust the notebook. <br />On GitHub, the HTML representation is unable to render, please try loading this page with nbviewer.org.</b></div><div class=\"sk-container\" hidden><div class=\"sk-item\"><div class=\"sk-estimator sk-toggleable\"><input class=\"sk-toggleable__control sk-hidden--visually\" id=\"sk-estimator-id-3\" type=\"checkbox\" checked><label for=\"sk-estimator-id-3\" class=\"sk-toggleable__label sk-toggleable__label-arrow\">DecisionTreeClassifier</label><div class=\"sk-toggleable__content\"><pre>DecisionTreeClassifier(class_weight=&#x27;balanced&#x27;, criterion=&#x27;entropy&#x27;)</pre></div></div></div></div></div>"
      ],
      "text/plain": [
       "DecisionTreeClassifier(class_weight='balanced', criterion='entropy')"
      ]
     },
     "execution_count": 33,
     "metadata": {},
     "output_type": "execute_result"
    }
   ],
   "source": [
    "dt.fit(train_x,train_y)"
   ]
  },
  {
   "cell_type": "code",
   "execution_count": 34,
   "id": "fc0fcbcf",
   "metadata": {},
   "outputs": [
    {
     "data": {
      "text/plain": [
       "array([[3570,  654],\n",
       "       [ 641,  477]], dtype=int64)"
      ]
     },
     "execution_count": 34,
     "metadata": {},
     "output_type": "execute_result"
    }
   ],
   "source": [
    "tab1= confusion_matrix(test_y,pred)\n",
    "tab1"
   ]
  },
  {
   "cell_type": "code",
   "execution_count": 35,
   "id": "a56080e7",
   "metadata": {},
   "outputs": [],
   "source": [
    "pred= dt.predict(test_x)\n",
    "#the way u build confusion matrix remains the same acc, tpr, fpr, precission"
   ]
  },
  {
   "cell_type": "code",
   "execution_count": 36,
   "id": "8ccb14da",
   "metadata": {},
   "outputs": [
    {
     "data": {
      "text/plain": [
       "0.757581430175964"
      ]
     },
     "execution_count": 36,
     "metadata": {},
     "output_type": "execute_result"
    }
   ],
   "source": [
    "#accuracy\n",
    "acc=accuracy_score(test_y,pred)\n",
    "tab1.diagonal().sum()/tab1.sum()"
   ]
  },
  {
   "cell_type": "code",
   "execution_count": 37,
   "id": "0bebcaa4",
   "metadata": {},
   "outputs": [],
   "source": [
    "#fpr\n",
    "fpr=tab1[0][1]/(tab1[0][1]+tab1[0][0])\n",
    "#precision score\n",
    "pre=precision_score(test_y,pred)\n",
    "#recall(tpr)\n",
    "tpr=recall_score(test_y,pred)*100\n",
    "#f1 score\n",
    "f1=f1_score(test_y,pred)*100\n"
   ]
  },
  {
   "cell_type": "code",
   "execution_count": 38,
   "id": "a03f3702",
   "metadata": {},
   "outputs": [
    {
     "name": "stdout",
     "output_type": "stream",
     "text": [
      "acc  is    0.7573942343691501   Precision is   0.4196750902527076  Tpr is    41.59212880143113   F1 score is  41.77897574123989 Fpr is  0.15482954545454544\n"
     ]
    }
   ],
   "source": [
    "print(\"acc  is   \" , acc , '  Precision is  '  , pre , ' Tpr is   ' , tpr , \"  F1 score is \"  , f1, \"Fpr is \" ,fpr)"
   ]
  },
  {
   "cell_type": "code",
   "execution_count": 39,
   "id": "1a1ae86e",
   "metadata": {},
   "outputs": [
    {
     "data": {
      "text/plain": [
       "array([0.04388931, 0.034926  , 0.00922883, 0.0180166 , 0.01353649,\n",
       "       0.01356727, 0.01832323, 0.01750956, 0.01903309, 0.13593802,\n",
       "       0.01694376, 0.02334025, 0.00822007, 0.01735731, 0.00918181,\n",
       "       0.07600509, 0.05101953, 0.03936941, 0.03277697, 0.03738972,\n",
       "       0.03426442, 0.05357807, 0.04403898, 0.02739718, 0.02210164,\n",
       "       0.02532422, 0.01565705, 0.0158722 , 0.02642536, 0.03705412,\n",
       "       0.03233711, 0.03037733])"
      ]
     },
     "execution_count": 39,
     "metadata": {},
     "output_type": "execute_result"
    }
   ],
   "source": [
    "dt.feature_importances_ # one on one maping b/w feature selection and columns"
   ]
  },
  {
   "cell_type": "code",
   "execution_count": 46,
   "id": "e6f324b8",
   "metadata": {},
   "outputs": [],
   "source": [
    "feature_imp=pd.DataFrame()\n",
    "feature_imp[\"Feat\"]= train_x.columns\n",
    "feature_imp[\"Imp\"]=dt.feature_importances_\n",
    "feature_imp=feature_imp.sort_values(\"Imp\", ascending=False)"
   ]
  },
  {
   "cell_type": "code",
   "execution_count": 48,
   "id": "e450eba3",
   "metadata": {},
   "outputs": [],
   "source": [
    "feature_imp[\"cum_imp\"]= feature_imp.Imp.cumsum()"
   ]
  },
  {
   "cell_type": "code",
   "execution_count": 49,
   "id": "edb209eb",
   "metadata": {},
   "outputs": [
    {
     "data": {
      "text/html": [
       "<div>\n",
       "<style scoped>\n",
       "    .dataframe tbody tr th:only-of-type {\n",
       "        vertical-align: middle;\n",
       "    }\n",
       "\n",
       "    .dataframe tbody tr th {\n",
       "        vertical-align: top;\n",
       "    }\n",
       "\n",
       "    .dataframe thead th {\n",
       "        text-align: right;\n",
       "    }\n",
       "</style>\n",
       "<table border=\"1\" class=\"dataframe\">\n",
       "  <thead>\n",
       "    <tr style=\"text-align: right;\">\n",
       "      <th></th>\n",
       "      <th>Feat</th>\n",
       "      <th>Imp</th>\n",
       "      <th>cum_imp</th>\n",
       "    </tr>\n",
       "  </thead>\n",
       "  <tbody>\n",
       "    <tr>\n",
       "      <th>9</th>\n",
       "      <td>dr_recc_h1n1_vacc</td>\n",
       "      <td>0.135938</td>\n",
       "      <td>0.135938</td>\n",
       "    </tr>\n",
       "    <tr>\n",
       "      <th>15</th>\n",
       "      <td>is_h1n1_vacc_effective</td>\n",
       "      <td>0.076005</td>\n",
       "      <td>0.211943</td>\n",
       "    </tr>\n",
       "    <tr>\n",
       "      <th>21</th>\n",
       "      <td>age_bracket</td>\n",
       "      <td>0.053578</td>\n",
       "      <td>0.265521</td>\n",
       "    </tr>\n",
       "    <tr>\n",
       "      <th>16</th>\n",
       "      <td>is_h1n1_risky</td>\n",
       "      <td>0.051020</td>\n",
       "      <td>0.316541</td>\n",
       "    </tr>\n",
       "    <tr>\n",
       "      <th>22</th>\n",
       "      <td>qualification</td>\n",
       "      <td>0.044039</td>\n",
       "      <td>0.360580</td>\n",
       "    </tr>\n",
       "    <tr>\n",
       "      <th>0</th>\n",
       "      <td>h1n1_worry</td>\n",
       "      <td>0.043889</td>\n",
       "      <td>0.404469</td>\n",
       "    </tr>\n",
       "    <tr>\n",
       "      <th>17</th>\n",
       "      <td>sick_from_h1n1_vacc</td>\n",
       "      <td>0.039369</td>\n",
       "      <td>0.443838</td>\n",
       "    </tr>\n",
       "    <tr>\n",
       "      <th>19</th>\n",
       "      <td>is_seas_risky</td>\n",
       "      <td>0.037390</td>\n",
       "      <td>0.481228</td>\n",
       "    </tr>\n",
       "    <tr>\n",
       "      <th>29</th>\n",
       "      <td>census_msa</td>\n",
       "      <td>0.037054</td>\n",
       "      <td>0.518282</td>\n",
       "    </tr>\n",
       "    <tr>\n",
       "      <th>1</th>\n",
       "      <td>h1n1_awareness</td>\n",
       "      <td>0.034926</td>\n",
       "      <td>0.553208</td>\n",
       "    </tr>\n",
       "    <tr>\n",
       "      <th>20</th>\n",
       "      <td>sick_from_seas_vacc</td>\n",
       "      <td>0.034264</td>\n",
       "      <td>0.587473</td>\n",
       "    </tr>\n",
       "    <tr>\n",
       "      <th>18</th>\n",
       "      <td>is_seas_vacc_effective</td>\n",
       "      <td>0.032777</td>\n",
       "      <td>0.620250</td>\n",
       "    </tr>\n",
       "    <tr>\n",
       "      <th>30</th>\n",
       "      <td>no_of_adults</td>\n",
       "      <td>0.032337</td>\n",
       "      <td>0.652587</td>\n",
       "    </tr>\n",
       "    <tr>\n",
       "      <th>31</th>\n",
       "      <td>no_of_children</td>\n",
       "      <td>0.030377</td>\n",
       "      <td>0.682964</td>\n",
       "    </tr>\n",
       "    <tr>\n",
       "      <th>23</th>\n",
       "      <td>race</td>\n",
       "      <td>0.027397</td>\n",
       "      <td>0.710361</td>\n",
       "    </tr>\n",
       "    <tr>\n",
       "      <th>28</th>\n",
       "      <td>employment</td>\n",
       "      <td>0.026425</td>\n",
       "      <td>0.736787</td>\n",
       "    </tr>\n",
       "    <tr>\n",
       "      <th>25</th>\n",
       "      <td>income_level</td>\n",
       "      <td>0.025324</td>\n",
       "      <td>0.762111</td>\n",
       "    </tr>\n",
       "    <tr>\n",
       "      <th>11</th>\n",
       "      <td>chronic_medic_condition</td>\n",
       "      <td>0.023340</td>\n",
       "      <td>0.785451</td>\n",
       "    </tr>\n",
       "    <tr>\n",
       "      <th>24</th>\n",
       "      <td>sex</td>\n",
       "      <td>0.022102</td>\n",
       "      <td>0.807553</td>\n",
       "    </tr>\n",
       "    <tr>\n",
       "      <th>8</th>\n",
       "      <td>avoid_touch_face</td>\n",
       "      <td>0.019033</td>\n",
       "      <td>0.826586</td>\n",
       "    </tr>\n",
       "    <tr>\n",
       "      <th>6</th>\n",
       "      <td>avoid_large_gatherings</td>\n",
       "      <td>0.018323</td>\n",
       "      <td>0.844909</td>\n",
       "    </tr>\n",
       "    <tr>\n",
       "      <th>3</th>\n",
       "      <td>contact_avoidance</td>\n",
       "      <td>0.018017</td>\n",
       "      <td>0.862926</td>\n",
       "    </tr>\n",
       "    <tr>\n",
       "      <th>7</th>\n",
       "      <td>reduced_outside_home_cont</td>\n",
       "      <td>0.017510</td>\n",
       "      <td>0.880435</td>\n",
       "    </tr>\n",
       "    <tr>\n",
       "      <th>13</th>\n",
       "      <td>is_health_worker</td>\n",
       "      <td>0.017357</td>\n",
       "      <td>0.897793</td>\n",
       "    </tr>\n",
       "    <tr>\n",
       "      <th>10</th>\n",
       "      <td>dr_recc_seasonal_vacc</td>\n",
       "      <td>0.016944</td>\n",
       "      <td>0.914736</td>\n",
       "    </tr>\n",
       "    <tr>\n",
       "      <th>27</th>\n",
       "      <td>housing_status</td>\n",
       "      <td>0.015872</td>\n",
       "      <td>0.930608</td>\n",
       "    </tr>\n",
       "    <tr>\n",
       "      <th>26</th>\n",
       "      <td>marital_status</td>\n",
       "      <td>0.015657</td>\n",
       "      <td>0.946266</td>\n",
       "    </tr>\n",
       "    <tr>\n",
       "      <th>5</th>\n",
       "      <td>wash_hands_frequently</td>\n",
       "      <td>0.013567</td>\n",
       "      <td>0.959833</td>\n",
       "    </tr>\n",
       "    <tr>\n",
       "      <th>4</th>\n",
       "      <td>bought_face_mask</td>\n",
       "      <td>0.013536</td>\n",
       "      <td>0.973369</td>\n",
       "    </tr>\n",
       "    <tr>\n",
       "      <th>2</th>\n",
       "      <td>antiviral_medication</td>\n",
       "      <td>0.009229</td>\n",
       "      <td>0.982598</td>\n",
       "    </tr>\n",
       "    <tr>\n",
       "      <th>14</th>\n",
       "      <td>has_health_insur</td>\n",
       "      <td>0.009182</td>\n",
       "      <td>0.991780</td>\n",
       "    </tr>\n",
       "    <tr>\n",
       "      <th>12</th>\n",
       "      <td>cont_child_undr_6_mnths</td>\n",
       "      <td>0.008220</td>\n",
       "      <td>1.000000</td>\n",
       "    </tr>\n",
       "  </tbody>\n",
       "</table>\n",
       "</div>"
      ],
      "text/plain": [
       "                         Feat       Imp   cum_imp\n",
       "9           dr_recc_h1n1_vacc  0.135938  0.135938\n",
       "15     is_h1n1_vacc_effective  0.076005  0.211943\n",
       "21                age_bracket  0.053578  0.265521\n",
       "16              is_h1n1_risky  0.051020  0.316541\n",
       "22              qualification  0.044039  0.360580\n",
       "0                  h1n1_worry  0.043889  0.404469\n",
       "17        sick_from_h1n1_vacc  0.039369  0.443838\n",
       "19              is_seas_risky  0.037390  0.481228\n",
       "29                 census_msa  0.037054  0.518282\n",
       "1              h1n1_awareness  0.034926  0.553208\n",
       "20        sick_from_seas_vacc  0.034264  0.587473\n",
       "18     is_seas_vacc_effective  0.032777  0.620250\n",
       "30               no_of_adults  0.032337  0.652587\n",
       "31             no_of_children  0.030377  0.682964\n",
       "23                       race  0.027397  0.710361\n",
       "28                 employment  0.026425  0.736787\n",
       "25               income_level  0.025324  0.762111\n",
       "11    chronic_medic_condition  0.023340  0.785451\n",
       "24                        sex  0.022102  0.807553\n",
       "8            avoid_touch_face  0.019033  0.826586\n",
       "6      avoid_large_gatherings  0.018323  0.844909\n",
       "3           contact_avoidance  0.018017  0.862926\n",
       "7   reduced_outside_home_cont  0.017510  0.880435\n",
       "13           is_health_worker  0.017357  0.897793\n",
       "10      dr_recc_seasonal_vacc  0.016944  0.914736\n",
       "27             housing_status  0.015872  0.930608\n",
       "26             marital_status  0.015657  0.946266\n",
       "5       wash_hands_frequently  0.013567  0.959833\n",
       "4            bought_face_mask  0.013536  0.973369\n",
       "2        antiviral_medication  0.009229  0.982598\n",
       "14           has_health_insur  0.009182  0.991780\n",
       "12    cont_child_undr_6_mnths  0.008220  1.000000"
      ]
     },
     "execution_count": 49,
     "metadata": {},
     "output_type": "execute_result"
    }
   ],
   "source": [
    "feature_imp"
   ]
  },
  {
   "cell_type": "code",
   "execution_count": null,
   "id": "9b7083ee",
   "metadata": {},
   "outputs": [],
   "source": []
  }
 ],
 "metadata": {
  "kernelspec": {
   "display_name": "Python 3 (ipykernel)",
   "language": "python",
   "name": "python3"
  },
  "language_info": {
   "codemirror_mode": {
    "name": "ipython",
    "version": 3
   },
   "file_extension": ".py",
   "mimetype": "text/x-python",
   "name": "python",
   "nbconvert_exporter": "python",
   "pygments_lexer": "ipython3",
   "version": "3.10.9"
  }
 },
 "nbformat": 4,
 "nbformat_minor": 5
}
