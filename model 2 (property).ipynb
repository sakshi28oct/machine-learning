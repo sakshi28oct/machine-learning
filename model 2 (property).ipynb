{
 "cells": [
  {
   "cell_type": "code",
   "execution_count": 1,
   "id": "e770f511",
   "metadata": {},
   "outputs": [],
   "source": [
    "# y= sale_price, when checking assumption say if true or not and all interception for all plots\n"
   ]
  },
  {
   "cell_type": "code",
   "execution_count": 2,
   "id": "6da21e32",
   "metadata": {},
   "outputs": [],
   "source": [
    "# step 1: y =sale_price \n",
    "# step 2: data= prop\n"
   ]
  },
  {
   "cell_type": "code",
   "execution_count": 3,
   "id": "1aea8ce3",
   "metadata": {},
   "outputs": [],
   "source": [
    "import pandas as pd"
   ]
  },
  {
   "cell_type": "markdown",
   "id": "50545896",
   "metadata": {},
   "source": [
    "# step 3: data cleaning"
   ]
  },
  {
   "cell_type": "code",
   "execution_count": 4,
   "id": "9ceb15cf",
   "metadata": {},
   "outputs": [],
   "source": [
    "property=pd.read_csv(\"D:\\Data Science\\python\\Property_Price_Train.csv\")"
   ]
  },
  {
   "cell_type": "code",
   "execution_count": 5,
   "id": "84714d2a",
   "metadata": {},
   "outputs": [
    {
     "data": {
      "text/plain": [
       "Lot_Extent                259\n",
       "Lane_Type                1368\n",
       "Brick_Veneer_Type           8\n",
       "Brick_Veneer_Area           8\n",
       "Basement_Height            37\n",
       "Basement_Condition         37\n",
       "Exposure_Level             38\n",
       "BsmtFinType1               37\n",
       "BsmtFinType2               38\n",
       "Electrical_System           1\n",
       "Fireplace_Quality         689\n",
       "Garage                     81\n",
       "Garage_Built_Year          81\n",
       "Garage_Finish_Year         81\n",
       "Garage_Quality             81\n",
       "Garage_Condition           81\n",
       "Pool_Quality             1452\n",
       "Fence_Quality            1178\n",
       "Miscellaneous_Feature    1405\n",
       "dtype: int64"
      ]
     },
     "execution_count": 5,
     "metadata": {},
     "output_type": "execute_result"
    }
   ],
   "source": [
    "property.isnull().sum()[property.isnull().sum()>0]"
   ]
  },
  {
   "cell_type": "code",
   "execution_count": 6,
   "id": "d36ab0e8",
   "metadata": {},
   "outputs": [],
   "source": [
    "property= property.drop([\"Id\",'Lane_Type','Fireplace_Quality','Pool_Quality','Fence_Quality','Miscellaneous_Feature'],axis=1)#"
   ]
  },
  {
   "cell_type": "code",
   "execution_count": 7,
   "id": "526713d9",
   "metadata": {},
   "outputs": [],
   "source": [
    "property.Lot_Extent.mean().round()\n",
    "property.Lot_Extent.fillna(70,inplace=True)"
   ]
  },
  {
   "cell_type": "code",
   "execution_count": null,
   "id": "130e5e51",
   "metadata": {},
   "outputs": [],
   "source": []
  },
  {
   "cell_type": "code",
   "execution_count": 8,
   "id": "5cedf942",
   "metadata": {},
   "outputs": [],
   "source": [
    "property.Brick_Veneer_Type.value_counts()\n",
    "property.Brick_Veneer_Type.fillna(\"None\", inplace = True)"
   ]
  },
  {
   "cell_type": "code",
   "execution_count": 9,
   "id": "f65832ca",
   "metadata": {},
   "outputs": [],
   "source": [
    "property.Brick_Veneer_Area .mean().round()\n",
    "property.Brick_Veneer_Area.fillna(104, inplace=True)"
   ]
  },
  {
   "cell_type": "code",
   "execution_count": 10,
   "id": "5451f229",
   "metadata": {},
   "outputs": [],
   "source": [
    "property.Basement_Height.value_counts()\n",
    "property.Basement_Height.fillna(\"TA\",inplace=True)"
   ]
  },
  {
   "cell_type": "code",
   "execution_count": 11,
   "id": "1c89c9fe",
   "metadata": {},
   "outputs": [],
   "source": [
    "property.Basement_Condition.value_counts()\n",
    "property.Basement_Condition.fillna(\"TA\", inplace=True)"
   ]
  },
  {
   "cell_type": "code",
   "execution_count": 12,
   "id": "78e5b27f",
   "metadata": {},
   "outputs": [],
   "source": [
    "property.Exposure_Level.value_counts()\n",
    "property.Exposure_Level.fillna(\"No\", inplace=True)"
   ]
  },
  {
   "cell_type": "code",
   "execution_count": 13,
   "id": "db793599",
   "metadata": {},
   "outputs": [],
   "source": [
    "property.BsmtFinType1.value_counts()\n",
    "property.BsmtFinType1.fillna(\"Unf\", inplace=True)"
   ]
  },
  {
   "cell_type": "code",
   "execution_count": 14,
   "id": "1bf2506f",
   "metadata": {},
   "outputs": [],
   "source": [
    "property.BsmtFinType2.value_counts()\n",
    "property.BsmtFinType2.fillna(\"Unf\",inplace=True)"
   ]
  },
  {
   "cell_type": "code",
   "execution_count": 15,
   "id": "74d01b4e",
   "metadata": {},
   "outputs": [],
   "source": [
    "property.Electrical_System.value_counts()\n",
    "property.Electrical_System.fillna(\"SBrkr\", inplace=True)"
   ]
  },
  {
   "cell_type": "code",
   "execution_count": null,
   "id": "2eee1b27",
   "metadata": {},
   "outputs": [],
   "source": [
    "\n"
   ]
  },
  {
   "cell_type": "code",
   "execution_count": 16,
   "id": "e83eafc0",
   "metadata": {},
   "outputs": [],
   "source": [
    "property.Garage.value_counts()\n",
    "property.Garage.fillna(\"Attchd\",inplace=True)"
   ]
  },
  {
   "cell_type": "code",
   "execution_count": 17,
   "id": "c10e2e48",
   "metadata": {},
   "outputs": [],
   "source": [
    "property.Garage_Built_Year.mean().round()\n",
    "property.Garage_Built_Year.fillna(1979, inplace=True)"
   ]
  },
  {
   "cell_type": "code",
   "execution_count": 18,
   "id": "7bb04360",
   "metadata": {},
   "outputs": [],
   "source": [
    "property.Garage_Finish_Year.value_counts()\n",
    "property.Garage_Finish_Year.fillna('Unf', inplace=True)"
   ]
  },
  {
   "cell_type": "code",
   "execution_count": 19,
   "id": "adb3bc5e",
   "metadata": {},
   "outputs": [],
   "source": [
    "property.Garage_Quality.value_counts()\n",
    "property.Garage_Quality.fillna('TA', inplace=True)"
   ]
  },
  {
   "cell_type": "code",
   "execution_count": 20,
   "id": "e68fbe6a",
   "metadata": {},
   "outputs": [],
   "source": [
    "property.Garage_Condition.value_counts()\n",
    "property.Garage_Condition.fillna('TA', inplace=True)"
   ]
  },
  {
   "cell_type": "code",
   "execution_count": null,
   "id": "1b522e53",
   "metadata": {},
   "outputs": [],
   "source": []
  },
  {
   "cell_type": "code",
   "execution_count": null,
   "id": "51084a27",
   "metadata": {},
   "outputs": [],
   "source": []
  },
  {
   "cell_type": "code",
   "execution_count": null,
   "id": "3ad6401a",
   "metadata": {},
   "outputs": [],
   "source": []
  },
  {
   "cell_type": "code",
   "execution_count": 21,
   "id": "c386215b",
   "metadata": {},
   "outputs": [
    {
     "data": {
      "text/html": [
       "<div>\n",
       "<style scoped>\n",
       "    .dataframe tbody tr th:only-of-type {\n",
       "        vertical-align: middle;\n",
       "    }\n",
       "\n",
       "    .dataframe tbody tr th {\n",
       "        vertical-align: top;\n",
       "    }\n",
       "\n",
       "    .dataframe thead th {\n",
       "        text-align: right;\n",
       "    }\n",
       "</style>\n",
       "<table border=\"1\" class=\"dataframe\">\n",
       "  <thead>\n",
       "    <tr style=\"text-align: right;\">\n",
       "      <th></th>\n",
       "      <th>Building_Class</th>\n",
       "      <th>Zoning_Class</th>\n",
       "      <th>Lot_Extent</th>\n",
       "      <th>Lot_Size</th>\n",
       "      <th>Road_Type</th>\n",
       "      <th>Property_Shape</th>\n",
       "      <th>Land_Outline</th>\n",
       "      <th>Utility_Type</th>\n",
       "      <th>Lot_Configuration</th>\n",
       "      <th>Property_Slope</th>\n",
       "      <th>...</th>\n",
       "      <th>Enclosed_Lobby_Area</th>\n",
       "      <th>Three_Season_Lobby_Area</th>\n",
       "      <th>Screen_Lobby_Area</th>\n",
       "      <th>Pool_Area</th>\n",
       "      <th>Miscellaneous_Value</th>\n",
       "      <th>Month_Sold</th>\n",
       "      <th>Year_Sold</th>\n",
       "      <th>Sale_Type</th>\n",
       "      <th>Sale_Condition</th>\n",
       "      <th>Sale_Price</th>\n",
       "    </tr>\n",
       "  </thead>\n",
       "  <tbody>\n",
       "    <tr>\n",
       "      <th>0</th>\n",
       "      <td>60</td>\n",
       "      <td>RLD</td>\n",
       "      <td>65.0</td>\n",
       "      <td>8450</td>\n",
       "      <td>Paved</td>\n",
       "      <td>Reg</td>\n",
       "      <td>Lvl</td>\n",
       "      <td>AllPub</td>\n",
       "      <td>I</td>\n",
       "      <td>GS</td>\n",
       "      <td>...</td>\n",
       "      <td>20.337934</td>\n",
       "      <td>0</td>\n",
       "      <td>0</td>\n",
       "      <td>0</td>\n",
       "      <td>0</td>\n",
       "      <td>2</td>\n",
       "      <td>2008</td>\n",
       "      <td>WD</td>\n",
       "      <td>Normal</td>\n",
       "      <td>208500</td>\n",
       "    </tr>\n",
       "    <tr>\n",
       "      <th>1</th>\n",
       "      <td>20</td>\n",
       "      <td>RLD</td>\n",
       "      <td>80.0</td>\n",
       "      <td>9600</td>\n",
       "      <td>Paved</td>\n",
       "      <td>Reg</td>\n",
       "      <td>Lvl</td>\n",
       "      <td>AllPub</td>\n",
       "      <td>FR2P</td>\n",
       "      <td>GS</td>\n",
       "      <td>...</td>\n",
       "      <td>15.039392</td>\n",
       "      <td>0</td>\n",
       "      <td>0</td>\n",
       "      <td>0</td>\n",
       "      <td>0</td>\n",
       "      <td>5</td>\n",
       "      <td>2007</td>\n",
       "      <td>WD</td>\n",
       "      <td>Normal</td>\n",
       "      <td>181500</td>\n",
       "    </tr>\n",
       "    <tr>\n",
       "      <th>2</th>\n",
       "      <td>60</td>\n",
       "      <td>RLD</td>\n",
       "      <td>68.0</td>\n",
       "      <td>11250</td>\n",
       "      <td>Paved</td>\n",
       "      <td>IR1</td>\n",
       "      <td>Lvl</td>\n",
       "      <td>AllPub</td>\n",
       "      <td>I</td>\n",
       "      <td>GS</td>\n",
       "      <td>...</td>\n",
       "      <td>-46.232198</td>\n",
       "      <td>0</td>\n",
       "      <td>0</td>\n",
       "      <td>0</td>\n",
       "      <td>0</td>\n",
       "      <td>9</td>\n",
       "      <td>2008</td>\n",
       "      <td>WD</td>\n",
       "      <td>Normal</td>\n",
       "      <td>223500</td>\n",
       "    </tr>\n",
       "    <tr>\n",
       "      <th>3</th>\n",
       "      <td>70</td>\n",
       "      <td>RLD</td>\n",
       "      <td>60.0</td>\n",
       "      <td>9550</td>\n",
       "      <td>Paved</td>\n",
       "      <td>IR1</td>\n",
       "      <td>Lvl</td>\n",
       "      <td>AllPub</td>\n",
       "      <td>C</td>\n",
       "      <td>GS</td>\n",
       "      <td>...</td>\n",
       "      <td>60.921821</td>\n",
       "      <td>0</td>\n",
       "      <td>0</td>\n",
       "      <td>0</td>\n",
       "      <td>0</td>\n",
       "      <td>2</td>\n",
       "      <td>2006</td>\n",
       "      <td>WD</td>\n",
       "      <td>Abnorml</td>\n",
       "      <td>140000</td>\n",
       "    </tr>\n",
       "    <tr>\n",
       "      <th>4</th>\n",
       "      <td>60</td>\n",
       "      <td>RLD</td>\n",
       "      <td>84.0</td>\n",
       "      <td>14260</td>\n",
       "      <td>Paved</td>\n",
       "      <td>IR1</td>\n",
       "      <td>Lvl</td>\n",
       "      <td>AllPub</td>\n",
       "      <td>FR2P</td>\n",
       "      <td>GS</td>\n",
       "      <td>...</td>\n",
       "      <td>21.788818</td>\n",
       "      <td>0</td>\n",
       "      <td>0</td>\n",
       "      <td>0</td>\n",
       "      <td>0</td>\n",
       "      <td>12</td>\n",
       "      <td>2008</td>\n",
       "      <td>WD</td>\n",
       "      <td>Normal</td>\n",
       "      <td>250000</td>\n",
       "    </tr>\n",
       "  </tbody>\n",
       "</table>\n",
       "<p>5 rows × 75 columns</p>\n",
       "</div>"
      ],
      "text/plain": [
       "   Building_Class Zoning_Class  Lot_Extent  Lot_Size Road_Type Property_Shape  \\\n",
       "0              60          RLD        65.0      8450     Paved            Reg   \n",
       "1              20          RLD        80.0      9600     Paved            Reg   \n",
       "2              60          RLD        68.0     11250     Paved            IR1   \n",
       "3              70          RLD        60.0      9550     Paved            IR1   \n",
       "4              60          RLD        84.0     14260     Paved            IR1   \n",
       "\n",
       "  Land_Outline Utility_Type Lot_Configuration Property_Slope  ...  \\\n",
       "0          Lvl       AllPub                 I             GS  ...   \n",
       "1          Lvl       AllPub              FR2P             GS  ...   \n",
       "2          Lvl       AllPub                 I             GS  ...   \n",
       "3          Lvl       AllPub                 C             GS  ...   \n",
       "4          Lvl       AllPub              FR2P             GS  ...   \n",
       "\n",
       "  Enclosed_Lobby_Area Three_Season_Lobby_Area Screen_Lobby_Area Pool_Area  \\\n",
       "0           20.337934                       0                 0         0   \n",
       "1           15.039392                       0                 0         0   \n",
       "2          -46.232198                       0                 0         0   \n",
       "3           60.921821                       0                 0         0   \n",
       "4           21.788818                       0                 0         0   \n",
       "\n",
       "  Miscellaneous_Value  Month_Sold  Year_Sold  Sale_Type  Sale_Condition  \\\n",
       "0                   0           2       2008         WD          Normal   \n",
       "1                   0           5       2007         WD          Normal   \n",
       "2                   0           9       2008         WD          Normal   \n",
       "3                   0           2       2006         WD         Abnorml   \n",
       "4                   0          12       2008         WD          Normal   \n",
       "\n",
       "  Sale_Price  \n",
       "0     208500  \n",
       "1     181500  \n",
       "2     223500  \n",
       "3     140000  \n",
       "4     250000  \n",
       "\n",
       "[5 rows x 75 columns]"
      ]
     },
     "execution_count": 21,
     "metadata": {},
     "output_type": "execute_result"
    }
   ],
   "source": [
    "property.head()"
   ]
  },
  {
   "cell_type": "code",
   "execution_count": 26,
   "id": "31c40abf",
   "metadata": {},
   "outputs": [],
   "source": [
    "# feature selection--> for significant x values\n",
    "#--> co-relation(-1 to 1); lets find correlation of each x with y"
   ]
  },
  {
   "cell_type": "code",
   "execution_count": 27,
   "id": "fd24a293",
   "metadata": {},
   "outputs": [
    {
     "data": {
      "text/html": [
       "<div>\n",
       "<style scoped>\n",
       "    .dataframe tbody tr th:only-of-type {\n",
       "        vertical-align: middle;\n",
       "    }\n",
       "\n",
       "    .dataframe tbody tr th {\n",
       "        vertical-align: top;\n",
       "    }\n",
       "\n",
       "    .dataframe thead th {\n",
       "        text-align: right;\n",
       "    }\n",
       "</style>\n",
       "<table border=\"1\" class=\"dataframe\">\n",
       "  <thead>\n",
       "    <tr style=\"text-align: right;\">\n",
       "      <th></th>\n",
       "      <th>Building_Class</th>\n",
       "      <th>Zoning_Class</th>\n",
       "      <th>Lot_Extent</th>\n",
       "      <th>Lot_Size</th>\n",
       "      <th>Road_Type</th>\n",
       "      <th>Property_Shape</th>\n",
       "      <th>Land_Outline</th>\n",
       "      <th>Utility_Type</th>\n",
       "      <th>Lot_Configuration</th>\n",
       "      <th>Property_Slope</th>\n",
       "      <th>...</th>\n",
       "      <th>Enclosed_Lobby_Area</th>\n",
       "      <th>Three_Season_Lobby_Area</th>\n",
       "      <th>Screen_Lobby_Area</th>\n",
       "      <th>Pool_Area</th>\n",
       "      <th>Miscellaneous_Value</th>\n",
       "      <th>Month_Sold</th>\n",
       "      <th>Year_Sold</th>\n",
       "      <th>Sale_Type</th>\n",
       "      <th>Sale_Condition</th>\n",
       "      <th>Sale_Price</th>\n",
       "    </tr>\n",
       "  </thead>\n",
       "  <tbody>\n",
       "    <tr>\n",
       "      <th>Building_Class</th>\n",
       "      <td>1.000000</td>\n",
       "      <td>0.035882</td>\n",
       "      <td>-0.357007</td>\n",
       "      <td>-0.139852</td>\n",
       "      <td>-0.024937</td>\n",
       "      <td>0.119793</td>\n",
       "      <td>-0.002752</td>\n",
       "      <td>-0.022865</td>\n",
       "      <td>0.076301</td>\n",
       "      <td>-0.025814</td>\n",
       "      <td>...</td>\n",
       "      <td>0.030441</td>\n",
       "      <td>-0.043906</td>\n",
       "      <td>-0.026199</td>\n",
       "      <td>0.008244</td>\n",
       "      <td>-0.007738</td>\n",
       "      <td>-0.013660</td>\n",
       "      <td>-0.021330</td>\n",
       "      <td>0.012656</td>\n",
       "      <td>-0.024822</td>\n",
       "      <td>-0.084563</td>\n",
       "    </tr>\n",
       "    <tr>\n",
       "      <th>Zoning_Class</th>\n",
       "      <td>0.035882</td>\n",
       "      <td>1.000000</td>\n",
       "      <td>-0.106340</td>\n",
       "      <td>-0.034453</td>\n",
       "      <td>0.087656</td>\n",
       "      <td>0.061923</td>\n",
       "      <td>-0.017845</td>\n",
       "      <td>-0.001193</td>\n",
       "      <td>-0.009877</td>\n",
       "      <td>-0.022062</td>\n",
       "      <td>...</td>\n",
       "      <td>-0.004703</td>\n",
       "      <td>0.000359</td>\n",
       "      <td>0.019081</td>\n",
       "      <td>-0.003130</td>\n",
       "      <td>0.009290</td>\n",
       "      <td>-0.031500</td>\n",
       "      <td>-0.020623</td>\n",
       "      <td>0.097450</td>\n",
       "      <td>0.009500</td>\n",
       "      <td>-0.166896</td>\n",
       "    </tr>\n",
       "    <tr>\n",
       "      <th>Lot_Extent</th>\n",
       "      <td>-0.357007</td>\n",
       "      <td>-0.106340</td>\n",
       "      <td>1.000000</td>\n",
       "      <td>0.306703</td>\n",
       "      <td>-0.037335</td>\n",
       "      <td>-0.144790</td>\n",
       "      <td>-0.075720</td>\n",
       "      <td>-0.000045</td>\n",
       "      <td>-0.181211</td>\n",
       "      <td>0.067550</td>\n",
       "      <td>...</td>\n",
       "      <td>-0.009967</td>\n",
       "      <td>0.062337</td>\n",
       "      <td>0.037727</td>\n",
       "      <td>0.180881</td>\n",
       "      <td>0.001114</td>\n",
       "      <td>0.010190</td>\n",
       "      <td>0.006729</td>\n",
       "      <td>-0.030924</td>\n",
       "      <td>0.058453</td>\n",
       "      <td>0.334988</td>\n",
       "    </tr>\n",
       "    <tr>\n",
       "      <th>Lot_Size</th>\n",
       "      <td>-0.139852</td>\n",
       "      <td>-0.034453</td>\n",
       "      <td>0.306703</td>\n",
       "      <td>1.000000</td>\n",
       "      <td>-0.197129</td>\n",
       "      <td>-0.165317</td>\n",
       "      <td>-0.149076</td>\n",
       "      <td>0.010122</td>\n",
       "      <td>-0.121152</td>\n",
       "      <td>0.436867</td>\n",
       "      <td>...</td>\n",
       "      <td>0.003951</td>\n",
       "      <td>0.020418</td>\n",
       "      <td>0.043151</td>\n",
       "      <td>0.077670</td>\n",
       "      <td>0.038064</td>\n",
       "      <td>0.001200</td>\n",
       "      <td>-0.014256</td>\n",
       "      <td>0.012305</td>\n",
       "      <td>0.034178</td>\n",
       "      <td>0.263843</td>\n",
       "    </tr>\n",
       "    <tr>\n",
       "      <th>Road_Type</th>\n",
       "      <td>-0.024937</td>\n",
       "      <td>0.087656</td>\n",
       "      <td>-0.037335</td>\n",
       "      <td>-0.197129</td>\n",
       "      <td>1.000000</td>\n",
       "      <td>-0.010259</td>\n",
       "      <td>0.115985</td>\n",
       "      <td>0.001683</td>\n",
       "      <td>0.013935</td>\n",
       "      <td>-0.179353</td>\n",
       "      <td>...</td>\n",
       "      <td>-0.002879</td>\n",
       "      <td>0.007479</td>\n",
       "      <td>-0.033149</td>\n",
       "      <td>0.004416</td>\n",
       "      <td>-0.022729</td>\n",
       "      <td>0.003695</td>\n",
       "      <td>-0.025050</td>\n",
       "      <td>0.014326</td>\n",
       "      <td>0.006055</td>\n",
       "      <td>0.041057</td>\n",
       "    </tr>\n",
       "    <tr>\n",
       "      <th>...</th>\n",
       "      <td>...</td>\n",
       "      <td>...</td>\n",
       "      <td>...</td>\n",
       "      <td>...</td>\n",
       "      <td>...</td>\n",
       "      <td>...</td>\n",
       "      <td>...</td>\n",
       "      <td>...</td>\n",
       "      <td>...</td>\n",
       "      <td>...</td>\n",
       "      <td>...</td>\n",
       "      <td>...</td>\n",
       "      <td>...</td>\n",
       "      <td>...</td>\n",
       "      <td>...</td>\n",
       "      <td>...</td>\n",
       "      <td>...</td>\n",
       "      <td>...</td>\n",
       "      <td>...</td>\n",
       "      <td>...</td>\n",
       "      <td>...</td>\n",
       "    </tr>\n",
       "    <tr>\n",
       "      <th>Month_Sold</th>\n",
       "      <td>-0.013660</td>\n",
       "      <td>-0.031500</td>\n",
       "      <td>0.010190</td>\n",
       "      <td>0.001200</td>\n",
       "      <td>0.003695</td>\n",
       "      <td>-0.033400</td>\n",
       "      <td>-0.011573</td>\n",
       "      <td>-0.051554</td>\n",
       "      <td>0.018954</td>\n",
       "      <td>0.007053</td>\n",
       "      <td>...</td>\n",
       "      <td>-0.027018</td>\n",
       "      <td>0.029465</td>\n",
       "      <td>0.023196</td>\n",
       "      <td>-0.033742</td>\n",
       "      <td>-0.006502</td>\n",
       "      <td>1.000000</td>\n",
       "      <td>-0.145712</td>\n",
       "      <td>-0.047362</td>\n",
       "      <td>0.013338</td>\n",
       "      <td>0.046401</td>\n",
       "    </tr>\n",
       "    <tr>\n",
       "      <th>Year_Sold</th>\n",
       "      <td>-0.021330</td>\n",
       "      <td>-0.020623</td>\n",
       "      <td>0.006729</td>\n",
       "      <td>-0.014256</td>\n",
       "      <td>-0.025050</td>\n",
       "      <td>0.036384</td>\n",
       "      <td>0.020478</td>\n",
       "      <td>0.023355</td>\n",
       "      <td>-0.006051</td>\n",
       "      <td>-0.002283</td>\n",
       "      <td>...</td>\n",
       "      <td>-0.019800</td>\n",
       "      <td>0.018656</td>\n",
       "      <td>0.010720</td>\n",
       "      <td>-0.059683</td>\n",
       "      <td>0.004915</td>\n",
       "      <td>-0.145712</td>\n",
       "      <td>1.000000</td>\n",
       "      <td>-0.002357</td>\n",
       "      <td>0.003861</td>\n",
       "      <td>-0.028884</td>\n",
       "    </tr>\n",
       "    <tr>\n",
       "      <th>Sale_Type</th>\n",
       "      <td>0.012656</td>\n",
       "      <td>0.097450</td>\n",
       "      <td>-0.030924</td>\n",
       "      <td>0.012305</td>\n",
       "      <td>0.014326</td>\n",
       "      <td>-0.001073</td>\n",
       "      <td>-0.025823</td>\n",
       "      <td>-0.126768</td>\n",
       "      <td>0.014197</td>\n",
       "      <td>0.054910</td>\n",
       "      <td>...</td>\n",
       "      <td>-0.034601</td>\n",
       "      <td>-0.009010</td>\n",
       "      <td>0.004591</td>\n",
       "      <td>0.011024</td>\n",
       "      <td>0.015793</td>\n",
       "      <td>-0.047362</td>\n",
       "      <td>-0.002357</td>\n",
       "      <td>1.000000</td>\n",
       "      <td>0.184031</td>\n",
       "      <td>-0.054826</td>\n",
       "    </tr>\n",
       "    <tr>\n",
       "      <th>Sale_Condition</th>\n",
       "      <td>-0.024822</td>\n",
       "      <td>0.009500</td>\n",
       "      <td>0.058453</td>\n",
       "      <td>0.034178</td>\n",
       "      <td>0.006055</td>\n",
       "      <td>-0.038234</td>\n",
       "      <td>0.033766</td>\n",
       "      <td>-0.089698</td>\n",
       "      <td>0.051500</td>\n",
       "      <td>-0.043064</td>\n",
       "      <td>...</td>\n",
       "      <td>-0.002685</td>\n",
       "      <td>0.004396</td>\n",
       "      <td>-0.020057</td>\n",
       "      <td>-0.067243</td>\n",
       "      <td>0.013040</td>\n",
       "      <td>0.013338</td>\n",
       "      <td>0.003861</td>\n",
       "      <td>0.184031</td>\n",
       "      <td>1.000000</td>\n",
       "      <td>0.213168</td>\n",
       "    </tr>\n",
       "    <tr>\n",
       "      <th>Sale_Price</th>\n",
       "      <td>-0.084563</td>\n",
       "      <td>-0.166896</td>\n",
       "      <td>0.334988</td>\n",
       "      <td>0.263843</td>\n",
       "      <td>0.041057</td>\n",
       "      <td>-0.255428</td>\n",
       "      <td>0.015545</td>\n",
       "      <td>-0.014323</td>\n",
       "      <td>-0.067234</td>\n",
       "      <td>0.051091</td>\n",
       "      <td>...</td>\n",
       "      <td>0.020789</td>\n",
       "      <td>0.044553</td>\n",
       "      <td>0.111378</td>\n",
       "      <td>0.092389</td>\n",
       "      <td>-0.021216</td>\n",
       "      <td>0.046401</td>\n",
       "      <td>-0.028884</td>\n",
       "      <td>-0.054826</td>\n",
       "      <td>0.213168</td>\n",
       "      <td>1.000000</td>\n",
       "    </tr>\n",
       "  </tbody>\n",
       "</table>\n",
       "<p>75 rows × 75 columns</p>\n",
       "</div>"
      ],
      "text/plain": [
       "                Building_Class  Zoning_Class  Lot_Extent  Lot_Size  Road_Type  \\\n",
       "Building_Class        1.000000      0.035882   -0.357007 -0.139852  -0.024937   \n",
       "Zoning_Class          0.035882      1.000000   -0.106340 -0.034453   0.087656   \n",
       "Lot_Extent           -0.357007     -0.106340    1.000000  0.306703  -0.037335   \n",
       "Lot_Size             -0.139852     -0.034453    0.306703  1.000000  -0.197129   \n",
       "Road_Type            -0.024937      0.087656   -0.037335 -0.197129   1.000000   \n",
       "...                        ...           ...         ...       ...        ...   \n",
       "Month_Sold           -0.013660     -0.031500    0.010190  0.001200   0.003695   \n",
       "Year_Sold            -0.021330     -0.020623    0.006729 -0.014256  -0.025050   \n",
       "Sale_Type             0.012656      0.097450   -0.030924  0.012305   0.014326   \n",
       "Sale_Condition       -0.024822      0.009500    0.058453  0.034178   0.006055   \n",
       "Sale_Price           -0.084563     -0.166896    0.334988  0.263843   0.041057   \n",
       "\n",
       "                Property_Shape  Land_Outline  Utility_Type  Lot_Configuration  \\\n",
       "Building_Class        0.119793     -0.002752     -0.022865           0.076301   \n",
       "Zoning_Class          0.061923     -0.017845     -0.001193          -0.009877   \n",
       "Lot_Extent           -0.144790     -0.075720     -0.000045          -0.181211   \n",
       "Lot_Size             -0.165317     -0.149076      0.010122          -0.121152   \n",
       "Road_Type            -0.010259      0.115985      0.001683           0.013935   \n",
       "...                        ...           ...           ...                ...   \n",
       "Month_Sold           -0.033400     -0.011573     -0.051554           0.018954   \n",
       "Year_Sold             0.036384      0.020478      0.023355          -0.006051   \n",
       "Sale_Type            -0.001073     -0.025823     -0.126768           0.014197   \n",
       "Sale_Condition       -0.038234      0.033766     -0.089698           0.051500   \n",
       "Sale_Price           -0.255428      0.015545     -0.014323          -0.067234   \n",
       "\n",
       "                Property_Slope  ...  Enclosed_Lobby_Area  \\\n",
       "Building_Class       -0.025814  ...             0.030441   \n",
       "Zoning_Class         -0.022062  ...            -0.004703   \n",
       "Lot_Extent            0.067550  ...            -0.009967   \n",
       "Lot_Size              0.436867  ...             0.003951   \n",
       "Road_Type            -0.179353  ...            -0.002879   \n",
       "...                        ...  ...                  ...   \n",
       "Month_Sold            0.007053  ...            -0.027018   \n",
       "Year_Sold            -0.002283  ...            -0.019800   \n",
       "Sale_Type             0.054910  ...            -0.034601   \n",
       "Sale_Condition       -0.043064  ...            -0.002685   \n",
       "Sale_Price            0.051091  ...             0.020789   \n",
       "\n",
       "                Three_Season_Lobby_Area  Screen_Lobby_Area  Pool_Area  \\\n",
       "Building_Class                -0.043906          -0.026199   0.008244   \n",
       "Zoning_Class                   0.000359           0.019081  -0.003130   \n",
       "Lot_Extent                     0.062337           0.037727   0.180881   \n",
       "Lot_Size                       0.020418           0.043151   0.077670   \n",
       "Road_Type                      0.007479          -0.033149   0.004416   \n",
       "...                                 ...                ...        ...   \n",
       "Month_Sold                     0.029465           0.023196  -0.033742   \n",
       "Year_Sold                      0.018656           0.010720  -0.059683   \n",
       "Sale_Type                     -0.009010           0.004591   0.011024   \n",
       "Sale_Condition                 0.004396          -0.020057  -0.067243   \n",
       "Sale_Price                     0.044553           0.111378   0.092389   \n",
       "\n",
       "                Miscellaneous_Value  Month_Sold  Year_Sold  Sale_Type  \\\n",
       "Building_Class            -0.007738   -0.013660  -0.021330   0.012656   \n",
       "Zoning_Class               0.009290   -0.031500  -0.020623   0.097450   \n",
       "Lot_Extent                 0.001114    0.010190   0.006729  -0.030924   \n",
       "Lot_Size                   0.038064    0.001200  -0.014256   0.012305   \n",
       "Road_Type                 -0.022729    0.003695  -0.025050   0.014326   \n",
       "...                             ...         ...        ...        ...   \n",
       "Month_Sold                -0.006502    1.000000  -0.145712  -0.047362   \n",
       "Year_Sold                  0.004915   -0.145712   1.000000  -0.002357   \n",
       "Sale_Type                  0.015793   -0.047362  -0.002357   1.000000   \n",
       "Sale_Condition             0.013040    0.013338   0.003861   0.184031   \n",
       "Sale_Price                -0.021216    0.046401  -0.028884  -0.054826   \n",
       "\n",
       "                Sale_Condition  Sale_Price  \n",
       "Building_Class       -0.024822   -0.084563  \n",
       "Zoning_Class          0.009500   -0.166896  \n",
       "Lot_Extent            0.058453    0.334988  \n",
       "Lot_Size              0.034178    0.263843  \n",
       "Road_Type             0.006055    0.041057  \n",
       "...                        ...         ...  \n",
       "Month_Sold            0.013338    0.046401  \n",
       "Year_Sold             0.003861   -0.028884  \n",
       "Sale_Type             0.184031   -0.054826  \n",
       "Sale_Condition        1.000000    0.213168  \n",
       "Sale_Price            0.213168    1.000000  \n",
       "\n",
       "[75 rows x 75 columns]"
      ]
     },
     "execution_count": 27,
     "metadata": {},
     "output_type": "execute_result"
    }
   ],
   "source": [
    "property.corr()"
   ]
  },
  {
   "cell_type": "code",
   "execution_count": 28,
   "id": "91ab0970",
   "metadata": {},
   "outputs": [
    {
     "data": {
      "text/plain": [
       "Building_Class   -0.084563\n",
       "Zoning_Class     -0.166896\n",
       "Lot_Extent        0.334988\n",
       "Lot_Size          0.263843\n",
       "Road_Type         0.041057\n",
       "                    ...   \n",
       "Month_Sold        0.046401\n",
       "Year_Sold        -0.028884\n",
       "Sale_Type        -0.054826\n",
       "Sale_Condition    0.213168\n",
       "Sale_Price        1.000000\n",
       "Name: Sale_Price, Length: 75, dtype: float64"
      ]
     },
     "execution_count": 28,
     "metadata": {},
     "output_type": "execute_result"
    }
   ],
   "source": [
    "property.corr().iloc[:,-1]"
   ]
  },
  {
   "cell_type": "code",
   "execution_count": 29,
   "id": "97986f4b",
   "metadata": {},
   "outputs": [],
   "source": [
    "x=property.iloc[:,0:-1] # x variables\n",
    "y=property.Sale_Price   # y variable\n",
    "corr_list=[]\n",
    "for col in x.columns:\n",
    "    corr_list.append(x[col].corr(y))"
   ]
  },
  {
   "cell_type": "code",
   "execution_count": 30,
   "id": "6e31f843",
   "metadata": {},
   "outputs": [],
   "source": [
    "corr_df            =pd.DataFrame()\n",
    "corr_df[\"Features\"]=x.columns\n",
    "corr_df[\"Corr\"]    =corr_list"
   ]
  },
  {
   "cell_type": "code",
   "execution_count": 31,
   "id": "87f4544d",
   "metadata": {},
   "outputs": [
    {
     "data": {
      "text/html": [
       "<div>\n",
       "<style scoped>\n",
       "    .dataframe tbody tr th:only-of-type {\n",
       "        vertical-align: middle;\n",
       "    }\n",
       "\n",
       "    .dataframe tbody tr th {\n",
       "        vertical-align: top;\n",
       "    }\n",
       "\n",
       "    .dataframe thead th {\n",
       "        text-align: right;\n",
       "    }\n",
       "</style>\n",
       "<table border=\"1\" class=\"dataframe\">\n",
       "  <thead>\n",
       "    <tr style=\"text-align: right;\">\n",
       "      <th></th>\n",
       "      <th>Features</th>\n",
       "      <th>Corr</th>\n",
       "    </tr>\n",
       "  </thead>\n",
       "  <tbody>\n",
       "    <tr>\n",
       "      <th>0</th>\n",
       "      <td>Building_Class</td>\n",
       "      <td>-0.084563</td>\n",
       "    </tr>\n",
       "    <tr>\n",
       "      <th>1</th>\n",
       "      <td>Zoning_Class</td>\n",
       "      <td>-0.166896</td>\n",
       "    </tr>\n",
       "    <tr>\n",
       "      <th>2</th>\n",
       "      <td>Lot_Extent</td>\n",
       "      <td>0.334988</td>\n",
       "    </tr>\n",
       "    <tr>\n",
       "      <th>3</th>\n",
       "      <td>Lot_Size</td>\n",
       "      <td>0.263843</td>\n",
       "    </tr>\n",
       "    <tr>\n",
       "      <th>4</th>\n",
       "      <td>Road_Type</td>\n",
       "      <td>0.041057</td>\n",
       "    </tr>\n",
       "    <tr>\n",
       "      <th>...</th>\n",
       "      <td>...</td>\n",
       "      <td>...</td>\n",
       "    </tr>\n",
       "    <tr>\n",
       "      <th>69</th>\n",
       "      <td>Miscellaneous_Value</td>\n",
       "      <td>-0.021216</td>\n",
       "    </tr>\n",
       "    <tr>\n",
       "      <th>70</th>\n",
       "      <td>Month_Sold</td>\n",
       "      <td>0.046401</td>\n",
       "    </tr>\n",
       "    <tr>\n",
       "      <th>71</th>\n",
       "      <td>Year_Sold</td>\n",
       "      <td>-0.028884</td>\n",
       "    </tr>\n",
       "    <tr>\n",
       "      <th>72</th>\n",
       "      <td>Sale_Type</td>\n",
       "      <td>-0.054826</td>\n",
       "    </tr>\n",
       "    <tr>\n",
       "      <th>73</th>\n",
       "      <td>Sale_Condition</td>\n",
       "      <td>0.213168</td>\n",
       "    </tr>\n",
       "  </tbody>\n",
       "</table>\n",
       "<p>74 rows × 2 columns</p>\n",
       "</div>"
      ],
      "text/plain": [
       "               Features      Corr\n",
       "0        Building_Class -0.084563\n",
       "1          Zoning_Class -0.166896\n",
       "2            Lot_Extent  0.334988\n",
       "3              Lot_Size  0.263843\n",
       "4             Road_Type  0.041057\n",
       "..                  ...       ...\n",
       "69  Miscellaneous_Value -0.021216\n",
       "70           Month_Sold  0.046401\n",
       "71            Year_Sold -0.028884\n",
       "72            Sale_Type -0.054826\n",
       "73       Sale_Condition  0.213168\n",
       "\n",
       "[74 rows x 2 columns]"
      ]
     },
     "execution_count": 31,
     "metadata": {},
     "output_type": "execute_result"
    }
   ],
   "source": [
    "corr_df"
   ]
  },
  {
   "cell_type": "code",
   "execution_count": 32,
   "id": "8f19ddff",
   "metadata": {},
   "outputs": [],
   "source": [
    "# its say values are b/w -0.3 to 0.3 lets consider them as insignificant\n",
    "l1=list(corr_df[(corr_df[\"Corr\"] < -0.3) | (corr_df[\"Corr\"]> 0.3) ].Features)"
   ]
  },
  {
   "cell_type": "code",
   "execution_count": null,
   "id": "ce749460",
   "metadata": {},
   "outputs": [],
   "source": []
  },
  {
   "cell_type": "code",
   "execution_count": 33,
   "id": "67b3624f",
   "metadata": {},
   "outputs": [],
   "source": [
    "l1.append('Sale_Price')"
   ]
  },
  {
   "cell_type": "code",
   "execution_count": 34,
   "id": "c7c275ad",
   "metadata": {},
   "outputs": [],
   "source": [
    "property=property.loc[:,l1]"
   ]
  },
  {
   "cell_type": "code",
   "execution_count": null,
   "id": "f084d0c8",
   "metadata": {},
   "outputs": [],
   "source": []
  },
  {
   "cell_type": "code",
   "execution_count": null,
   "id": "916ef72d",
   "metadata": {},
   "outputs": [],
   "source": []
  },
  {
   "cell_type": "code",
   "execution_count": null,
   "id": "976ccf5a",
   "metadata": {},
   "outputs": [],
   "source": []
  },
  {
   "cell_type": "code",
   "execution_count": null,
   "id": "8588b21e",
   "metadata": {},
   "outputs": [],
   "source": []
  },
  {
   "cell_type": "markdown",
   "id": "2d26ced1",
   "metadata": {},
   "source": [
    "# step 4: Sampling"
   ]
  },
  {
   "cell_type": "code",
   "execution_count": 35,
   "id": "aeb260ec",
   "metadata": {},
   "outputs": [],
   "source": [
    "#property= df1\n",
    "from sklearn.model_selection import  train_test_split\n",
    "property_train, property_test= train_test_split(property,test_size=.2)"
   ]
  },
  {
   "cell_type": "code",
   "execution_count": 36,
   "id": "966f1aac",
   "metadata": {},
   "outputs": [
    {
     "data": {
      "text/plain": [
       "31      149350\n",
       "614      75500\n",
       "306     225000\n",
       "177     172500\n",
       "843     141000\n",
       "         ...  \n",
       "215     134450\n",
       "365     147000\n",
       "1326     79000\n",
       "779     135000\n",
       "718     341000\n",
       "Name: Sale_Price, Length: 1167, dtype: int64"
      ]
     },
     "execution_count": 36,
     "metadata": {},
     "output_type": "execute_result"
    }
   ],
   "source": [
    "property_train_x=property_train.iloc[:,:-1] # x variable\n",
    "property_train_y=property_train.iloc[:,-1]   # y variable\n",
    "property_test_x=property_test.iloc[:,:-1] # x variable\n",
    "property_test_y=property_test.iloc[:,-1] # \n",
    "# y variable\n",
    "property_train_y"
   ]
  },
  {
   "cell_type": "markdown",
   "id": "d21f8847",
   "metadata": {},
   "source": [
    "# step 5: Model Making"
   ]
  },
  {
   "cell_type": "code",
   "execution_count": 37,
   "id": "9fa9fbdd",
   "metadata": {},
   "outputs": [],
   "source": [
    "from sklearn.linear_model import LinearRegression\n",
    "linreg=LinearRegression()"
   ]
  },
  {
   "cell_type": "code",
   "execution_count": 38,
   "id": "0d3b6a38",
   "metadata": {},
   "outputs": [
    {
     "data": {
      "text/html": [
       "<style>#sk-container-id-1 {color: black;background-color: white;}#sk-container-id-1 pre{padding: 0;}#sk-container-id-1 div.sk-toggleable {background-color: white;}#sk-container-id-1 label.sk-toggleable__label {cursor: pointer;display: block;width: 100%;margin-bottom: 0;padding: 0.3em;box-sizing: border-box;text-align: center;}#sk-container-id-1 label.sk-toggleable__label-arrow:before {content: \"▸\";float: left;margin-right: 0.25em;color: #696969;}#sk-container-id-1 label.sk-toggleable__label-arrow:hover:before {color: black;}#sk-container-id-1 div.sk-estimator:hover label.sk-toggleable__label-arrow:before {color: black;}#sk-container-id-1 div.sk-toggleable__content {max-height: 0;max-width: 0;overflow: hidden;text-align: left;background-color: #f0f8ff;}#sk-container-id-1 div.sk-toggleable__content pre {margin: 0.2em;color: black;border-radius: 0.25em;background-color: #f0f8ff;}#sk-container-id-1 input.sk-toggleable__control:checked~div.sk-toggleable__content {max-height: 200px;max-width: 100%;overflow: auto;}#sk-container-id-1 input.sk-toggleable__control:checked~label.sk-toggleable__label-arrow:before {content: \"▾\";}#sk-container-id-1 div.sk-estimator input.sk-toggleable__control:checked~label.sk-toggleable__label {background-color: #d4ebff;}#sk-container-id-1 div.sk-label input.sk-toggleable__control:checked~label.sk-toggleable__label {background-color: #d4ebff;}#sk-container-id-1 input.sk-hidden--visually {border: 0;clip: rect(1px 1px 1px 1px);clip: rect(1px, 1px, 1px, 1px);height: 1px;margin: -1px;overflow: hidden;padding: 0;position: absolute;width: 1px;}#sk-container-id-1 div.sk-estimator {font-family: monospace;background-color: #f0f8ff;border: 1px dotted black;border-radius: 0.25em;box-sizing: border-box;margin-bottom: 0.5em;}#sk-container-id-1 div.sk-estimator:hover {background-color: #d4ebff;}#sk-container-id-1 div.sk-parallel-item::after {content: \"\";width: 100%;border-bottom: 1px solid gray;flex-grow: 1;}#sk-container-id-1 div.sk-label:hover label.sk-toggleable__label {background-color: #d4ebff;}#sk-container-id-1 div.sk-serial::before {content: \"\";position: absolute;border-left: 1px solid gray;box-sizing: border-box;top: 0;bottom: 0;left: 50%;z-index: 0;}#sk-container-id-1 div.sk-serial {display: flex;flex-direction: column;align-items: center;background-color: white;padding-right: 0.2em;padding-left: 0.2em;position: relative;}#sk-container-id-1 div.sk-item {position: relative;z-index: 1;}#sk-container-id-1 div.sk-parallel {display: flex;align-items: stretch;justify-content: center;background-color: white;position: relative;}#sk-container-id-1 div.sk-item::before, #sk-container-id-1 div.sk-parallel-item::before {content: \"\";position: absolute;border-left: 1px solid gray;box-sizing: border-box;top: 0;bottom: 0;left: 50%;z-index: -1;}#sk-container-id-1 div.sk-parallel-item {display: flex;flex-direction: column;z-index: 1;position: relative;background-color: white;}#sk-container-id-1 div.sk-parallel-item:first-child::after {align-self: flex-end;width: 50%;}#sk-container-id-1 div.sk-parallel-item:last-child::after {align-self: flex-start;width: 50%;}#sk-container-id-1 div.sk-parallel-item:only-child::after {width: 0;}#sk-container-id-1 div.sk-dashed-wrapped {border: 1px dashed gray;margin: 0 0.4em 0.5em 0.4em;box-sizing: border-box;padding-bottom: 0.4em;background-color: white;}#sk-container-id-1 div.sk-label label {font-family: monospace;font-weight: bold;display: inline-block;line-height: 1.2em;}#sk-container-id-1 div.sk-label-container {text-align: center;}#sk-container-id-1 div.sk-container {/* jupyter's `normalize.less` sets `[hidden] { display: none; }` but bootstrap.min.css set `[hidden] { display: none !important; }` so we also need the `!important` here to be able to override the default hidden behavior on the sphinx rendered scikit-learn.org. See: https://github.com/scikit-learn/scikit-learn/issues/21755 */display: inline-block !important;position: relative;}#sk-container-id-1 div.sk-text-repr-fallback {display: none;}</style><div id=\"sk-container-id-1\" class=\"sk-top-container\"><div class=\"sk-text-repr-fallback\"><pre>LinearRegression()</pre><b>In a Jupyter environment, please rerun this cell to show the HTML representation or trust the notebook. <br />On GitHub, the HTML representation is unable to render, please try loading this page with nbviewer.org.</b></div><div class=\"sk-container\" hidden><div class=\"sk-item\"><div class=\"sk-estimator sk-toggleable\"><input class=\"sk-toggleable__control sk-hidden--visually\" id=\"sk-estimator-id-1\" type=\"checkbox\" checked><label for=\"sk-estimator-id-1\" class=\"sk-toggleable__label sk-toggleable__label-arrow\">LinearRegression</label><div class=\"sk-toggleable__content\"><pre>LinearRegression()</pre></div></div></div></div></div>"
      ],
      "text/plain": [
       "LinearRegression()"
      ]
     },
     "execution_count": 38,
     "metadata": {},
     "output_type": "execute_result"
    }
   ],
   "source": [
    "linreg.fit(property_train_x,property_train_y) "
   ]
  },
  {
   "cell_type": "code",
   "execution_count": 39,
   "id": "58a363e5",
   "metadata": {},
   "outputs": [
    {
     "data": {
      "text/plain": [
       "0.8712866784203993"
      ]
     },
     "execution_count": 39,
     "metadata": {},
     "output_type": "execute_result"
    }
   ],
   "source": [
    "Rsquare =linreg.score(property_train_x,property_train_y) # Rsquare value \n",
    "Rsquare"
   ]
  },
  {
   "cell_type": "code",
   "execution_count": 40,
   "id": "272c1599",
   "metadata": {},
   "outputs": [
    {
     "data": {
      "text/plain": [
       "0.8688114222361762"
      ]
     },
     "execution_count": 40,
     "metadata": {},
     "output_type": "execute_result"
    }
   ],
   "source": [
    "# adjusted Rsquare\n",
    "n=property_train_x.shape[0]# no.of rows\n",
    "k=property_train_x.shape[1] # no.of x columns\n",
    "Adj_Rsquare= 1-(1-Rsquare)*(n-1)/(n-k-1)\n",
    "Adj_Rsquare"
   ]
  },
  {
   "cell_type": "code",
   "execution_count": 41,
   "id": "6c5a9fb9",
   "metadata": {},
   "outputs": [],
   "source": [
    "#linreg.coef_"
   ]
  },
  {
   "cell_type": "code",
   "execution_count": 42,
   "id": "435aa194",
   "metadata": {},
   "outputs": [],
   "source": [
    "#linreg.intercept_"
   ]
  },
  {
   "cell_type": "code",
   "execution_count": 43,
   "id": "590fff47",
   "metadata": {},
   "outputs": [],
   "source": [
    "pred_train=linreg.predict(property_train_x) # slope for each row on train data\n",
    "pred_test=linreg.predict(property_test_x) #slope for each row on test data"
   ]
  },
  {
   "cell_type": "code",
   "execution_count": null,
   "id": "dc855a99",
   "metadata": {},
   "outputs": [],
   "source": []
  },
  {
   "cell_type": "code",
   "execution_count": 44,
   "id": "1d3abff7",
   "metadata": {},
   "outputs": [],
   "source": [
    "err_train= property_train_y- pred_train # error actual- predicted\n",
    "err_test= property_test_y- pred_test"
   ]
  },
  {
   "cell_type": "markdown",
   "id": "b7bf72b6",
   "metadata": {},
   "source": [
    "# checking the assumptions (always checked on TRAIN data)"
   ]
  },
  {
   "cell_type": "code",
   "execution_count": 45,
   "id": "f3c02c8b",
   "metadata": {},
   "outputs": [
    {
     "data": {
      "text/plain": [
       "-6.184875709742895e-11"
      ]
     },
     "execution_count": 45,
     "metadata": {},
     "output_type": "execute_result"
    }
   ],
   "source": [
    "err_train.mean() # mean= Zero"
   ]
  },
  {
   "cell_type": "code",
   "execution_count": 46,
   "id": "f9551548",
   "metadata": {},
   "outputs": [
    {
     "data": {
      "text/plain": [
       "10.105047679383386"
      ]
     },
     "execution_count": 46,
     "metadata": {},
     "output_type": "execute_result"
    }
   ],
   "source": [
    "err_train.kurtosis()+3 #lapto--> more than 3"
   ]
  },
  {
   "cell_type": "code",
   "execution_count": 47,
   "id": "615d0d89",
   "metadata": {},
   "outputs": [
    {
     "data": {
      "text/plain": [
       "0.7967651630716299"
      ]
     },
     "execution_count": 47,
     "metadata": {},
     "output_type": "execute_result"
    }
   ],
   "source": [
    "err_train.skew()"
   ]
  },
  {
   "cell_type": "code",
   "execution_count": 48,
   "id": "6dcd4459",
   "metadata": {},
   "outputs": [],
   "source": [
    "import matplotlib.pyplot as plt\n",
    "import seaborn as sns"
   ]
  },
  {
   "cell_type": "code",
   "execution_count": 49,
   "id": "a0d2543e",
   "metadata": {},
   "outputs": [
    {
     "data": {
      "image/png": "[encoded data removed]",
      "text/plain": [
       "<Figure size 640x480 with 1 Axes>"
      ]
     },
     "metadata": {},
     "output_type": "display_data"
    }
   ],
   "source": [
    "plt.hist(err_train, bins=50, edgecolor=\"w\");"
   ]
  },
  {
   "cell_type": "code",
   "execution_count": 50,
   "id": "542a550d",
   "metadata": {},
   "outputs": [],
   "source": [
    "# data seen in graph is lactocritic and most of the data is near 0"
   ]
  },
  {
   "cell_type": "code",
   "execution_count": 51,
   "id": "f87dc084",
   "metadata": {},
   "outputs": [
    {
     "data": {
      "text/plain": [
       "<Axes: >"
      ]
     },
     "execution_count": 51,
     "metadata": {},
     "output_type": "execute_result"
    },
    {
     "data": {
      "image/png": "[encoded data removed]",
      "text/plain": [
       "<Figure size 640x480 with 1 Axes>"
      ]
     },
     "metadata": {},
     "output_type": "display_data"
    }
   ],
   "source": [
    "sns.boxplot(list(err_train))"
   ]
  },
  {
   "cell_type": "code",
   "execution_count": 52,
   "id": "8f8f7b3e",
   "metadata": {},
   "outputs": [],
   "source": [
    "# since the data is lactocritip we have more outliers in high side rather than low"
   ]
  },
  {
   "cell_type": "code",
   "execution_count": 53,
   "id": "302a3faa",
   "metadata": {},
   "outputs": [
    {
     "data": {
      "text/plain": [
       "<matplotlib.lines.Line2D at 0x2986cea33d0>"
      ]
     },
     "execution_count": 53,
     "metadata": {},
     "output_type": "execute_result"
    },
    {
     "data": {
      "image/png": "[encoded data removed]",
      "text/plain": [
       "<Figure size 640x480 with 1 Axes>"
      ]
     },
     "metadata": {},
     "output_type": "display_data"
    }
   ],
   "source": [
    "plt.plot(err_train,'.')\n",
    "plt.axhline(y=0, color=\"red\")\n",
    "plt.axhline(y=70000, color=\"yellow\")\n",
    "plt.axhline(y= -70000, color=\"yellow\")"
   ]
  },
  {
   "cell_type": "code",
   "execution_count": 54,
   "id": "e07bebbc",
   "metadata": {},
   "outputs": [],
   "source": [
    "# we can see a pattern where almost all the actual points lie near 0 along with many outliers specifically after 70000 and below -70000\n",
    "# there  are many points away from mean"
   ]
  },
  {
   "cell_type": "code",
   "execution_count": 55,
   "id": "7158909e",
   "metadata": {},
   "outputs": [],
   "source": [
    "actual_pred= pd.DataFrame()\n",
    "actual_pred[\"Actual\"]= property_train_y # we always predict y so we won't take x\n",
    "actual_pred[\"Predicted\"]=pred_train\n",
    "actual_pred[\"Error\"] = actual_pred[\"Actual\"] - actual_pred[\"Predicted\"]"
   ]
  },
  {
   "cell_type": "code",
   "execution_count": 56,
   "id": "eb80296a",
   "metadata": {},
   "outputs": [
    {
     "data": {
      "image/png": "[encoded data removed]",
      "text/plain": [
       "<Figure size 640x480 with 1 Axes>"
      ]
     },
     "metadata": {},
     "output_type": "display_data"
    }
   ],
   "source": [
    "sns.regplot(x=\"Actual\", y='Predicted', data=actual_pred); # homosedacity is checked by this graph\n",
    "\n",
    "# in this graph homosedacity seems to b correct"
   ]
  },
  {
   "cell_type": "code",
   "execution_count": 57,
   "id": "53a9feb5",
   "metadata": {},
   "outputs": [],
   "source": [
    "# for  5- 12 actual points our model is falling as homosedacity seems to b correct "
   ]
  },
  {
   "cell_type": "code",
   "execution_count": 58,
   "id": "af748afd",
   "metadata": {},
   "outputs": [],
   "source": [
    "pred_test= linreg.predict(property_test_x)\n",
    "err_test= property_test_y-pred_test"
   ]
  },
  {
   "cell_type": "code",
   "execution_count": 59,
   "id": "b240461f",
   "metadata": {},
   "outputs": [],
   "source": [
    "from sklearn.metrics import mean_absolute_percentage_error,mean_squared_error\n",
    "import numpy as np"
   ]
  },
  {
   "cell_type": "code",
   "execution_count": 60,
   "id": "fd8e6220",
   "metadata": {},
   "outputs": [],
   "source": [
    "#MAPE\n",
    "mape_test=mean_absolute_percentage_error(property_test_y,pred_test)*100 \n",
    "mape_train=np.mean(np.abs(err_train*100)/property_train_y)"
   ]
  },
  {
   "cell_type": "code",
   "execution_count": 61,
   "id": "9472585c",
   "metadata": {},
   "outputs": [],
   "source": [
    "#MSE\n",
    "mse_test=mean_squared_error(property_test_y,pred_test) \n",
    "mse_train=np.mean(np.square(err_train))"
   ]
  },
  {
   "cell_type": "code",
   "execution_count": 62,
   "id": "468f1263",
   "metadata": {},
   "outputs": [],
   "source": [
    "#RMSE\n",
    "\n",
    "rmse_test=np.sqrt(mse_test)\n",
    "rmse_train=np.sqrt(mse_test)"
   ]
  },
  {
   "cell_type": "code",
   "execution_count": 74,
   "id": "5dcf3cc9",
   "metadata": {},
   "outputs": [
    {
     "name": "stdout",
     "output_type": "stream",
     "text": [
      "rsquare--> 0.8712866784203993 |||||||||   adjusted rsquare 0.8688114222361762\n",
      "MAPE---> 14.218097109770692  test --||||||-- 12.504344235375681 train\n",
      "MSE---> 3449463643.57335  test  --||||||-- 778187658.2431597 train\n",
      "RMSE---> 58732.13467577481  test  --||||||-- 58732.13467577481 train\n"
     ]
    }
   ],
   "source": [
    "print(\"rsquare-->\",Rsquare,\"|||||||||---adjusted rsquare\", Adj_Rsquare)\n",
    "print(\"MAPE--->\",mape_test,\" test --||||||--\",mape_train,\"train\")\n",
    "print(\"MSE--->\",mse_test,\" test  --||||||--\",mse_train,\"train\")\n",
    "print(\"RMSE--->\",rmse_test,\" test  --||||||--\",rmse_train,\"train\")"
   ]
  },
  {
   "cell_type": "code",
   "execution_count": 64,
   "id": "5e6fde75",
   "metadata": {},
   "outputs": [
    {
     "data": {
      "text/plain": [
       "85.7819028902293"
      ]
     },
     "execution_count": 64,
     "metadata": {},
     "output_type": "execute_result"
    }
   ],
   "source": [
    "Accuracy= 100-mape_test\n",
    "Accuracy"
   ]
  },
  {
   "cell_type": "code",
   "execution_count": 65,
   "id": "3b500ea9",
   "metadata": {},
   "outputs": [],
   "source": [
    "# removing outliers"
   ]
  },
  {
   "cell_type": "code",
   "execution_count": 66,
   "id": "a1b12480",
   "metadata": {},
   "outputs": [],
   "source": [
    "def remove_outliers(df,col,k):\n",
    "    \n",
    "    \"\"\"\n",
    "    -----------------------------------------------------------------\n",
    "      for removing outliers:\n",
    "      where df = name of data frame,\n",
    "     col = name of col ,\n",
    "     k= no.of sd we want to take after which we will remove our outlier\n",
    "     -----------------------------------------------------------------\n",
    "    \"\"\"\n",
    "    mean=df[col].mean()\n",
    "    global df1\n",
    "    sd=df[col].std()\n",
    "    final_list=[x for x in df[col] if (x> mean-k *sd)]\n",
    "    final_list=[x for x in final_list if (x< mean +k*sd)]\n",
    "    df1= df.loc[df[col].isin(final_list)]; print (df.shape)\n",
    "    print(\"Number of outliers removed===>\",df.shape[0]-df1.shape[0])"
   ]
  },
  {
   "cell_type": "code",
   "execution_count": 67,
   "id": "e77c578a",
   "metadata": {},
   "outputs": [],
   "source": [
    "#outliers are to b removed from entire data\n"
   ]
  },
  {
   "cell_type": "code",
   "execution_count": 68,
   "id": "977ddcd7",
   "metadata": {},
   "outputs": [
    {
     "name": "stdout",
     "output_type": "stream",
     "text": [
      "(1459, 23)\n",
      "Number of outliers removed===> 22\n"
     ]
    }
   ],
   "source": [
    "remove_outliers(property,\"Sale_Price\",3)"
   ]
  },
  {
   "cell_type": "code",
   "execution_count": 69,
   "id": "2fed560e",
   "metadata": {},
   "outputs": [
    {
     "data": {
      "text/plain": [
       "(1437, 23)"
      ]
     },
     "execution_count": 69,
     "metadata": {},
     "output_type": "execute_result"
    }
   ],
   "source": [
    "df1.shape"
   ]
  },
  {
   "cell_type": "code",
   "execution_count": 70,
   "id": "605bafa6",
   "metadata": {},
   "outputs": [],
   "source": [
    "# now aftr removing outlier we need to build model on df1 instead of property\n",
    "# we add property=df1 at step4 in sampling and re- run our program from there only"
   ]
  },
  {
   "cell_type": "code",
   "execution_count": 71,
   "id": "402cac68",
   "metadata": {},
   "outputs": [
    {
     "data": {
      "text/plain": [
       "count      1437.000000\n",
       "mean     175864.247042\n",
       "std       67495.204179\n",
       "min       34900.000000\n",
       "25%      129500.000000\n",
       "50%      161500.000000\n",
       "75%      210000.000000\n",
       "max      415298.000000\n",
       "Name: Sale_Price, dtype: float64"
      ]
     },
     "execution_count": 71,
     "metadata": {},
     "output_type": "execute_result"
    }
   ],
   "source": [
    "df1.Sale_Price.describe()"
   ]
  },
  {
   "cell_type": "code",
   "execution_count": 72,
   "id": "efd2425f",
   "metadata": {},
   "outputs": [],
   "source": [
    "# min--> 34900 : max--> 339750 we are making model on this as aything above and below them are considered as"
   ]
  },
  {
   "cell_type": "code",
   "execution_count": 73,
   "id": "20d00e5c",
   "metadata": {},
   "outputs": [],
   "source": [
    "# for taking significant x values we use co-relation before sampling"
   ]
  },
  {
   "cell_type": "code",
   "execution_count": null,
   "id": "f8557679",
   "metadata": {},
   "outputs": [],
   "source": []
  },
  {
   "cell_type": "code",
   "execution_count": null,
   "id": "19a9e993",
   "metadata": {},
   "outputs": [],
   "source": []
  },
  {
   "cell_type": "code",
   "execution_count": null,
   "id": "3b9bc78f",
   "metadata": {},
   "outputs": [],
   "source": []
  },
  {
   "cell_type": "code",
   "execution_count": null,
   "id": "7670e796",
   "metadata": {},
   "outputs": [],
   "source": []
  },
  {
   "cell_type": "code",
   "execution_count": null,
   "id": "cc29458c",
   "metadata": {},
   "outputs": [],
   "source": []
  }
 ],
 "metadata": {
  "kernelspec": {
   "display_name": "Python 3 (ipykernel)",
   "language": "python",
   "name": "python3"
  },
  "language_info": {
   "codemirror_mode": {
    "name": "ipython",
    "version": 3
   },
   "file_extension": ".py",
   "mimetype": "text/x-python",
   "name": "python",
   "nbconvert_exporter": "python",
   "pygments_lexer": "ipython3",
   "version": "3.10.9"
  }
 },
 "nbformat": 4,
 "nbformat_minor": 5
}
