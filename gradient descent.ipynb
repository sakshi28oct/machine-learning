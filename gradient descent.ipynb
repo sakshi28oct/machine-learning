{
 "cells": [
  {
   "cell_type": "code",
   "execution_count": 1,
   "id": "840418f1",
   "metadata": {},
   "outputs": [],
   "source": [
    "# Model Building ON Property Price Train #"
   ]
  },
  {
   "cell_type": "code",
   "execution_count": 2,
   "id": "c4c45610",
   "metadata": {},
   "outputs": [],
   "source": [
    "import pandas as pd"
   ]
  },
  {
   "cell_type": "code",
   "execution_count": 3,
   "id": "bf951e22",
   "metadata": {},
   "outputs": [],
   "source": [
    "prop = pd.read_csv(r\"D:\\Data Science\\python\\Property_Price_Train.csv\")"
   ]
  },
  {
   "cell_type": "code",
   "execution_count": 4,
   "id": "43475293",
   "metadata": {},
   "outputs": [
    {
     "data": {
      "text/html": [
       "<div>\n",
       "<style scoped>\n",
       "    .dataframe tbody tr th:only-of-type {\n",
       "        vertical-align: middle;\n",
       "    }\n",
       "\n",
       "    .dataframe tbody tr th {\n",
       "        vertical-align: top;\n",
       "    }\n",
       "\n",
       "    .dataframe thead th {\n",
       "        text-align: right;\n",
       "    }\n",
       "</style>\n",
       "<table border=\"1\" class=\"dataframe\">\n",
       "  <thead>\n",
       "    <tr style=\"text-align: right;\">\n",
       "      <th></th>\n",
       "      <th>Id</th>\n",
       "      <th>Building_Class</th>\n",
       "      <th>Zoning_Class</th>\n",
       "      <th>Lot_Extent</th>\n",
       "      <th>Lot_Size</th>\n",
       "      <th>Road_Type</th>\n",
       "      <th>Lane_Type</th>\n",
       "      <th>Property_Shape</th>\n",
       "      <th>Land_Outline</th>\n",
       "      <th>Utility_Type</th>\n",
       "      <th>...</th>\n",
       "      <th>Pool_Area</th>\n",
       "      <th>Pool_Quality</th>\n",
       "      <th>Fence_Quality</th>\n",
       "      <th>Miscellaneous_Feature</th>\n",
       "      <th>Miscellaneous_Value</th>\n",
       "      <th>Month_Sold</th>\n",
       "      <th>Year_Sold</th>\n",
       "      <th>Sale_Type</th>\n",
       "      <th>Sale_Condition</th>\n",
       "      <th>Sale_Price</th>\n",
       "    </tr>\n",
       "  </thead>\n",
       "  <tbody>\n",
       "    <tr>\n",
       "      <th>0</th>\n",
       "      <td>1</td>\n",
       "      <td>60</td>\n",
       "      <td>RLD</td>\n",
       "      <td>65.0</td>\n",
       "      <td>8450</td>\n",
       "      <td>Paved</td>\n",
       "      <td>NaN</td>\n",
       "      <td>Reg</td>\n",
       "      <td>Lvl</td>\n",
       "      <td>AllPub</td>\n",
       "      <td>...</td>\n",
       "      <td>0</td>\n",
       "      <td>NaN</td>\n",
       "      <td>NaN</td>\n",
       "      <td>NaN</td>\n",
       "      <td>0</td>\n",
       "      <td>2</td>\n",
       "      <td>2008</td>\n",
       "      <td>WD</td>\n",
       "      <td>Normal</td>\n",
       "      <td>208500</td>\n",
       "    </tr>\n",
       "    <tr>\n",
       "      <th>1</th>\n",
       "      <td>2</td>\n",
       "      <td>20</td>\n",
       "      <td>RLD</td>\n",
       "      <td>80.0</td>\n",
       "      <td>9600</td>\n",
       "      <td>Paved</td>\n",
       "      <td>NaN</td>\n",
       "      <td>Reg</td>\n",
       "      <td>Lvl</td>\n",
       "      <td>AllPub</td>\n",
       "      <td>...</td>\n",
       "      <td>0</td>\n",
       "      <td>NaN</td>\n",
       "      <td>NaN</td>\n",
       "      <td>NaN</td>\n",
       "      <td>0</td>\n",
       "      <td>5</td>\n",
       "      <td>2007</td>\n",
       "      <td>WD</td>\n",
       "      <td>Normal</td>\n",
       "      <td>181500</td>\n",
       "    </tr>\n",
       "    <tr>\n",
       "      <th>2</th>\n",
       "      <td>3</td>\n",
       "      <td>60</td>\n",
       "      <td>RLD</td>\n",
       "      <td>68.0</td>\n",
       "      <td>11250</td>\n",
       "      <td>Paved</td>\n",
       "      <td>NaN</td>\n",
       "      <td>IR1</td>\n",
       "      <td>Lvl</td>\n",
       "      <td>AllPub</td>\n",
       "      <td>...</td>\n",
       "      <td>0</td>\n",
       "      <td>NaN</td>\n",
       "      <td>NaN</td>\n",
       "      <td>NaN</td>\n",
       "      <td>0</td>\n",
       "      <td>9</td>\n",
       "      <td>2008</td>\n",
       "      <td>WD</td>\n",
       "      <td>Normal</td>\n",
       "      <td>223500</td>\n",
       "    </tr>\n",
       "    <tr>\n",
       "      <th>3</th>\n",
       "      <td>4</td>\n",
       "      <td>70</td>\n",
       "      <td>RLD</td>\n",
       "      <td>60.0</td>\n",
       "      <td>9550</td>\n",
       "      <td>Paved</td>\n",
       "      <td>NaN</td>\n",
       "      <td>IR1</td>\n",
       "      <td>Lvl</td>\n",
       "      <td>AllPub</td>\n",
       "      <td>...</td>\n",
       "      <td>0</td>\n",
       "      <td>NaN</td>\n",
       "      <td>NaN</td>\n",
       "      <td>NaN</td>\n",
       "      <td>0</td>\n",
       "      <td>2</td>\n",
       "      <td>2006</td>\n",
       "      <td>WD</td>\n",
       "      <td>Abnorml</td>\n",
       "      <td>140000</td>\n",
       "    </tr>\n",
       "    <tr>\n",
       "      <th>4</th>\n",
       "      <td>5</td>\n",
       "      <td>60</td>\n",
       "      <td>RLD</td>\n",
       "      <td>84.0</td>\n",
       "      <td>14260</td>\n",
       "      <td>Paved</td>\n",
       "      <td>NaN</td>\n",
       "      <td>IR1</td>\n",
       "      <td>Lvl</td>\n",
       "      <td>AllPub</td>\n",
       "      <td>...</td>\n",
       "      <td>0</td>\n",
       "      <td>NaN</td>\n",
       "      <td>NaN</td>\n",
       "      <td>NaN</td>\n",
       "      <td>0</td>\n",
       "      <td>12</td>\n",
       "      <td>2008</td>\n",
       "      <td>WD</td>\n",
       "      <td>Normal</td>\n",
       "      <td>250000</td>\n",
       "    </tr>\n",
       "    <tr>\n",
       "      <th>...</th>\n",
       "      <td>...</td>\n",
       "      <td>...</td>\n",
       "      <td>...</td>\n",
       "      <td>...</td>\n",
       "      <td>...</td>\n",
       "      <td>...</td>\n",
       "      <td>...</td>\n",
       "      <td>...</td>\n",
       "      <td>...</td>\n",
       "      <td>...</td>\n",
       "      <td>...</td>\n",
       "      <td>...</td>\n",
       "      <td>...</td>\n",
       "      <td>...</td>\n",
       "      <td>...</td>\n",
       "      <td>...</td>\n",
       "      <td>...</td>\n",
       "      <td>...</td>\n",
       "      <td>...</td>\n",
       "      <td>...</td>\n",
       "      <td>...</td>\n",
       "    </tr>\n",
       "    <tr>\n",
       "      <th>1454</th>\n",
       "      <td>1455</td>\n",
       "      <td>20</td>\n",
       "      <td>FVR</td>\n",
       "      <td>62.0</td>\n",
       "      <td>7500</td>\n",
       "      <td>Paved</td>\n",
       "      <td>Paved</td>\n",
       "      <td>Reg</td>\n",
       "      <td>Lvl</td>\n",
       "      <td>AllPub</td>\n",
       "      <td>...</td>\n",
       "      <td>0</td>\n",
       "      <td>NaN</td>\n",
       "      <td>NaN</td>\n",
       "      <td>NaN</td>\n",
       "      <td>0</td>\n",
       "      <td>10</td>\n",
       "      <td>2009</td>\n",
       "      <td>WD</td>\n",
       "      <td>Normal</td>\n",
       "      <td>185000</td>\n",
       "    </tr>\n",
       "    <tr>\n",
       "      <th>1455</th>\n",
       "      <td>1456</td>\n",
       "      <td>60</td>\n",
       "      <td>RLD</td>\n",
       "      <td>62.0</td>\n",
       "      <td>7917</td>\n",
       "      <td>Paved</td>\n",
       "      <td>NaN</td>\n",
       "      <td>Reg</td>\n",
       "      <td>Lvl</td>\n",
       "      <td>AllPub</td>\n",
       "      <td>...</td>\n",
       "      <td>0</td>\n",
       "      <td>NaN</td>\n",
       "      <td>NaN</td>\n",
       "      <td>NaN</td>\n",
       "      <td>0</td>\n",
       "      <td>8</td>\n",
       "      <td>2007</td>\n",
       "      <td>WD</td>\n",
       "      <td>Normal</td>\n",
       "      <td>175000</td>\n",
       "    </tr>\n",
       "    <tr>\n",
       "      <th>1456</th>\n",
       "      <td>1457</td>\n",
       "      <td>20</td>\n",
       "      <td>RLD</td>\n",
       "      <td>85.0</td>\n",
       "      <td>13175</td>\n",
       "      <td>Paved</td>\n",
       "      <td>NaN</td>\n",
       "      <td>Reg</td>\n",
       "      <td>Lvl</td>\n",
       "      <td>AllPub</td>\n",
       "      <td>...</td>\n",
       "      <td>0</td>\n",
       "      <td>NaN</td>\n",
       "      <td>MnPrv</td>\n",
       "      <td>NaN</td>\n",
       "      <td>0</td>\n",
       "      <td>2</td>\n",
       "      <td>2010</td>\n",
       "      <td>WD</td>\n",
       "      <td>Normal</td>\n",
       "      <td>210000</td>\n",
       "    </tr>\n",
       "    <tr>\n",
       "      <th>1457</th>\n",
       "      <td>1458</td>\n",
       "      <td>70</td>\n",
       "      <td>RLD</td>\n",
       "      <td>66.0</td>\n",
       "      <td>9042</td>\n",
       "      <td>Paved</td>\n",
       "      <td>NaN</td>\n",
       "      <td>Reg</td>\n",
       "      <td>Lvl</td>\n",
       "      <td>AllPub</td>\n",
       "      <td>...</td>\n",
       "      <td>0</td>\n",
       "      <td>NaN</td>\n",
       "      <td>GdPrv</td>\n",
       "      <td>Shed</td>\n",
       "      <td>2500</td>\n",
       "      <td>5</td>\n",
       "      <td>2010</td>\n",
       "      <td>WD</td>\n",
       "      <td>Normal</td>\n",
       "      <td>266500</td>\n",
       "    </tr>\n",
       "    <tr>\n",
       "      <th>1458</th>\n",
       "      <td>1459</td>\n",
       "      <td>20</td>\n",
       "      <td>RLD</td>\n",
       "      <td>68.0</td>\n",
       "      <td>9717</td>\n",
       "      <td>Paved</td>\n",
       "      <td>NaN</td>\n",
       "      <td>Reg</td>\n",
       "      <td>Lvl</td>\n",
       "      <td>AllPub</td>\n",
       "      <td>...</td>\n",
       "      <td>0</td>\n",
       "      <td>NaN</td>\n",
       "      <td>NaN</td>\n",
       "      <td>NaN</td>\n",
       "      <td>0</td>\n",
       "      <td>4</td>\n",
       "      <td>2010</td>\n",
       "      <td>WD</td>\n",
       "      <td>Normal</td>\n",
       "      <td>142125</td>\n",
       "    </tr>\n",
       "  </tbody>\n",
       "</table>\n",
       "<p>1459 rows × 81 columns</p>\n",
       "</div>"
      ],
      "text/plain": [
       "        Id  Building_Class Zoning_Class  Lot_Extent  Lot_Size Road_Type  \\\n",
       "0        1              60          RLD        65.0      8450     Paved   \n",
       "1        2              20          RLD        80.0      9600     Paved   \n",
       "2        3              60          RLD        68.0     11250     Paved   \n",
       "3        4              70          RLD        60.0      9550     Paved   \n",
       "4        5              60          RLD        84.0     14260     Paved   \n",
       "...    ...             ...          ...         ...       ...       ...   \n",
       "1454  1455              20          FVR        62.0      7500     Paved   \n",
       "1455  1456              60          RLD        62.0      7917     Paved   \n",
       "1456  1457              20          RLD        85.0     13175     Paved   \n",
       "1457  1458              70          RLD        66.0      9042     Paved   \n",
       "1458  1459              20          RLD        68.0      9717     Paved   \n",
       "\n",
       "     Lane_Type Property_Shape Land_Outline Utility_Type  ... Pool_Area  \\\n",
       "0          NaN            Reg          Lvl       AllPub  ...         0   \n",
       "1          NaN            Reg          Lvl       AllPub  ...         0   \n",
       "2          NaN            IR1          Lvl       AllPub  ...         0   \n",
       "3          NaN            IR1          Lvl       AllPub  ...         0   \n",
       "4          NaN            IR1          Lvl       AllPub  ...         0   \n",
       "...        ...            ...          ...          ...  ...       ...   \n",
       "1454     Paved            Reg          Lvl       AllPub  ...         0   \n",
       "1455       NaN            Reg          Lvl       AllPub  ...         0   \n",
       "1456       NaN            Reg          Lvl       AllPub  ...         0   \n",
       "1457       NaN            Reg          Lvl       AllPub  ...         0   \n",
       "1458       NaN            Reg          Lvl       AllPub  ...         0   \n",
       "\n",
       "     Pool_Quality Fence_Quality Miscellaneous_Feature Miscellaneous_Value  \\\n",
       "0             NaN           NaN                   NaN                   0   \n",
       "1             NaN           NaN                   NaN                   0   \n",
       "2             NaN           NaN                   NaN                   0   \n",
       "3             NaN           NaN                   NaN                   0   \n",
       "4             NaN           NaN                   NaN                   0   \n",
       "...           ...           ...                   ...                 ...   \n",
       "1454          NaN           NaN                   NaN                   0   \n",
       "1455          NaN           NaN                   NaN                   0   \n",
       "1456          NaN         MnPrv                   NaN                   0   \n",
       "1457          NaN         GdPrv                  Shed                2500   \n",
       "1458          NaN           NaN                   NaN                   0   \n",
       "\n",
       "     Month_Sold Year_Sold  Sale_Type  Sale_Condition  Sale_Price  \n",
       "0             2      2008         WD          Normal      208500  \n",
       "1             5      2007         WD          Normal      181500  \n",
       "2             9      2008         WD          Normal      223500  \n",
       "3             2      2006         WD         Abnorml      140000  \n",
       "4            12      2008         WD          Normal      250000  \n",
       "...         ...       ...        ...             ...         ...  \n",
       "1454         10      2009         WD          Normal      185000  \n",
       "1455          8      2007         WD          Normal      175000  \n",
       "1456          2      2010         WD          Normal      210000  \n",
       "1457          5      2010         WD          Normal      266500  \n",
       "1458          4      2010         WD          Normal      142125  \n",
       "\n",
       "[1459 rows x 81 columns]"
      ]
     },
     "execution_count": 4,
     "metadata": {},
     "output_type": "execute_result"
    }
   ],
   "source": [
    "prop"
   ]
  },
  {
   "cell_type": "code",
   "execution_count": 5,
   "id": "0208cba5",
   "metadata": {},
   "outputs": [
    {
     "data": {
      "text/html": [
       "<div>\n",
       "<style scoped>\n",
       "    .dataframe tbody tr th:only-of-type {\n",
       "        vertical-align: middle;\n",
       "    }\n",
       "\n",
       "    .dataframe tbody tr th {\n",
       "        vertical-align: top;\n",
       "    }\n",
       "\n",
       "    .dataframe thead th {\n",
       "        text-align: right;\n",
       "    }\n",
       "</style>\n",
       "<table border=\"1\" class=\"dataframe\">\n",
       "  <thead>\n",
       "    <tr style=\"text-align: right;\">\n",
       "      <th></th>\n",
       "      <th>Id</th>\n",
       "      <th>Building_Class</th>\n",
       "      <th>Zoning_Class</th>\n",
       "      <th>Lot_Extent</th>\n",
       "      <th>Lot_Size</th>\n",
       "      <th>Road_Type</th>\n",
       "      <th>Lane_Type</th>\n",
       "      <th>Property_Shape</th>\n",
       "      <th>Land_Outline</th>\n",
       "      <th>Utility_Type</th>\n",
       "      <th>...</th>\n",
       "      <th>Pool_Area</th>\n",
       "      <th>Pool_Quality</th>\n",
       "      <th>Fence_Quality</th>\n",
       "      <th>Miscellaneous_Feature</th>\n",
       "      <th>Miscellaneous_Value</th>\n",
       "      <th>Month_Sold</th>\n",
       "      <th>Year_Sold</th>\n",
       "      <th>Sale_Type</th>\n",
       "      <th>Sale_Condition</th>\n",
       "      <th>Sale_Price</th>\n",
       "    </tr>\n",
       "  </thead>\n",
       "  <tbody>\n",
       "    <tr>\n",
       "      <th>0</th>\n",
       "      <td>1</td>\n",
       "      <td>60</td>\n",
       "      <td>RLD</td>\n",
       "      <td>65.0</td>\n",
       "      <td>8450</td>\n",
       "      <td>Paved</td>\n",
       "      <td>NaN</td>\n",
       "      <td>Reg</td>\n",
       "      <td>Lvl</td>\n",
       "      <td>AllPub</td>\n",
       "      <td>...</td>\n",
       "      <td>0</td>\n",
       "      <td>NaN</td>\n",
       "      <td>NaN</td>\n",
       "      <td>NaN</td>\n",
       "      <td>0</td>\n",
       "      <td>2</td>\n",
       "      <td>2008</td>\n",
       "      <td>WD</td>\n",
       "      <td>Normal</td>\n",
       "      <td>208500</td>\n",
       "    </tr>\n",
       "    <tr>\n",
       "      <th>1</th>\n",
       "      <td>2</td>\n",
       "      <td>20</td>\n",
       "      <td>RLD</td>\n",
       "      <td>80.0</td>\n",
       "      <td>9600</td>\n",
       "      <td>Paved</td>\n",
       "      <td>NaN</td>\n",
       "      <td>Reg</td>\n",
       "      <td>Lvl</td>\n",
       "      <td>AllPub</td>\n",
       "      <td>...</td>\n",
       "      <td>0</td>\n",
       "      <td>NaN</td>\n",
       "      <td>NaN</td>\n",
       "      <td>NaN</td>\n",
       "      <td>0</td>\n",
       "      <td>5</td>\n",
       "      <td>2007</td>\n",
       "      <td>WD</td>\n",
       "      <td>Normal</td>\n",
       "      <td>181500</td>\n",
       "    </tr>\n",
       "    <tr>\n",
       "      <th>2</th>\n",
       "      <td>3</td>\n",
       "      <td>60</td>\n",
       "      <td>RLD</td>\n",
       "      <td>68.0</td>\n",
       "      <td>11250</td>\n",
       "      <td>Paved</td>\n",
       "      <td>NaN</td>\n",
       "      <td>IR1</td>\n",
       "      <td>Lvl</td>\n",
       "      <td>AllPub</td>\n",
       "      <td>...</td>\n",
       "      <td>0</td>\n",
       "      <td>NaN</td>\n",
       "      <td>NaN</td>\n",
       "      <td>NaN</td>\n",
       "      <td>0</td>\n",
       "      <td>9</td>\n",
       "      <td>2008</td>\n",
       "      <td>WD</td>\n",
       "      <td>Normal</td>\n",
       "      <td>223500</td>\n",
       "    </tr>\n",
       "    <tr>\n",
       "      <th>3</th>\n",
       "      <td>4</td>\n",
       "      <td>70</td>\n",
       "      <td>RLD</td>\n",
       "      <td>60.0</td>\n",
       "      <td>9550</td>\n",
       "      <td>Paved</td>\n",
       "      <td>NaN</td>\n",
       "      <td>IR1</td>\n",
       "      <td>Lvl</td>\n",
       "      <td>AllPub</td>\n",
       "      <td>...</td>\n",
       "      <td>0</td>\n",
       "      <td>NaN</td>\n",
       "      <td>NaN</td>\n",
       "      <td>NaN</td>\n",
       "      <td>0</td>\n",
       "      <td>2</td>\n",
       "      <td>2006</td>\n",
       "      <td>WD</td>\n",
       "      <td>Abnorml</td>\n",
       "      <td>140000</td>\n",
       "    </tr>\n",
       "    <tr>\n",
       "      <th>4</th>\n",
       "      <td>5</td>\n",
       "      <td>60</td>\n",
       "      <td>RLD</td>\n",
       "      <td>84.0</td>\n",
       "      <td>14260</td>\n",
       "      <td>Paved</td>\n",
       "      <td>NaN</td>\n",
       "      <td>IR1</td>\n",
       "      <td>Lvl</td>\n",
       "      <td>AllPub</td>\n",
       "      <td>...</td>\n",
       "      <td>0</td>\n",
       "      <td>NaN</td>\n",
       "      <td>NaN</td>\n",
       "      <td>NaN</td>\n",
       "      <td>0</td>\n",
       "      <td>12</td>\n",
       "      <td>2008</td>\n",
       "      <td>WD</td>\n",
       "      <td>Normal</td>\n",
       "      <td>250000</td>\n",
       "    </tr>\n",
       "  </tbody>\n",
       "</table>\n",
       "<p>5 rows × 81 columns</p>\n",
       "</div>"
      ],
      "text/plain": [
       "   Id  Building_Class Zoning_Class  Lot_Extent  Lot_Size Road_Type Lane_Type  \\\n",
       "0   1              60          RLD        65.0      8450     Paved       NaN   \n",
       "1   2              20          RLD        80.0      9600     Paved       NaN   \n",
       "2   3              60          RLD        68.0     11250     Paved       NaN   \n",
       "3   4              70          RLD        60.0      9550     Paved       NaN   \n",
       "4   5              60          RLD        84.0     14260     Paved       NaN   \n",
       "\n",
       "  Property_Shape Land_Outline Utility_Type  ... Pool_Area Pool_Quality  \\\n",
       "0            Reg          Lvl       AllPub  ...         0          NaN   \n",
       "1            Reg          Lvl       AllPub  ...         0          NaN   \n",
       "2            IR1          Lvl       AllPub  ...         0          NaN   \n",
       "3            IR1          Lvl       AllPub  ...         0          NaN   \n",
       "4            IR1          Lvl       AllPub  ...         0          NaN   \n",
       "\n",
       "  Fence_Quality Miscellaneous_Feature Miscellaneous_Value Month_Sold  \\\n",
       "0           NaN                   NaN                   0          2   \n",
       "1           NaN                   NaN                   0          5   \n",
       "2           NaN                   NaN                   0          9   \n",
       "3           NaN                   NaN                   0          2   \n",
       "4           NaN                   NaN                   0         12   \n",
       "\n",
       "  Year_Sold  Sale_Type  Sale_Condition  Sale_Price  \n",
       "0      2008         WD          Normal      208500  \n",
       "1      2007         WD          Normal      181500  \n",
       "2      2008         WD          Normal      223500  \n",
       "3      2006         WD         Abnorml      140000  \n",
       "4      2008         WD          Normal      250000  \n",
       "\n",
       "[5 rows x 81 columns]"
      ]
     },
     "execution_count": 5,
     "metadata": {},
     "output_type": "execute_result"
    }
   ],
   "source": [
    "prop.head()"
   ]
  },
  {
   "cell_type": "code",
   "execution_count": 6,
   "id": "37aede3d",
   "metadata": {},
   "outputs": [
    {
     "data": {
      "text/plain": [
       "(1459, 81)"
      ]
     },
     "execution_count": 6,
     "metadata": {},
     "output_type": "execute_result"
    }
   ],
   "source": [
    "prop.shape"
   ]
  },
  {
   "cell_type": "markdown",
   "id": "6b341690",
   "metadata": {},
   "source": [
    "# Finding Uniques Values of Columns"
   ]
  },
  {
   "cell_type": "code",
   "execution_count": 7,
   "id": "f47e2d7f",
   "metadata": {},
   "outputs": [
    {
     "data": {
      "text/plain": [
       "Index(['Id', 'Building_Class', 'Zoning_Class', 'Lot_Extent', 'Lot_Size',\n",
       "       'Road_Type', 'Lane_Type', 'Property_Shape', 'Land_Outline',\n",
       "       'Utility_Type', 'Lot_Configuration', 'Property_Slope', 'Neighborhood',\n",
       "       'Condition1', 'Condition2', 'House_Type', 'House_Design',\n",
       "       'Overall_Material', 'House_Condition', 'Construction_Year',\n",
       "       'Remodel_Year', 'Roof_Design', 'Roof_Quality', 'Exterior1st',\n",
       "       'Exterior2nd', 'Brick_Veneer_Type', 'Brick_Veneer_Area',\n",
       "       'Exterior_Material', 'Exterior_Condition', 'Foundation_Type',\n",
       "       'Basement_Height', 'Basement_Condition', 'Exposure_Level',\n",
       "       'BsmtFinType1', 'BsmtFinSF1', 'BsmtFinType2', 'BsmtFinSF2', 'BsmtUnfSF',\n",
       "       'Total_Basement_Area', 'Heating_Type', 'Heating_Quality',\n",
       "       'Air_Conditioning', 'Electrical_System', 'First_Floor_Area',\n",
       "       'Second_Floor_Area', 'LowQualFinSF', 'Grade_Living_Area',\n",
       "       'Underground_Full_Bathroom', 'Underground_Half_Bathroom',\n",
       "       'Full_Bathroom_Above_Grade', 'Half_Bathroom_Above_Grade',\n",
       "       'Bedroom_Above_Grade', 'Kitchen_Above_Grade', 'Kitchen_Quality',\n",
       "       'Rooms_Above_Grade', 'Functional_Rate', 'Fireplaces',\n",
       "       'Fireplace_Quality', 'Garage', 'Garage_Built_Year',\n",
       "       'Garage_Finish_Year', 'Garage_Size', 'Garage_Area', 'Garage_Quality',\n",
       "       'Garage_Condition', 'Pavedd_Drive', 'W_Deck_Area', 'Open_Lobby_Area',\n",
       "       'Enclosed_Lobby_Area', 'Three_Season_Lobby_Area', 'Screen_Lobby_Area',\n",
       "       'Pool_Area', 'Pool_Quality', 'Fence_Quality', 'Miscellaneous_Feature',\n",
       "       'Miscellaneous_Value', 'Month_Sold', 'Year_Sold', 'Sale_Type',\n",
       "       'Sale_Condition', 'Sale_Price'],\n",
       "      dtype='object')"
      ]
     },
     "execution_count": 7,
     "metadata": {},
     "output_type": "execute_result"
    }
   ],
   "source": [
    "prop.columns"
   ]
  },
  {
   "cell_type": "code",
   "execution_count": 8,
   "id": "91cb9c5e",
   "metadata": {},
   "outputs": [],
   "source": [
    "#hence only Id is unique column"
   ]
  },
  {
   "cell_type": "markdown",
   "id": "02e5c43d",
   "metadata": {},
   "source": [
    "# Finding Nulls"
   ]
  },
  {
   "cell_type": "code",
   "execution_count": 9,
   "id": "35724bed",
   "metadata": {},
   "outputs": [
    {
     "data": {
      "text/plain": [
       "Id                  0\n",
       "Building_Class      0\n",
       "Zoning_Class        0\n",
       "Lot_Extent        259\n",
       "Lot_Size            0\n",
       "                 ... \n",
       "Month_Sold          0\n",
       "Year_Sold           0\n",
       "Sale_Type           0\n",
       "Sale_Condition      0\n",
       "Sale_Price          0\n",
       "Length: 81, dtype: int64"
      ]
     },
     "execution_count": 9,
     "metadata": {},
     "output_type": "execute_result"
    }
   ],
   "source": [
    "prop.isnull().sum()"
   ]
  },
  {
   "cell_type": "code",
   "execution_count": 10,
   "id": "dc60446c",
   "metadata": {},
   "outputs": [
    {
     "data": {
      "text/plain": [
       "Lot_Extent                259\n",
       "Lane_Type                1368\n",
       "Brick_Veneer_Type           8\n",
       "Brick_Veneer_Area           8\n",
       "Basement_Height            37\n",
       "Basement_Condition         37\n",
       "Exposure_Level             38\n",
       "BsmtFinType1               37\n",
       "BsmtFinType2               38\n",
       "Electrical_System           1\n",
       "Fireplace_Quality         689\n",
       "Garage                     81\n",
       "Garage_Built_Year          81\n",
       "Garage_Finish_Year         81\n",
       "Garage_Quality             81\n",
       "Garage_Condition           81\n",
       "Pool_Quality             1452\n",
       "Fence_Quality            1178\n",
       "Miscellaneous_Feature    1405\n",
       "dtype: int64"
      ]
     },
     "execution_count": 10,
     "metadata": {},
     "output_type": "execute_result"
    }
   ],
   "source": [
    "prop.isnull().sum()[prop.isnull().sum()>0]"
   ]
  },
  {
   "cell_type": "code",
   "execution_count": 11,
   "id": "71c6b2d1",
   "metadata": {},
   "outputs": [
    {
     "data": {
      "text/plain": [
       "60.0     143\n",
       "70.0      70\n",
       "80.0      69\n",
       "50.0      57\n",
       "75.0      52\n",
       "        ... \n",
       "137.0      1\n",
       "141.0      1\n",
       "38.0       1\n",
       "140.0      1\n",
       "46.0       1\n",
       "Name: Lot_Extent, Length: 110, dtype: int64"
      ]
     },
     "execution_count": 11,
     "metadata": {},
     "output_type": "execute_result"
    }
   ],
   "source": [
    "prop.Lot_Extent.value_counts()"
   ]
  },
  {
   "cell_type": "code",
   "execution_count": 12,
   "id": "d51724cc",
   "metadata": {},
   "outputs": [],
   "source": [
    "prop.Lot_Extent.fillna(60,inplace=True)#lot_extent"
   ]
  },
  {
   "cell_type": "code",
   "execution_count": 13,
   "id": "d2ed032d",
   "metadata": {},
   "outputs": [
    {
     "data": {
      "text/plain": [
       "Grvl     50\n",
       "Paved    41\n",
       "Name: Lane_Type, dtype: int64"
      ]
     },
     "execution_count": 13,
     "metadata": {},
     "output_type": "execute_result"
    }
   ],
   "source": [
    "prop.Lane_Type.value_counts()"
   ]
  },
  {
   "cell_type": "code",
   "execution_count": 14,
   "id": "5916bca0",
   "metadata": {},
   "outputs": [],
   "source": [
    " prop.Lane_Type.fillna('Grvl',inplace=True) #Lane_type"
   ]
  },
  {
   "cell_type": "code",
   "execution_count": 15,
   "id": "00e40bb4",
   "metadata": {},
   "outputs": [
    {
     "data": {
      "text/plain": [
       "None       863\n",
       "BrkFace    445\n",
       "Stone      128\n",
       "BrkCmn      15\n",
       "Name: Brick_Veneer_Type, dtype: int64"
      ]
     },
     "execution_count": 15,
     "metadata": {},
     "output_type": "execute_result"
    }
   ],
   "source": [
    "prop.Brick_Veneer_Type.value_counts()"
   ]
  },
  {
   "cell_type": "code",
   "execution_count": 16,
   "id": "f505184d",
   "metadata": {},
   "outputs": [
    {
     "data": {
      "text/plain": [
       "0.0      860\n",
       "180.0      8\n",
       "72.0       8\n",
       "108.0      8\n",
       "120.0      7\n",
       "        ... \n",
       "562.0      1\n",
       "89.0       1\n",
       "921.0      1\n",
       "762.0      1\n",
       "119.0      1\n",
       "Name: Brick_Veneer_Area, Length: 327, dtype: int64"
      ]
     },
     "execution_count": 16,
     "metadata": {},
     "output_type": "execute_result"
    }
   ],
   "source": [
    "prop.Brick_Veneer_Area.value_counts()"
   ]
  },
  {
   "cell_type": "code",
   "execution_count": 17,
   "id": "1bea1235",
   "metadata": {},
   "outputs": [
    {
     "data": {
      "text/plain": [
       "103.75671950379049"
      ]
     },
     "execution_count": 17,
     "metadata": {},
     "output_type": "execute_result"
    }
   ],
   "source": [
    "prop.Brick_Veneer_Area.mean()"
   ]
  },
  {
   "cell_type": "code",
   "execution_count": 18,
   "id": "5902076b",
   "metadata": {},
   "outputs": [
    {
     "data": {
      "text/plain": [
       "0    0.0\n",
       "Name: Brick_Veneer_Area, dtype: float64"
      ]
     },
     "execution_count": 18,
     "metadata": {},
     "output_type": "execute_result"
    }
   ],
   "source": [
    "prop.Brick_Veneer_Area.mode()"
   ]
  },
  {
   "cell_type": "code",
   "execution_count": 19,
   "id": "6ebc3ec6",
   "metadata": {},
   "outputs": [],
   "source": [
    "prop.Brick_Veneer_Area.fillna(0,inplace=True) #Brick_Veneer_Area           "
   ]
  },
  {
   "cell_type": "code",
   "execution_count": 20,
   "id": "d000c8c8",
   "metadata": {},
   "outputs": [
    {
     "data": {
      "text/plain": [
       "None       863\n",
       "BrkFace    445\n",
       "Stone      128\n",
       "BrkCmn      15\n",
       "Name: Brick_Veneer_Type, dtype: int64"
      ]
     },
     "execution_count": 20,
     "metadata": {},
     "output_type": "execute_result"
    }
   ],
   "source": [
    "prop.Brick_Veneer_Type.value_counts()"
   ]
  },
  {
   "cell_type": "code",
   "execution_count": 21,
   "id": "310a7203",
   "metadata": {},
   "outputs": [],
   "source": [
    "prop.Brick_Veneer_Type.fillna('None',inplace=True)#Brick_Veneer_Type"
   ]
  },
  {
   "cell_type": "code",
   "execution_count": 22,
   "id": "fccb6c4a",
   "metadata": {},
   "outputs": [
    {
     "data": {
      "text/plain": [
       "TA    648\n",
       "Gd    618\n",
       "Ex    121\n",
       "Fa     35\n",
       "Name: Basement_Height, dtype: int64"
      ]
     },
     "execution_count": 22,
     "metadata": {},
     "output_type": "execute_result"
    }
   ],
   "source": [
    "prop.Basement_Height.value_counts()"
   ]
  },
  {
   "cell_type": "code",
   "execution_count": 23,
   "id": "0409a962",
   "metadata": {},
   "outputs": [],
   "source": [
    "prop.Basement_Height.fillna('TA',inplace=True) #Basement_Height            "
   ]
  },
  {
   "cell_type": "code",
   "execution_count": 24,
   "id": "b581d036",
   "metadata": {},
   "outputs": [
    {
     "data": {
      "text/plain": [
       "TA    1310\n",
       "Gd      65\n",
       "Fa      45\n",
       "Po       2\n",
       "Name: Basement_Condition, dtype: int64"
      ]
     },
     "execution_count": 24,
     "metadata": {},
     "output_type": "execute_result"
    }
   ],
   "source": [
    "prop.Basement_Condition.value_counts()"
   ]
  },
  {
   "cell_type": "code",
   "execution_count": 25,
   "id": "3b71e6d2",
   "metadata": {},
   "outputs": [],
   "source": [
    "prop.Basement_Condition.fillna('TA',inplace=True)#Basement_Condition         "
   ]
  },
  {
   "cell_type": "code",
   "execution_count": 26,
   "id": "9a9107f2",
   "metadata": {},
   "outputs": [
    {
     "data": {
      "text/plain": [
       "No    952\n",
       "Av    221\n",
       "Gd    134\n",
       "Mn    114\n",
       "Name: Exposure_Level, dtype: int64"
      ]
     },
     "execution_count": 26,
     "metadata": {},
     "output_type": "execute_result"
    }
   ],
   "source": [
    "prop.Exposure_Level.value_counts()"
   ]
  },
  {
   "cell_type": "code",
   "execution_count": 27,
   "id": "d046609a",
   "metadata": {},
   "outputs": [],
   "source": [
    "prop.Exposure_Level.fillna('No',inplace=True)#Exposure_Level             "
   ]
  },
  {
   "cell_type": "code",
   "execution_count": 28,
   "id": "4f23579e",
   "metadata": {},
   "outputs": [
    {
     "data": {
      "text/plain": [
       "Unf    430\n",
       "GLQ    418\n",
       "ALQ    220\n",
       "BLQ    147\n",
       "Rec    133\n",
       "LwQ     74\n",
       "Name: BsmtFinType1, dtype: int64"
      ]
     },
     "execution_count": 28,
     "metadata": {},
     "output_type": "execute_result"
    }
   ],
   "source": [
    "prop.BsmtFinType1.value_counts()"
   ]
  },
  {
   "cell_type": "code",
   "execution_count": 29,
   "id": "2f1e26a7",
   "metadata": {},
   "outputs": [],
   "source": [
    "prop.BsmtFinType1.fillna('Unf',inplace=True)#BsmtFinType1               "
   ]
  },
  {
   "cell_type": "code",
   "execution_count": 30,
   "id": "ee90ba34",
   "metadata": {},
   "outputs": [
    {
     "data": {
      "text/plain": [
       "Unf    1256\n",
       "Rec      54\n",
       "LwQ      45\n",
       "BLQ      33\n",
       "ALQ      19\n",
       "GLQ      14\n",
       "Name: BsmtFinType2, dtype: int64"
      ]
     },
     "execution_count": 30,
     "metadata": {},
     "output_type": "execute_result"
    }
   ],
   "source": [
    "prop.BsmtFinType2.value_counts()"
   ]
  },
  {
   "cell_type": "code",
   "execution_count": 31,
   "id": "8f8a3f6d",
   "metadata": {},
   "outputs": [],
   "source": [
    "prop.BsmtFinType2.fillna('Unf',inplace=True)#BsmtFinType1               "
   ]
  },
  {
   "cell_type": "code",
   "execution_count": 32,
   "id": "14f5a721",
   "metadata": {},
   "outputs": [
    {
     "data": {
      "text/plain": [
       "SBrkr    1333\n",
       "FuseA      94\n",
       "FuseF      27\n",
       "FuseP       3\n",
       "Mix         1\n",
       "Name: Electrical_System, dtype: int64"
      ]
     },
     "execution_count": 32,
     "metadata": {},
     "output_type": "execute_result"
    }
   ],
   "source": [
    "prop.Electrical_System.value_counts()"
   ]
  },
  {
   "cell_type": "code",
   "execution_count": 33,
   "id": "1ec1e80a",
   "metadata": {},
   "outputs": [],
   "source": [
    "prop.Electrical_System.fillna('SBrkr',inplace=True)#Electrical_System           "
   ]
  },
  {
   "cell_type": "code",
   "execution_count": 34,
   "id": "e356afa2",
   "metadata": {},
   "outputs": [
    {
     "data": {
      "text/plain": [
       "Gd    380\n",
       "TA    313\n",
       "Fa     33\n",
       "Ex     24\n",
       "Po     20\n",
       "Name: Fireplace_Quality, dtype: int64"
      ]
     },
     "execution_count": 34,
     "metadata": {},
     "output_type": "execute_result"
    }
   ],
   "source": [
    "prop.Fireplace_Quality.value_counts()"
   ]
  },
  {
   "cell_type": "code",
   "execution_count": 35,
   "id": "51916c18",
   "metadata": {},
   "outputs": [],
   "source": [
    "prop.Fireplace_Quality.fillna('Gd',inplace=True)#Fireplace_Quality         "
   ]
  },
  {
   "cell_type": "code",
   "execution_count": 36,
   "id": "9853ce9f",
   "metadata": {},
   "outputs": [
    {
     "data": {
      "text/plain": [
       "Attchd     869\n",
       "Detchd     387\n",
       "BuiltIn     88\n",
       "Basment     19\n",
       "CarPort      9\n",
       "2TFes        5\n",
       "2Types       1\n",
       "Name: Garage, dtype: int64"
      ]
     },
     "execution_count": 36,
     "metadata": {},
     "output_type": "execute_result"
    }
   ],
   "source": [
    "prop.Garage.value_counts()"
   ]
  },
  {
   "cell_type": "code",
   "execution_count": 37,
   "id": "bfc15fd8",
   "metadata": {},
   "outputs": [],
   "source": [
    "prop.Garage.fillna('Attchd', inplace=True)#Attchd     "
   ]
  },
  {
   "cell_type": "code",
   "execution_count": 38,
   "id": "2108fb18",
   "metadata": {},
   "outputs": [
    {
     "data": {
      "text/plain": [
       "2005.0    65\n",
       "2006.0    59\n",
       "2004.0    53\n",
       "2003.0    50\n",
       "2007.0    49\n",
       "          ..\n",
       "1927.0     1\n",
       "1900.0     1\n",
       "1906.0     1\n",
       "1908.0     1\n",
       "1933.0     1\n",
       "Name: Garage_Built_Year, Length: 97, dtype: int64"
      ]
     },
     "execution_count": 38,
     "metadata": {},
     "output_type": "execute_result"
    }
   ],
   "source": [
    "prop.Garage_Built_Year.value_counts()"
   ]
  },
  {
   "cell_type": "code",
   "execution_count": 39,
   "id": "03c12c21",
   "metadata": {},
   "outputs": [],
   "source": [
    "prop.Garage_Built_Year.fillna(2005,inplace=True)#Garage_Built_Year"
   ]
  },
  {
   "cell_type": "code",
   "execution_count": 40,
   "id": "fea42dee",
   "metadata": {},
   "outputs": [
    {
     "data": {
      "text/plain": [
       "Unf    605\n",
       "RFn    422\n",
       "Fin    351\n",
       "Name: Garage_Finish_Year, dtype: int64"
      ]
     },
     "execution_count": 40,
     "metadata": {},
     "output_type": "execute_result"
    }
   ],
   "source": [
    "prop.Garage_Finish_Year.value_counts()"
   ]
  },
  {
   "cell_type": "code",
   "execution_count": 41,
   "id": "2299b965",
   "metadata": {},
   "outputs": [],
   "source": [
    "prop.Garage_Finish_Year.fillna('Unf',inplace=True)#Garage_Finish_Year         "
   ]
  },
  {
   "cell_type": "code",
   "execution_count": 42,
   "id": "62ebcc88",
   "metadata": {},
   "outputs": [
    {
     "data": {
      "text/plain": [
       "TA    1310\n",
       "Fa      48\n",
       "Gd      14\n",
       "Ex       3\n",
       "Po       3\n",
       "Name: Garage_Quality, dtype: int64"
      ]
     },
     "execution_count": 42,
     "metadata": {},
     "output_type": "execute_result"
    }
   ],
   "source": [
    "prop.Garage_Quality.value_counts()"
   ]
  },
  {
   "cell_type": "code",
   "execution_count": 43,
   "id": "5f868a75",
   "metadata": {},
   "outputs": [],
   "source": [
    "prop.Garage_Quality.fillna('TA',inplace=True)#Garage_Quality             "
   ]
  },
  {
   "cell_type": "code",
   "execution_count": 44,
   "id": "ee88cb27",
   "metadata": {},
   "outputs": [
    {
     "data": {
      "text/plain": [
       "TA    1325\n",
       "Fa      35\n",
       "Gd       9\n",
       "Po       7\n",
       "Ex       2\n",
       "Name: Garage_Condition, dtype: int64"
      ]
     },
     "execution_count": 44,
     "metadata": {},
     "output_type": "execute_result"
    }
   ],
   "source": [
    "prop.Garage_Condition.value_counts()"
   ]
  },
  {
   "cell_type": "code",
   "execution_count": 45,
   "id": "86b5b3b2",
   "metadata": {},
   "outputs": [],
   "source": [
    "prop.Garage_Condition.fillna('TA',inplace=True)#Garage_Condition           "
   ]
  },
  {
   "cell_type": "code",
   "execution_count": 46,
   "id": "df1b9735",
   "metadata": {},
   "outputs": [
    {
     "data": {
      "text/plain": [
       "Gd    3\n",
       "Ex    2\n",
       "Fa    2\n",
       "Name: Pool_Quality, dtype: int64"
      ]
     },
     "execution_count": 46,
     "metadata": {},
     "output_type": "execute_result"
    }
   ],
   "source": [
    "prop.Pool_Quality.value_counts()"
   ]
  },
  {
   "cell_type": "code",
   "execution_count": 47,
   "id": "4cb270d8",
   "metadata": {},
   "outputs": [],
   "source": [
    "prop.Pool_Quality.fillna('Gd',inplace=True)#Pool_Quality             "
   ]
  },
  {
   "cell_type": "code",
   "execution_count": 48,
   "id": "e8879fb4",
   "metadata": {},
   "outputs": [
    {
     "data": {
      "text/plain": [
       "MnPrv    157\n",
       "GdPrv     59\n",
       "GdWo      54\n",
       "MnWw      11\n",
       "Name: Fence_Quality, dtype: int64"
      ]
     },
     "execution_count": 48,
     "metadata": {},
     "output_type": "execute_result"
    }
   ],
   "source": [
    "prop.Fence_Quality.value_counts()"
   ]
  },
  {
   "cell_type": "code",
   "execution_count": 49,
   "id": "0655ac1c",
   "metadata": {},
   "outputs": [],
   "source": [
    "prop.Fence_Quality.fillna('MnPrv',inplace=True)#Fence_Quality            "
   ]
  },
  {
   "cell_type": "code",
   "execution_count": 50,
   "id": "66128481",
   "metadata": {},
   "outputs": [
    {
     "data": {
      "text/plain": [
       "Shed    49\n",
       "Gar2     2\n",
       "Othr     2\n",
       "TenC     1\n",
       "Name: Miscellaneous_Feature, dtype: int64"
      ]
     },
     "execution_count": 50,
     "metadata": {},
     "output_type": "execute_result"
    }
   ],
   "source": [
    "prop.Miscellaneous_Feature.value_counts()"
   ]
  },
  {
   "cell_type": "code",
   "execution_count": 51,
   "id": "599d9a0e",
   "metadata": {},
   "outputs": [],
   "source": [
    "prop.Miscellaneous_Feature.fillna('Shed',inplace=True)#Miscellaneous_Feature    "
   ]
  },
  {
   "cell_type": "code",
   "execution_count": 52,
   "id": "245ac892",
   "metadata": {},
   "outputs": [
    {
     "data": {
      "text/plain": [
       "Id                0\n",
       "Building_Class    0\n",
       "Zoning_Class      0\n",
       "Lot_Extent        0\n",
       "Lot_Size          0\n",
       "                 ..\n",
       "Month_Sold        0\n",
       "Year_Sold         0\n",
       "Sale_Type         0\n",
       "Sale_Condition    0\n",
       "Sale_Price        0\n",
       "Length: 81, dtype: int64"
      ]
     },
     "execution_count": 52,
     "metadata": {},
     "output_type": "execute_result"
    }
   ],
   "source": [
    "prop.isnull().sum()"
   ]
  },
  {
   "cell_type": "code",
   "execution_count": 53,
   "id": "6219ce34",
   "metadata": {},
   "outputs": [
    {
     "data": {
      "text/plain": [
       "Series([], dtype: int64)"
      ]
     },
     "execution_count": 53,
     "metadata": {},
     "output_type": "execute_result"
    }
   ],
   "source": [
    "prop.isnull().sum()[ prop.isnull().sum() >0]"
   ]
  },
  {
   "cell_type": "markdown",
   "id": "4eda7c4f",
   "metadata": {},
   "source": [
    "# Converting into Labels in Numbers"
   ]
  },
  {
   "cell_type": "code",
   "execution_count": 54,
   "id": "a9ef9a5c",
   "metadata": {},
   "outputs": [],
   "source": [
    "#deleting the unique columns"
   ]
  },
  {
   "cell_type": "code",
   "execution_count": 55,
   "id": "2c0e4f47",
   "metadata": {},
   "outputs": [],
   "source": [
    "prop= prop.drop(['Id'], axis=1)"
   ]
  },
  {
   "cell_type": "code",
   "execution_count": 56,
   "id": "d2156d7e",
   "metadata": {},
   "outputs": [
    {
     "data": {
      "text/html": [
       "<div>\n",
       "<style scoped>\n",
       "    .dataframe tbody tr th:only-of-type {\n",
       "        vertical-align: middle;\n",
       "    }\n",
       "\n",
       "    .dataframe tbody tr th {\n",
       "        vertical-align: top;\n",
       "    }\n",
       "\n",
       "    .dataframe thead th {\n",
       "        text-align: right;\n",
       "    }\n",
       "</style>\n",
       "<table border=\"1\" class=\"dataframe\">\n",
       "  <thead>\n",
       "    <tr style=\"text-align: right;\">\n",
       "      <th></th>\n",
       "      <th>Building_Class</th>\n",
       "      <th>Zoning_Class</th>\n",
       "      <th>Lot_Extent</th>\n",
       "      <th>Lot_Size</th>\n",
       "      <th>Road_Type</th>\n",
       "      <th>Lane_Type</th>\n",
       "      <th>Property_Shape</th>\n",
       "      <th>Land_Outline</th>\n",
       "      <th>Utility_Type</th>\n",
       "      <th>Lot_Configuration</th>\n",
       "      <th>...</th>\n",
       "      <th>Pool_Area</th>\n",
       "      <th>Pool_Quality</th>\n",
       "      <th>Fence_Quality</th>\n",
       "      <th>Miscellaneous_Feature</th>\n",
       "      <th>Miscellaneous_Value</th>\n",
       "      <th>Month_Sold</th>\n",
       "      <th>Year_Sold</th>\n",
       "      <th>Sale_Type</th>\n",
       "      <th>Sale_Condition</th>\n",
       "      <th>Sale_Price</th>\n",
       "    </tr>\n",
       "  </thead>\n",
       "  <tbody>\n",
       "    <tr>\n",
       "      <th>0</th>\n",
       "      <td>60</td>\n",
       "      <td>RLD</td>\n",
       "      <td>65.0</td>\n",
       "      <td>8450</td>\n",
       "      <td>Paved</td>\n",
       "      <td>Grvl</td>\n",
       "      <td>Reg</td>\n",
       "      <td>Lvl</td>\n",
       "      <td>AllPub</td>\n",
       "      <td>I</td>\n",
       "      <td>...</td>\n",
       "      <td>0</td>\n",
       "      <td>Gd</td>\n",
       "      <td>MnPrv</td>\n",
       "      <td>Shed</td>\n",
       "      <td>0</td>\n",
       "      <td>2</td>\n",
       "      <td>2008</td>\n",
       "      <td>WD</td>\n",
       "      <td>Normal</td>\n",
       "      <td>208500</td>\n",
       "    </tr>\n",
       "    <tr>\n",
       "      <th>1</th>\n",
       "      <td>20</td>\n",
       "      <td>RLD</td>\n",
       "      <td>80.0</td>\n",
       "      <td>9600</td>\n",
       "      <td>Paved</td>\n",
       "      <td>Grvl</td>\n",
       "      <td>Reg</td>\n",
       "      <td>Lvl</td>\n",
       "      <td>AllPub</td>\n",
       "      <td>FR2P</td>\n",
       "      <td>...</td>\n",
       "      <td>0</td>\n",
       "      <td>Gd</td>\n",
       "      <td>MnPrv</td>\n",
       "      <td>Shed</td>\n",
       "      <td>0</td>\n",
       "      <td>5</td>\n",
       "      <td>2007</td>\n",
       "      <td>WD</td>\n",
       "      <td>Normal</td>\n",
       "      <td>181500</td>\n",
       "    </tr>\n",
       "    <tr>\n",
       "      <th>2</th>\n",
       "      <td>60</td>\n",
       "      <td>RLD</td>\n",
       "      <td>68.0</td>\n",
       "      <td>11250</td>\n",
       "      <td>Paved</td>\n",
       "      <td>Grvl</td>\n",
       "      <td>IR1</td>\n",
       "      <td>Lvl</td>\n",
       "      <td>AllPub</td>\n",
       "      <td>I</td>\n",
       "      <td>...</td>\n",
       "      <td>0</td>\n",
       "      <td>Gd</td>\n",
       "      <td>MnPrv</td>\n",
       "      <td>Shed</td>\n",
       "      <td>0</td>\n",
       "      <td>9</td>\n",
       "      <td>2008</td>\n",
       "      <td>WD</td>\n",
       "      <td>Normal</td>\n",
       "      <td>223500</td>\n",
       "    </tr>\n",
       "    <tr>\n",
       "      <th>3</th>\n",
       "      <td>70</td>\n",
       "      <td>RLD</td>\n",
       "      <td>60.0</td>\n",
       "      <td>9550</td>\n",
       "      <td>Paved</td>\n",
       "      <td>Grvl</td>\n",
       "      <td>IR1</td>\n",
       "      <td>Lvl</td>\n",
       "      <td>AllPub</td>\n",
       "      <td>C</td>\n",
       "      <td>...</td>\n",
       "      <td>0</td>\n",
       "      <td>Gd</td>\n",
       "      <td>MnPrv</td>\n",
       "      <td>Shed</td>\n",
       "      <td>0</td>\n",
       "      <td>2</td>\n",
       "      <td>2006</td>\n",
       "      <td>WD</td>\n",
       "      <td>Abnorml</td>\n",
       "      <td>140000</td>\n",
       "    </tr>\n",
       "    <tr>\n",
       "      <th>4</th>\n",
       "      <td>60</td>\n",
       "      <td>RLD</td>\n",
       "      <td>84.0</td>\n",
       "      <td>14260</td>\n",
       "      <td>Paved</td>\n",
       "      <td>Grvl</td>\n",
       "      <td>IR1</td>\n",
       "      <td>Lvl</td>\n",
       "      <td>AllPub</td>\n",
       "      <td>FR2P</td>\n",
       "      <td>...</td>\n",
       "      <td>0</td>\n",
       "      <td>Gd</td>\n",
       "      <td>MnPrv</td>\n",
       "      <td>Shed</td>\n",
       "      <td>0</td>\n",
       "      <td>12</td>\n",
       "      <td>2008</td>\n",
       "      <td>WD</td>\n",
       "      <td>Normal</td>\n",
       "      <td>250000</td>\n",
       "    </tr>\n",
       "  </tbody>\n",
       "</table>\n",
       "<p>5 rows × 80 columns</p>\n",
       "</div>"
      ],
      "text/plain": [
       "   Building_Class Zoning_Class  Lot_Extent  Lot_Size Road_Type Lane_Type  \\\n",
       "0              60          RLD        65.0      8450     Paved      Grvl   \n",
       "1              20          RLD        80.0      9600     Paved      Grvl   \n",
       "2              60          RLD        68.0     11250     Paved      Grvl   \n",
       "3              70          RLD        60.0      9550     Paved      Grvl   \n",
       "4              60          RLD        84.0     14260     Paved      Grvl   \n",
       "\n",
       "  Property_Shape Land_Outline Utility_Type Lot_Configuration  ... Pool_Area  \\\n",
       "0            Reg          Lvl       AllPub                 I  ...         0   \n",
       "1            Reg          Lvl       AllPub              FR2P  ...         0   \n",
       "2            IR1          Lvl       AllPub                 I  ...         0   \n",
       "3            IR1          Lvl       AllPub                 C  ...         0   \n",
       "4            IR1          Lvl       AllPub              FR2P  ...         0   \n",
       "\n",
       "  Pool_Quality Fence_Quality Miscellaneous_Feature Miscellaneous_Value  \\\n",
       "0           Gd         MnPrv                  Shed                   0   \n",
       "1           Gd         MnPrv                  Shed                   0   \n",
       "2           Gd         MnPrv                  Shed                   0   \n",
       "3           Gd         MnPrv                  Shed                   0   \n",
       "4           Gd         MnPrv                  Shed                   0   \n",
       "\n",
       "  Month_Sold  Year_Sold  Sale_Type  Sale_Condition  Sale_Price  \n",
       "0          2       2008         WD          Normal      208500  \n",
       "1          5       2007         WD          Normal      181500  \n",
       "2          9       2008         WD          Normal      223500  \n",
       "3          2       2006         WD         Abnorml      140000  \n",
       "4         12       2008         WD          Normal      250000  \n",
       "\n",
       "[5 rows x 80 columns]"
      ]
     },
     "execution_count": 56,
     "metadata": {},
     "output_type": "execute_result"
    }
   ],
   "source": [
    "prop.head()"
   ]
  },
  {
   "cell_type": "code",
   "execution_count": 57,
   "id": "3478dee6",
   "metadata": {},
   "outputs": [],
   "source": [
    "#Labelling data"
   ]
  },
  {
   "cell_type": "code",
   "execution_count": 58,
   "id": "7252cf11",
   "metadata": {},
   "outputs": [
    {
     "name": "stdout",
     "output_type": "stream",
     "text": [
      "<class 'pandas.core.frame.DataFrame'>\n",
      "RangeIndex: 1459 entries, 0 to 1458\n",
      "Data columns (total 80 columns):\n",
      " #   Column                     Non-Null Count  Dtype  \n",
      "---  ------                     --------------  -----  \n",
      " 0   Building_Class             1459 non-null   int64  \n",
      " 1   Zoning_Class               1459 non-null   object \n",
      " 2   Lot_Extent                 1459 non-null   float64\n",
      " 3   Lot_Size                   1459 non-null   int64  \n",
      " 4   Road_Type                  1459 non-null   object \n",
      " 5   Lane_Type                  1459 non-null   object \n",
      " 6   Property_Shape             1459 non-null   object \n",
      " 7   Land_Outline               1459 non-null   object \n",
      " 8   Utility_Type               1459 non-null   object \n",
      " 9   Lot_Configuration          1459 non-null   object \n",
      " 10  Property_Slope             1459 non-null   object \n",
      " 11  Neighborhood               1459 non-null   object \n",
      " 12  Condition1                 1459 non-null   object \n",
      " 13  Condition2                 1459 non-null   object \n",
      " 14  House_Type                 1459 non-null   object \n",
      " 15  House_Design               1459 non-null   object \n",
      " 16  Overall_Material           1459 non-null   int64  \n",
      " 17  House_Condition            1459 non-null   int64  \n",
      " 18  Construction_Year          1459 non-null   int64  \n",
      " 19  Remodel_Year               1459 non-null   int64  \n",
      " 20  Roof_Design                1459 non-null   object \n",
      " 21  Roof_Quality               1459 non-null   object \n",
      " 22  Exterior1st                1459 non-null   object \n",
      " 23  Exterior2nd                1459 non-null   object \n",
      " 24  Brick_Veneer_Type          1459 non-null   object \n",
      " 25  Brick_Veneer_Area          1459 non-null   float64\n",
      " 26  Exterior_Material          1459 non-null   object \n",
      " 27  Exterior_Condition         1459 non-null   object \n",
      " 28  Foundation_Type            1459 non-null   object \n",
      " 29  Basement_Height            1459 non-null   object \n",
      " 30  Basement_Condition         1459 non-null   object \n",
      " 31  Exposure_Level             1459 non-null   object \n",
      " 32  BsmtFinType1               1459 non-null   object \n",
      " 33  BsmtFinSF1                 1459 non-null   int64  \n",
      " 34  BsmtFinType2               1459 non-null   object \n",
      " 35  BsmtFinSF2                 1459 non-null   int64  \n",
      " 36  BsmtUnfSF                  1459 non-null   int64  \n",
      " 37  Total_Basement_Area        1459 non-null   int64  \n",
      " 38  Heating_Type               1459 non-null   object \n",
      " 39  Heating_Quality            1459 non-null   object \n",
      " 40  Air_Conditioning           1459 non-null   object \n",
      " 41  Electrical_System          1459 non-null   object \n",
      " 42  First_Floor_Area           1459 non-null   int64  \n",
      " 43  Second_Floor_Area          1459 non-null   int64  \n",
      " 44  LowQualFinSF               1459 non-null   int64  \n",
      " 45  Grade_Living_Area          1459 non-null   int64  \n",
      " 46  Underground_Full_Bathroom  1459 non-null   int64  \n",
      " 47  Underground_Half_Bathroom  1459 non-null   int64  \n",
      " 48  Full_Bathroom_Above_Grade  1459 non-null   int64  \n",
      " 49  Half_Bathroom_Above_Grade  1459 non-null   int64  \n",
      " 50  Bedroom_Above_Grade        1459 non-null   int64  \n",
      " 51  Kitchen_Above_Grade        1459 non-null   int64  \n",
      " 52  Kitchen_Quality            1459 non-null   object \n",
      " 53  Rooms_Above_Grade          1459 non-null   int64  \n",
      " 54  Functional_Rate            1459 non-null   object \n",
      " 55  Fireplaces                 1459 non-null   int64  \n",
      " 56  Fireplace_Quality          1459 non-null   object \n",
      " 57  Garage                     1459 non-null   object \n",
      " 58  Garage_Built_Year          1459 non-null   float64\n",
      " 59  Garage_Finish_Year         1459 non-null   object \n",
      " 60  Garage_Size                1459 non-null   int64  \n",
      " 61  Garage_Area                1459 non-null   float64\n",
      " 62  Garage_Quality             1459 non-null   object \n",
      " 63  Garage_Condition           1459 non-null   object \n",
      " 64  Pavedd_Drive               1459 non-null   object \n",
      " 65  W_Deck_Area                1459 non-null   float64\n",
      " 66  Open_Lobby_Area            1459 non-null   float64\n",
      " 67  Enclosed_Lobby_Area        1459 non-null   float64\n",
      " 68  Three_Season_Lobby_Area    1459 non-null   int64  \n",
      " 69  Screen_Lobby_Area          1459 non-null   int64  \n",
      " 70  Pool_Area                  1459 non-null   int64  \n",
      " 71  Pool_Quality               1459 non-null   object \n",
      " 72  Fence_Quality              1459 non-null   object \n",
      " 73  Miscellaneous_Feature      1459 non-null   object \n",
      " 74  Miscellaneous_Value        1459 non-null   int64  \n",
      " 75  Month_Sold                 1459 non-null   int64  \n",
      " 76  Year_Sold                  1459 non-null   int64  \n",
      " 77  Sale_Type                  1459 non-null   object \n",
      " 78  Sale_Condition             1459 non-null   object \n",
      " 79  Sale_Price                 1459 non-null   int64  \n",
      "dtypes: float64(7), int64(30), object(43)\n",
      "memory usage: 912.0+ KB\n"
     ]
    }
   ],
   "source": [
    "prop.info()"
   ]
  },
  {
   "cell_type": "code",
   "execution_count": 59,
   "id": "cac9df01",
   "metadata": {},
   "outputs": [
    {
     "data": {
      "text/plain": [
       "array(['CollgCr', 'Veenker', 'Crawfor', 'NoRidge', 'Mitchel', 'Somerst',\n",
       "       'NWAmes', 'OldTown', 'BrkSide', 'Sawyer', 'NridgHt', 'NAmes',\n",
       "       'SawyerW', 'IDOTRR', 'MeadowV', 'Edwards', 'Timber', 'Gilbert',\n",
       "       'StoneBr', 'ClearCr', 'NPkVill', 'Blmngtn', 'BrDale', 'SWISU',\n",
       "       'Blueste'], dtype=object)"
      ]
     },
     "execution_count": 59,
     "metadata": {},
     "output_type": "execute_result"
    }
   ],
   "source": [
    "prop.Neighborhood               .unique()\n",
    "#prop.Neighborhood               .value_counts()"
   ]
  },
  {
   "cell_type": "code",
   "execution_count": 60,
   "id": "e0c39dee",
   "metadata": {},
   "outputs": [
    {
     "data": {
      "text/plain": [
       "array(['Norm', 'Feedr', 'PosN', 'Artery', 'RRAe', 'RRNn', 'RRAn', 'PosA',\n",
       "       'RRNe'], dtype=object)"
      ]
     },
     "execution_count": 60,
     "metadata": {},
     "output_type": "execute_result"
    }
   ],
   "source": [
    "prop.Condition1 .unique()"
   ]
  },
  {
   "cell_type": "code",
   "execution_count": 61,
   "id": "a1cfce1e",
   "metadata": {},
   "outputs": [],
   "source": [
    "prop.Zoning_Class.replace({'RLD':1, 'RMD':2, 'Commer':3, 'FVR':4, 'RHD':5}, inplace=True)\n",
    "prop.Road_Type.replace({'Paved':0, 'Gravel':1}, inplace=True)\n",
    "prop.Lane_Type.replace({'Grvl':1, 'Paved':0}, inplace=True)\n",
    "prop.Property_Shape.replace({'Reg':0, 'IR1':1, 'IR2':2, 'IR3':3}, inplace=True)\n",
    "prop.Land_Outline.replace({'Lvl':0, 'Bnk':1, 'Low':2, 'HLS':3}, inplace=True)  \n",
    "prop.Utility_Type.replace({'AllPub':0, 'NoSeWa':1}, inplace=True)\n",
    "prop.Lot_Configuration.replace({'I':0, 'FR2P':1, 'C':2, 'CulDSac':3, 'FR3P':4}, inplace=True)\n",
    "prop.Property_Slope.replace({'GS':0, 'MS':1, 'SS':2}, inplace=True)\n",
    "prop.Condition1.replace({'Norm':0, 'Feedr':1, 'PosN':2, 'Artery':3, 'RRAe':4, 'RRNn':5, 'RRAn':6, 'PosA':7,\n",
    "       'RRNe':8}, inplace=True)"
   ]
  },
  {
   "cell_type": "code",
   "execution_count": 62,
   "id": "2122a6f9",
   "metadata": {},
   "outputs": [
    {
     "data": {
      "text/plain": [
       "array(['CollgCr', 'Veenker', 'Crawfor', 'NoRidge', 'Mitchel', 'Somerst',\n",
       "       'NWAmes', 'OldTown', 'BrkSide', 'Sawyer', 'NridgHt', 'NAmes',\n",
       "       'SawyerW', 'IDOTRR', 'MeadowV', 'Edwards', 'Timber', 'Gilbert',\n",
       "       'StoneBr', 'ClearCr', 'NPkVill', 'Blmngtn', 'BrDale', 'SWISU',\n",
       "       'Blueste'], dtype=object)"
      ]
     },
     "execution_count": 62,
     "metadata": {},
     "output_type": "execute_result"
    }
   ],
   "source": [
    "prop.Neighborhood.unique()"
   ]
  },
  {
   "cell_type": "code",
   "execution_count": 63,
   "id": "cbe7dadc",
   "metadata": {},
   "outputs": [],
   "source": [
    "prop.Neighborhood.replace({'CollgCr':0,'Veenker':1, 'Crawfor':2, 'NoRidge':3, 'Mitchel':4, 'Somerst':5,\n",
    "       'NWAmes':6, 'OldTown':7, 'BrkSide':8, 'Sawyer':9, 'NridgHt':10, 'NAmes':11,\n",
    "       'SawyerW':12, 'IDOTRR':13, 'MeadowV':14, 'Edwards':15, 'Timber':16, 'Gilbert':17,\n",
    "       'StoneBr':18, 'ClearCr':19, 'NPkVill':20, 'Blmngtn':21, 'BrDale':22, 'SWISU':23,\n",
    "       'Blueste':24},inplace=True)\n",
    "prop.Condition2 .replace({'Norm':0, 'Artery':1, 'RRNn':2, 'Feedr':3, 'PosN':4, 'PosA':5, 'RRAn':6, \n",
    "                          'RRAe':7},inplace =True)\n",
    "prop.House_Type.replace({'1Fam':1, '2fmCon':2, 'Duplex':3, 'TwnhsE':4, 'Twnhs':5},inplace=True)\n",
    "prop.House_Design.replace({'2Story':2, '1Story':1, '1.5Fin':3, '1.5Unf':4, 'SFoyer':5, 'SLvl':6, '2.5Unf':7,\n",
    "       '2.5Fin':8},inplace=True)   \n",
    "prop.Roof_Design.replace({'Gable':5, 'Hip':4, 'Gambrel':3, 'Mansard':2, 'Flat':1, 'Shed':0},inplace=True)   \n",
    "prop.Roof_Quality.replace({'SS':0, 'WSh':1, 'ME':2, 'WS':3, 'M':4, 'TG':5, 'R':6, 'CT':7},inplace=True)     \n",
    "prop.Exterior1st.replace({'VinylSd':0, 'MetalSd':1, 'Wd Sdng':2, 'HdBoard':3, 'BrkFace':4, 'WdShing':5,\n",
    "       'CemntBd':6, 'Plywood':7, 'AsbShng':8, 'Stucco':9, 'BrkComm':10, 'AsphShn':11,\n",
    "       'Stone':12, 'ImStucc':13, 'CBlock':14},inplace=True)    \n",
    "prop.Exterior2nd.replace({'VinylSd':0, 'MetalSd':1, 'Wd Shng':2, 'HdBoard':3, 'Plywood':4, 'Wd Sdng':5,\n",
    "       'CmentBd':6, 'BrkFace':7, 'Stucco':8, 'AsbShng':9, 'Brk Cmn':10, 'ImStucc':11,\n",
    "       'AsphShn':12, 'Stone':13, 'Other':14, 'CBlock':15},inplace=True)\n",
    "prop.Brick_Veneer_Type.replace({'BrkFace':1, 'None':0, 'Stone':2, 'BrkCmn':3},inplace=True)     \n",
    "prop.Exterior_Material.replace({'Gd':0, 'TA':1, 'Ex':2, 'Fa':3},inplace=True) \n",
    "prop.Exterior_Condition.replace({'TA':0, 'Gd':1, 'Fa':2, 'Po':3, 'Ex':4},inplace=True)\n",
    "prop.Foundation_Type.replace({'PC':0, 'CB':1, 'BT':2, 'W':3, 'SL':4, 'S':5},inplace=True)   \n",
    "prop.Basement_Height .replace({'Gd':0, 'TA':1, 'Ex':2, 'Fa':3},inplace=True)           \n",
    "prop.Basement_Condition.replace({'Gd':0, 'TA':1, 'Po':2, 'Fa':3},inplace=True)     \n",
    "prop.Exposure_Level .replace({'No':0, 'Gd':1, 'Mn':2, 'Av':3},inplace=True)  \n",
    "prop.BsmtFinType1.replace({'GLQ':0, 'ALQ':1, 'Unf':2, 'Rec':3, 'BLQ':4, 'LwQ':5},inplace=True)      \n",
    "prop.BsmtFinType2 .replace({'Unf':2, 'BLQ':4, 'ALQ':1, 'Rec':3, 'LwQ':5, 'GLQ':0},inplace=True)    \n",
    "prop.Heating_Type.replace({'GasA':0, 'GasW':1, 'Grav':2, 'Wall':3, 'OthW':4, 'Floor':5},inplace=True)\n",
    "prop.Heating_Quality .replace({'Ex':0, 'Gd':1, 'TA':2, 'Fa':3, 'Po':4},inplace=True)           \n",
    "prop.Air_Conditioning  .replace({'Y':1, 'N':0},inplace=True)\n",
    "prop.Electrical_System  .replace({'SBrkr':0, 'FuseF':1, 'FuseA':2, 'FuseP':3, 'Mix':4},inplace=True)        \n",
    "prop.Kitchen_Quality .replace({'Gd':0, 'TA':1, 'Ex':2, 'Fa':3},inplace=True)\n",
    "prop.Functional_Rate  .replace({'TF':0, 'MD1':1, 'MajD1':2, 'MD2':3, 'MD':4, 'MajD2':5, 'SD':6, 'MS':7},inplace=True)          \n",
    "prop.Fireplace_Quality .replace({'Ex':0, 'Gd':1, 'TA':2, 'Fa':3, 'Po':4},inplace=True)    \n",
    "prop.Garage   .replace({'Attchd':0, 'Detchd':1, 'BuiltIn':2, 'CarPort':3, 'Basment':4, '2TFes':5,\n",
    "       '2Types':6},inplace=True)              \n",
    "prop.Garage_Finish_Year.replace({'RFn':2, 'Unf':0, 'Fin':1},inplace=True)"
   ]
  },
  {
   "cell_type": "code",
   "execution_count": 64,
   "id": "4d9b2a9c",
   "metadata": {},
   "outputs": [
    {
     "name": "stdout",
     "output_type": "stream",
     "text": [
      "<class 'pandas.core.frame.DataFrame'>\n",
      "RangeIndex: 1459 entries, 0 to 1458\n",
      "Data columns (total 80 columns):\n",
      " #   Column                     Non-Null Count  Dtype  \n",
      "---  ------                     --------------  -----  \n",
      " 0   Building_Class             1459 non-null   int64  \n",
      " 1   Zoning_Class               1459 non-null   int64  \n",
      " 2   Lot_Extent                 1459 non-null   float64\n",
      " 3   Lot_Size                   1459 non-null   int64  \n",
      " 4   Road_Type                  1459 non-null   int64  \n",
      " 5   Lane_Type                  1459 non-null   int64  \n",
      " 6   Property_Shape             1459 non-null   int64  \n",
      " 7   Land_Outline               1459 non-null   int64  \n",
      " 8   Utility_Type               1459 non-null   int64  \n",
      " 9   Lot_Configuration          1459 non-null   int64  \n",
      " 10  Property_Slope             1459 non-null   int64  \n",
      " 11  Neighborhood               1459 non-null   int64  \n",
      " 12  Condition1                 1459 non-null   int64  \n",
      " 13  Condition2                 1459 non-null   int64  \n",
      " 14  House_Type                 1459 non-null   int64  \n",
      " 15  House_Design               1459 non-null   int64  \n",
      " 16  Overall_Material           1459 non-null   int64  \n",
      " 17  House_Condition            1459 non-null   int64  \n",
      " 18  Construction_Year          1459 non-null   int64  \n",
      " 19  Remodel_Year               1459 non-null   int64  \n",
      " 20  Roof_Design                1459 non-null   int64  \n",
      " 21  Roof_Quality               1459 non-null   int64  \n",
      " 22  Exterior1st                1459 non-null   int64  \n",
      " 23  Exterior2nd                1459 non-null   int64  \n",
      " 24  Brick_Veneer_Type          1459 non-null   int64  \n",
      " 25  Brick_Veneer_Area          1459 non-null   float64\n",
      " 26  Exterior_Material          1459 non-null   int64  \n",
      " 27  Exterior_Condition         1459 non-null   int64  \n",
      " 28  Foundation_Type            1459 non-null   int64  \n",
      " 29  Basement_Height            1459 non-null   int64  \n",
      " 30  Basement_Condition         1459 non-null   int64  \n",
      " 31  Exposure_Level             1459 non-null   int64  \n",
      " 32  BsmtFinType1               1459 non-null   int64  \n",
      " 33  BsmtFinSF1                 1459 non-null   int64  \n",
      " 34  BsmtFinType2               1459 non-null   int64  \n",
      " 35  BsmtFinSF2                 1459 non-null   int64  \n",
      " 36  BsmtUnfSF                  1459 non-null   int64  \n",
      " 37  Total_Basement_Area        1459 non-null   int64  \n",
      " 38  Heating_Type               1459 non-null   int64  \n",
      " 39  Heating_Quality            1459 non-null   int64  \n",
      " 40  Air_Conditioning           1459 non-null   int64  \n",
      " 41  Electrical_System          1459 non-null   int64  \n",
      " 42  First_Floor_Area           1459 non-null   int64  \n",
      " 43  Second_Floor_Area          1459 non-null   int64  \n",
      " 44  LowQualFinSF               1459 non-null   int64  \n",
      " 45  Grade_Living_Area          1459 non-null   int64  \n",
      " 46  Underground_Full_Bathroom  1459 non-null   int64  \n",
      " 47  Underground_Half_Bathroom  1459 non-null   int64  \n",
      " 48  Full_Bathroom_Above_Grade  1459 non-null   int64  \n",
      " 49  Half_Bathroom_Above_Grade  1459 non-null   int64  \n",
      " 50  Bedroom_Above_Grade        1459 non-null   int64  \n",
      " 51  Kitchen_Above_Grade        1459 non-null   int64  \n",
      " 52  Kitchen_Quality            1459 non-null   int64  \n",
      " 53  Rooms_Above_Grade          1459 non-null   int64  \n",
      " 54  Functional_Rate            1459 non-null   int64  \n",
      " 55  Fireplaces                 1459 non-null   int64  \n",
      " 56  Fireplace_Quality          1459 non-null   int64  \n",
      " 57  Garage                     1459 non-null   int64  \n",
      " 58  Garage_Built_Year          1459 non-null   float64\n",
      " 59  Garage_Finish_Year         1459 non-null   int64  \n",
      " 60  Garage_Size                1459 non-null   int64  \n",
      " 61  Garage_Area                1459 non-null   float64\n",
      " 62  Garage_Quality             1459 non-null   object \n",
      " 63  Garage_Condition           1459 non-null   object \n",
      " 64  Pavedd_Drive               1459 non-null   object \n",
      " 65  W_Deck_Area                1459 non-null   float64\n",
      " 66  Open_Lobby_Area            1459 non-null   float64\n",
      " 67  Enclosed_Lobby_Area        1459 non-null   float64\n",
      " 68  Three_Season_Lobby_Area    1459 non-null   int64  \n",
      " 69  Screen_Lobby_Area          1459 non-null   int64  \n",
      " 70  Pool_Area                  1459 non-null   int64  \n",
      " 71  Pool_Quality               1459 non-null   object \n",
      " 72  Fence_Quality              1459 non-null   object \n",
      " 73  Miscellaneous_Feature      1459 non-null   object \n",
      " 74  Miscellaneous_Value        1459 non-null   int64  \n",
      " 75  Month_Sold                 1459 non-null   int64  \n",
      " 76  Year_Sold                  1459 non-null   int64  \n",
      " 77  Sale_Type                  1459 non-null   object \n",
      " 78  Sale_Condition             1459 non-null   object \n",
      " 79  Sale_Price                 1459 non-null   int64  \n",
      "dtypes: float64(7), int64(65), object(8)\n",
      "memory usage: 912.0+ KB\n"
     ]
    }
   ],
   "source": [
    "prop.info()"
   ]
  },
  {
   "cell_type": "code",
   "execution_count": 65,
   "id": "306597e7",
   "metadata": {},
   "outputs": [
    {
     "data": {
      "text/plain": [
       "array(['Normal', 'Abnorml', 'Partial', 'AdjLand', 'Alloca', 'Family'],\n",
       "      dtype=object)"
      ]
     },
     "execution_count": 65,
     "metadata": {},
     "output_type": "execute_result"
    }
   ],
   "source": [
    "prop.Sale_Condition.unique()"
   ]
  },
  {
   "cell_type": "code",
   "execution_count": 66,
   "id": "87acd48f",
   "metadata": {},
   "outputs": [],
   "source": [
    "prop.Garage_Quality   .replace({'TA':0, 'Fa':1, 'Gd':2, 'Ex':3, 'Po':4},inplace=True) \n",
    "prop.Garage_Condition .replace({'TA':0, 'Fa':1, 'Gd':2, 'Ex':3, 'Po':4},inplace=True)    \n",
    "prop.Pavedd_Drive  .replace({'Y':1, 'N':0, 'P':2},inplace=True)  \n",
    "prop.Pool_Quality .replace({'Gd':0, 'Ex':1, 'Fa':2},inplace=True)\n",
    "prop.Fence_Quality  .replace({'MnPrv':0, 'GdWo':1, 'GdPrv':2, 'MnWw':3},inplace=True)\n",
    "prop.Miscellaneous_Feature   .replace({'Shed':0, 'Gar2':1, 'Othr':2, 'TenC':3},inplace=True) \n",
    "prop.Sale_Condition.replace({'Normal':0, 'Abnorml':1, 'Partial':2, 'AdjLand':3,\n",
    "                             'Alloca':4, 'Family':5},inplace=True)\n",
    "prop.Sale_Type    .replace({'WD':0, 'New':1, 'COD':2, 'ConLD':3, 'ConLI':4, 'CWD':5,\n",
    "                            'ConLw':6, 'Con':7, 'Oth':8},inplace=True)    "
   ]
  },
  {
   "cell_type": "code",
   "execution_count": 67,
   "id": "790c8010",
   "metadata": {},
   "outputs": [
    {
     "name": "stdout",
     "output_type": "stream",
     "text": [
      "<class 'pandas.core.frame.DataFrame'>\n",
      "RangeIndex: 1459 entries, 0 to 1458\n",
      "Data columns (total 80 columns):\n",
      " #   Column                     Non-Null Count  Dtype  \n",
      "---  ------                     --------------  -----  \n",
      " 0   Building_Class             1459 non-null   int64  \n",
      " 1   Zoning_Class               1459 non-null   int64  \n",
      " 2   Lot_Extent                 1459 non-null   float64\n",
      " 3   Lot_Size                   1459 non-null   int64  \n",
      " 4   Road_Type                  1459 non-null   int64  \n",
      " 5   Lane_Type                  1459 non-null   int64  \n",
      " 6   Property_Shape             1459 non-null   int64  \n",
      " 7   Land_Outline               1459 non-null   int64  \n",
      " 8   Utility_Type               1459 non-null   int64  \n",
      " 9   Lot_Configuration          1459 non-null   int64  \n",
      " 10  Property_Slope             1459 non-null   int64  \n",
      " 11  Neighborhood               1459 non-null   int64  \n",
      " 12  Condition1                 1459 non-null   int64  \n",
      " 13  Condition2                 1459 non-null   int64  \n",
      " 14  House_Type                 1459 non-null   int64  \n",
      " 15  House_Design               1459 non-null   int64  \n",
      " 16  Overall_Material           1459 non-null   int64  \n",
      " 17  House_Condition            1459 non-null   int64  \n",
      " 18  Construction_Year          1459 non-null   int64  \n",
      " 19  Remodel_Year               1459 non-null   int64  \n",
      " 20  Roof_Design                1459 non-null   int64  \n",
      " 21  Roof_Quality               1459 non-null   int64  \n",
      " 22  Exterior1st                1459 non-null   int64  \n",
      " 23  Exterior2nd                1459 non-null   int64  \n",
      " 24  Brick_Veneer_Type          1459 non-null   int64  \n",
      " 25  Brick_Veneer_Area          1459 non-null   float64\n",
      " 26  Exterior_Material          1459 non-null   int64  \n",
      " 27  Exterior_Condition         1459 non-null   int64  \n",
      " 28  Foundation_Type            1459 non-null   int64  \n",
      " 29  Basement_Height            1459 non-null   int64  \n",
      " 30  Basement_Condition         1459 non-null   int64  \n",
      " 31  Exposure_Level             1459 non-null   int64  \n",
      " 32  BsmtFinType1               1459 non-null   int64  \n",
      " 33  BsmtFinSF1                 1459 non-null   int64  \n",
      " 34  BsmtFinType2               1459 non-null   int64  \n",
      " 35  BsmtFinSF2                 1459 non-null   int64  \n",
      " 36  BsmtUnfSF                  1459 non-null   int64  \n",
      " 37  Total_Basement_Area        1459 non-null   int64  \n",
      " 38  Heating_Type               1459 non-null   int64  \n",
      " 39  Heating_Quality            1459 non-null   int64  \n",
      " 40  Air_Conditioning           1459 non-null   int64  \n",
      " 41  Electrical_System          1459 non-null   int64  \n",
      " 42  First_Floor_Area           1459 non-null   int64  \n",
      " 43  Second_Floor_Area          1459 non-null   int64  \n",
      " 44  LowQualFinSF               1459 non-null   int64  \n",
      " 45  Grade_Living_Area          1459 non-null   int64  \n",
      " 46  Underground_Full_Bathroom  1459 non-null   int64  \n",
      " 47  Underground_Half_Bathroom  1459 non-null   int64  \n",
      " 48  Full_Bathroom_Above_Grade  1459 non-null   int64  \n",
      " 49  Half_Bathroom_Above_Grade  1459 non-null   int64  \n",
      " 50  Bedroom_Above_Grade        1459 non-null   int64  \n",
      " 51  Kitchen_Above_Grade        1459 non-null   int64  \n",
      " 52  Kitchen_Quality            1459 non-null   int64  \n",
      " 53  Rooms_Above_Grade          1459 non-null   int64  \n",
      " 54  Functional_Rate            1459 non-null   int64  \n",
      " 55  Fireplaces                 1459 non-null   int64  \n",
      " 56  Fireplace_Quality          1459 non-null   int64  \n",
      " 57  Garage                     1459 non-null   int64  \n",
      " 58  Garage_Built_Year          1459 non-null   float64\n",
      " 59  Garage_Finish_Year         1459 non-null   int64  \n",
      " 60  Garage_Size                1459 non-null   int64  \n",
      " 61  Garage_Area                1459 non-null   float64\n",
      " 62  Garage_Quality             1459 non-null   int64  \n",
      " 63  Garage_Condition           1459 non-null   int64  \n",
      " 64  Pavedd_Drive               1459 non-null   int64  \n",
      " 65  W_Deck_Area                1459 non-null   float64\n",
      " 66  Open_Lobby_Area            1459 non-null   float64\n",
      " 67  Enclosed_Lobby_Area        1459 non-null   float64\n",
      " 68  Three_Season_Lobby_Area    1459 non-null   int64  \n",
      " 69  Screen_Lobby_Area          1459 non-null   int64  \n",
      " 70  Pool_Area                  1459 non-null   int64  \n",
      " 71  Pool_Quality               1459 non-null   int64  \n",
      " 72  Fence_Quality              1459 non-null   int64  \n",
      " 73  Miscellaneous_Feature      1459 non-null   int64  \n",
      " 74  Miscellaneous_Value        1459 non-null   int64  \n",
      " 75  Month_Sold                 1459 non-null   int64  \n",
      " 76  Year_Sold                  1459 non-null   int64  \n",
      " 77  Sale_Type                  1459 non-null   int64  \n",
      " 78  Sale_Condition             1459 non-null   int64  \n",
      " 79  Sale_Price                 1459 non-null   int64  \n",
      "dtypes: float64(7), int64(73)\n",
      "memory usage: 912.0 KB\n"
     ]
    }
   ],
   "source": [
    "prop.info()"
   ]
  },
  {
   "cell_type": "code",
   "execution_count": 68,
   "id": "64817ebc",
   "metadata": {},
   "outputs": [],
   "source": [
    "# gradient descent"
   ]
  },
  {
   "cell_type": "code",
   "execution_count": 69,
   "id": "004166b5",
   "metadata": {},
   "outputs": [],
   "source": [
    "prop= prop.drop(['Lane_Type' , 'Fireplace_Quality' , 'Pool_Quality' , 'Fence_Quality' , 'Miscellaneous_Feature'  ], axis=1)"
   ]
  },
  {
   "cell_type": "code",
   "execution_count": 70,
   "id": "e86f4c44",
   "metadata": {},
   "outputs": [],
   "source": [
    "from sklearn.model_selection import train_test_split"
   ]
  },
  {
   "cell_type": "code",
   "execution_count": 71,
   "id": "f3fb83c3",
   "metadata": {},
   "outputs": [],
   "source": [
    "pa_train,pa_test= train_test_split(prop,test_size=.2)"
   ]
  },
  {
   "cell_type": "code",
   "execution_count": 72,
   "id": "9d1da5c2",
   "metadata": {},
   "outputs": [],
   "source": [
    "train_x= pa_train.iloc[:,0:-1]\n",
    "train_y=pa_train.iloc[:,-1]\n",
    "\n",
    "test_x= pa_test.iloc[:,0:-1]\n",
    "test_y= pa_test.iloc[:,-1]"
   ]
  },
  {
   "cell_type": "code",
   "execution_count": 73,
   "id": "e6584e20",
   "metadata": {},
   "outputs": [],
   "source": [
    "from sklearn import preprocessing\n",
    "train_x= preprocessing.scale(train_x)"
   ]
  },
  {
   "cell_type": "code",
   "execution_count": 74,
   "id": "18cae2c1",
   "metadata": {},
   "outputs": [],
   "source": [
    "from sklearn.linear_model import SGDRegressor\n",
    "sgd= SGDRegressor()"
   ]
  },
  {
   "cell_type": "code",
   "execution_count": 75,
   "id": "0ee4c338",
   "metadata": {},
   "outputs": [
    {
     "data": {
      "text/html": [
       "<style>#sk-container-id-1 {color: black;background-color: white;}#sk-container-id-1 pre{padding: 0;}#sk-container-id-1 div.sk-toggleable {background-color: white;}#sk-container-id-1 label.sk-toggleable__label {cursor: pointer;display: block;width: 100%;margin-bottom: 0;padding: 0.3em;box-sizing: border-box;text-align: center;}#sk-container-id-1 label.sk-toggleable__label-arrow:before {content: \"▸\";float: left;margin-right: 0.25em;color: #696969;}#sk-container-id-1 label.sk-toggleable__label-arrow:hover:before {color: black;}#sk-container-id-1 div.sk-estimator:hover label.sk-toggleable__label-arrow:before {color: black;}#sk-container-id-1 div.sk-toggleable__content {max-height: 0;max-width: 0;overflow: hidden;text-align: left;background-color: #f0f8ff;}#sk-container-id-1 div.sk-toggleable__content pre {margin: 0.2em;color: black;border-radius: 0.25em;background-color: #f0f8ff;}#sk-container-id-1 input.sk-toggleable__control:checked~div.sk-toggleable__content {max-height: 200px;max-width: 100%;overflow: auto;}#sk-container-id-1 input.sk-toggleable__control:checked~label.sk-toggleable__label-arrow:before {content: \"▾\";}#sk-container-id-1 div.sk-estimator input.sk-toggleable__control:checked~label.sk-toggleable__label {background-color: #d4ebff;}#sk-container-id-1 div.sk-label input.sk-toggleable__control:checked~label.sk-toggleable__label {background-color: #d4ebff;}#sk-container-id-1 input.sk-hidden--visually {border: 0;clip: rect(1px 1px 1px 1px);clip: rect(1px, 1px, 1px, 1px);height: 1px;margin: -1px;overflow: hidden;padding: 0;position: absolute;width: 1px;}#sk-container-id-1 div.sk-estimator {font-family: monospace;background-color: #f0f8ff;border: 1px dotted black;border-radius: 0.25em;box-sizing: border-box;margin-bottom: 0.5em;}#sk-container-id-1 div.sk-estimator:hover {background-color: #d4ebff;}#sk-container-id-1 div.sk-parallel-item::after {content: \"\";width: 100%;border-bottom: 1px solid gray;flex-grow: 1;}#sk-container-id-1 div.sk-label:hover label.sk-toggleable__label {background-color: #d4ebff;}#sk-container-id-1 div.sk-serial::before {content: \"\";position: absolute;border-left: 1px solid gray;box-sizing: border-box;top: 0;bottom: 0;left: 50%;z-index: 0;}#sk-container-id-1 div.sk-serial {display: flex;flex-direction: column;align-items: center;background-color: white;padding-right: 0.2em;padding-left: 0.2em;position: relative;}#sk-container-id-1 div.sk-item {position: relative;z-index: 1;}#sk-container-id-1 div.sk-parallel {display: flex;align-items: stretch;justify-content: center;background-color: white;position: relative;}#sk-container-id-1 div.sk-item::before, #sk-container-id-1 div.sk-parallel-item::before {content: \"\";position: absolute;border-left: 1px solid gray;box-sizing: border-box;top: 0;bottom: 0;left: 50%;z-index: -1;}#sk-container-id-1 div.sk-parallel-item {display: flex;flex-direction: column;z-index: 1;position: relative;background-color: white;}#sk-container-id-1 div.sk-parallel-item:first-child::after {align-self: flex-end;width: 50%;}#sk-container-id-1 div.sk-parallel-item:last-child::after {align-self: flex-start;width: 50%;}#sk-container-id-1 div.sk-parallel-item:only-child::after {width: 0;}#sk-container-id-1 div.sk-dashed-wrapped {border: 1px dashed gray;margin: 0 0.4em 0.5em 0.4em;box-sizing: border-box;padding-bottom: 0.4em;background-color: white;}#sk-container-id-1 div.sk-label label {font-family: monospace;font-weight: bold;display: inline-block;line-height: 1.2em;}#sk-container-id-1 div.sk-label-container {text-align: center;}#sk-container-id-1 div.sk-container {/* jupyter's `normalize.less` sets `[hidden] { display: none; }` but bootstrap.min.css set `[hidden] { display: none !important; }` so we also need the `!important` here to be able to override the default hidden behavior on the sphinx rendered scikit-learn.org. See: https://github.com/scikit-learn/scikit-learn/issues/21755 */display: inline-block !important;position: relative;}#sk-container-id-1 div.sk-text-repr-fallback {display: none;}</style><div id=\"sk-container-id-1\" class=\"sk-top-container\"><div class=\"sk-text-repr-fallback\"><pre>SGDRegressor()</pre><b>In a Jupyter environment, please rerun this cell to show the HTML representation or trust the notebook. <br />On GitHub, the HTML representation is unable to render, please try loading this page with nbviewer.org.</b></div><div class=\"sk-container\" hidden><div class=\"sk-item\"><div class=\"sk-estimator sk-toggleable\"><input class=\"sk-toggleable__control sk-hidden--visually\" id=\"sk-estimator-id-1\" type=\"checkbox\" checked><label for=\"sk-estimator-id-1\" class=\"sk-toggleable__label sk-toggleable__label-arrow\">SGDRegressor</label><div class=\"sk-toggleable__content\"><pre>SGDRegressor()</pre></div></div></div></div></div>"
      ],
      "text/plain": [
       "SGDRegressor()"
      ]
     },
     "execution_count": 75,
     "metadata": {},
     "output_type": "execute_result"
    }
   ],
   "source": [
    "sgd.fit(train_x,train_y)"
   ]
  },
  {
   "cell_type": "code",
   "execution_count": 76,
   "id": "9d1c061b",
   "metadata": {},
   "outputs": [
    {
     "data": {
      "text/plain": [
       "0.8750915236755938"
      ]
     },
     "execution_count": 76,
     "metadata": {},
     "output_type": "execute_result"
    }
   ],
   "source": [
    "sgd.score(train_x,train_y)"
   ]
  },
  {
   "cell_type": "code",
   "execution_count": 77,
   "id": "f5a1e5b5",
   "metadata": {},
   "outputs": [],
   "source": [
    "test_x= preprocessing.scale(test_x)"
   ]
  },
  {
   "cell_type": "code",
   "execution_count": 78,
   "id": "a02f1a52",
   "metadata": {},
   "outputs": [
    {
     "data": {
      "text/plain": [
       "array([205008., 206912., 137924., 166591., 175905., 205372., 189165.,\n",
       "       251694., 119144., 123407., 210707., 158530., 202302., 140073.,\n",
       "       152401., 169304., 162556.,  69128., 181140., 142757., 405947.,\n",
       "       179250., 185548., 177836., 149224., 101211., 267590., 237480.,\n",
       "       138019., 124709., 282292., 198283., 206483., 264337., 142700.,\n",
       "       301836., 161051., 245930., 199533., 161371., 158560., 364646.,\n",
       "       218905., 135785., 240989., 122351., 235643., 190263., 339586.,\n",
       "       226254., 352399., 152526., 187592., 214711., 145844.,  73128.,\n",
       "       120553., 356519., 221670., 299695., 128098., 308922., 109786.,\n",
       "       193169., 870919., 230516., 161401., 161659., 162730.,  68787.,\n",
       "       408758., 373534., 144253., 138216., 109154., 202648., 126052.,\n",
       "       185951.,  57546., 179510., 278722., 215620., 169310., 111534.,\n",
       "       226330., 170530., 192725., 195610., 115093., 197318., 138150.,\n",
       "        99773., 174938., 113720., 189150., 208543., 202632., 199570.,\n",
       "       203634., 114613., 211538., 112250.,  85327., 185108., 161973.,\n",
       "       121863., 134446., 273333., 197811., 145291., 161847., 165570.,\n",
       "       152768., 100868., 124216., 119629., 126380., 160437., 232044.,\n",
       "       242199., 193477., 182521., 192627., 232385., 135574., 142595.,\n",
       "       199480., 128657., 174230.,  92366., 146739., 130851., 110231.,\n",
       "       133825., 243754.,  70727., 247725., 219379., 157069., 351224.,\n",
       "       134736., 155109., 123635., 242888., 137480., 171202., 363314.,\n",
       "       207308., 110497., 141045., 201706., 173811., 135875.,  55676.,\n",
       "        39374., 374102., 160378., 185937., 288297., 149711., 226004.,\n",
       "        94962., 103734., 235528.,  94183., 207019., 243312., 183256.,\n",
       "       152634.,  78335., 199483., 196233., 236622., 201300., 375792.,\n",
       "       177109., 139998., 207474., 292285., 152858., 137111.,  56941.,\n",
       "       128237.,  89628.,  71412., 204409., 153310.,  58428., 242011.,\n",
       "        62450., 124787., 221329., 121184., 110496., 151859., 165740.,\n",
       "       270410., 242301., 179777., 185294., 211058., 177653., 302576.,\n",
       "        99115., 174261., 229553.,  47594., 222229., 161812., 204884.,\n",
       "       106930., 231386., 117793., 157127., 108818., 135497., 242177.,\n",
       "       237675., 106097., 234032.,  96004., 152355., 189807., 345611.,\n",
       "       140478., 270415., 340572., 160669., 105581., 299067., 113422.,\n",
       "       185596., 157094., 106599., 294977., 222292., 117733., 147342.,\n",
       "       148482., 221674., 177031.,  85446., 309143.,  76723., 102979.,\n",
       "       127441., 157501.,  50350., 286658., 120102., 171782., 140140.,\n",
       "       147395., 153207., 149736., 134481., 129322., 263766., 137687.,\n",
       "        90915., 142331., 213028., 213250., 185359., 229691., 174130.,\n",
       "       234918., 141777., 183448., 193502.,  99232., 174923., 189429.,\n",
       "       193648., 140572., 189160.,  98982., 275379., 260026., 197119.,\n",
       "       113546., 178820., 114504., 189397., 171125., 235934., 143840.,\n",
       "       202229., 191206., 340717., 149827., 262241.])"
      ]
     },
     "execution_count": 78,
     "metadata": {},
     "output_type": "execute_result"
    }
   ],
   "source": [
    "import numpy as np\n",
    "np.round(sgd.predict(test_x))\n",
    "\n"
   ]
  },
  {
   "cell_type": "code",
   "execution_count": 79,
   "id": "3675f1b6",
   "metadata": {},
   "outputs": [
    {
     "ename": "NameError",
     "evalue": "name 'ligreg' is not defined",
     "output_type": "error",
     "traceback": [
      "\u001b[1;31m---------------------------------------------------------------------------\u001b[0m",
      "\u001b[1;31mNameError\u001b[0m                                 Traceback (most recent call last)",
      "Cell \u001b[1;32mIn[79], line 1\u001b[0m\n\u001b[1;32m----> 1\u001b[0m \u001b[43mligreg\u001b[49m\u001b[38;5;241m.\u001b[39mscore(test_x,test_)\n",
      "\u001b[1;31mNameError\u001b[0m: name 'ligreg' is not defined"
     ]
    }
   ],
   "source": [
    "ligreg.score(test_x,test_)"
   ]
  },
  {
   "cell_type": "code",
   "execution_count": null,
   "id": "cc4525d8",
   "metadata": {},
   "outputs": [],
   "source": []
  }
 ],
 "metadata": {
  "kernelspec": {
   "display_name": "Python 3 (ipykernel)",
   "language": "python",
   "name": "python3"
  },
  "language_info": {
   "codemirror_mode": {
    "name": "ipython",
    "version": 3
   },
   "file_extension": ".py",
   "mimetype": "text/x-python",
   "name": "python",
   "nbconvert_exporter": "python",
   "pygments_lexer": "ipython3",
   "version": "3.10.9"
  }
 },
 "nbformat": 4,
 "nbformat_minor": 5
}
